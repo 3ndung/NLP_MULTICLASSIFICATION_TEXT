{
 "cells": [
  {
   "cell_type": "code",
   "execution_count": null,
   "metadata": {
    "id": "dUv3rw3faTZo"
   },
   "outputs": [],
   "source": [
    "import pandas as pd"
   ]
  },
  {
   "cell_type": "code",
   "execution_count": null,
   "metadata": {
    "id": "h3NeuqYLaeyV"
   },
   "outputs": [],
   "source": [
    "data = pd.read_excel('DATASET_JUDUL_BERITA.xlsx')"
   ]
  },
  {
   "cell_type": "code",
   "execution_count": null,
   "metadata": {
    "colab": {
     "base_uri": "https://localhost:8080/",
     "height": 363
    },
    "id": "qpF5Wc1rviz5",
    "outputId": "bd09accf-feb8-43f2-c758-b65fba314b42"
   },
   "outputs": [
    {
     "data": {
      "text/html": [
       "\n",
       "  <div id=\"df-6e5814a6-5c75-48ef-be47-ea9208f3825a\">\n",
       "    <div class=\"colab-df-container\">\n",
       "      <div>\n",
       "<style scoped>\n",
       "    .dataframe tbody tr th:only-of-type {\n",
       "        vertical-align: middle;\n",
       "    }\n",
       "\n",
       "    .dataframe tbody tr th {\n",
       "        vertical-align: top;\n",
       "    }\n",
       "\n",
       "    .dataframe thead th {\n",
       "        text-align: right;\n",
       "    }\n",
       "</style>\n",
       "<table border=\"1\" class=\"dataframe\">\n",
       "  <thead>\n",
       "    <tr style=\"text-align: right;\">\n",
       "      <th></th>\n",
       "      <th>Unnamed: 0</th>\n",
       "      <th>JUDUL</th>\n",
       "      <th>KATEGORI</th>\n",
       "    </tr>\n",
       "  </thead>\n",
       "  <tbody>\n",
       "    <tr>\n",
       "      <th>0</th>\n",
       "      <td>0</td>\n",
       "      <td>Total Aset Keuangan Syariah RI Tembus Rp2.200 ...</td>\n",
       "      <td>EKONOMI</td>\n",
       "    </tr>\n",
       "    <tr>\n",
       "      <th>1</th>\n",
       "      <td>1</td>\n",
       "      <td>VIDEO: Bagaimana Cara Kerja Robot Trading?</td>\n",
       "      <td>EKONOMI</td>\n",
       "    </tr>\n",
       "    <tr>\n",
       "      <th>2</th>\n",
       "      <td>2</td>\n",
       "      <td>5 Dampak Kenaikan Suku Bunga BI yang Bikin Beb...</td>\n",
       "      <td>EKONOMI</td>\n",
       "    </tr>\n",
       "    <tr>\n",
       "      <th>3</th>\n",
       "      <td>3</td>\n",
       "      <td>Heru Mundur dari Kursi Komisaris BTN Sebelum D...</td>\n",
       "      <td>EKONOMI</td>\n",
       "    </tr>\n",
       "    <tr>\n",
       "      <th>4</th>\n",
       "      <td>4</td>\n",
       "      <td>INFOGRAFIS: Efek Berantai Penguatan Dolar AS k...</td>\n",
       "      <td>EKONOMI</td>\n",
       "    </tr>\n",
       "    <tr>\n",
       "      <th>5</th>\n",
       "      <td>5</td>\n",
       "      <td>Rupiah Lunglai ke Rp15.695 per Dolar AS Imbas ...</td>\n",
       "      <td>EKONOMI</td>\n",
       "    </tr>\n",
       "    <tr>\n",
       "      <th>6</th>\n",
       "      <td>6</td>\n",
       "      <td>Moody's Pangkas Outlook Peringkat Utang Inggri...</td>\n",
       "      <td>EKONOMI</td>\n",
       "    </tr>\n",
       "    <tr>\n",
       "      <th>7</th>\n",
       "      <td>7</td>\n",
       "      <td>Suku Bunga The Fed Tekuk Rupiah Berlutut Nyari...</td>\n",
       "      <td>EKONOMI</td>\n",
       "    </tr>\n",
       "    <tr>\n",
       "      <th>8</th>\n",
       "      <td>8</td>\n",
       "      <td>Jasa Raharja Santuni 18 Korban Kebakaran KM Ca...</td>\n",
       "      <td>EKONOMI</td>\n",
       "    </tr>\n",
       "    <tr>\n",
       "      <th>9</th>\n",
       "      <td>9</td>\n",
       "      <td>Rupiah Menguat ke Rp15.563 usai Imbal Hasil Ob...</td>\n",
       "      <td>EKONOMI</td>\n",
       "    </tr>\n",
       "  </tbody>\n",
       "</table>\n",
       "</div>\n",
       "      <button class=\"colab-df-convert\" onclick=\"convertToInteractive('df-6e5814a6-5c75-48ef-be47-ea9208f3825a')\"\n",
       "              title=\"Convert this dataframe to an interactive table.\"\n",
       "              style=\"display:none;\">\n",
       "        \n",
       "  <svg xmlns=\"http://www.w3.org/2000/svg\" height=\"24px\"viewBox=\"0 0 24 24\"\n",
       "       width=\"24px\">\n",
       "    <path d=\"M0 0h24v24H0V0z\" fill=\"none\"/>\n",
       "    <path d=\"M18.56 5.44l.94 2.06.94-2.06 2.06-.94-2.06-.94-.94-2.06-.94 2.06-2.06.94zm-11 1L8.5 8.5l.94-2.06 2.06-.94-2.06-.94L8.5 2.5l-.94 2.06-2.06.94zm10 10l.94 2.06.94-2.06 2.06-.94-2.06-.94-.94-2.06-.94 2.06-2.06.94z\"/><path d=\"M17.41 7.96l-1.37-1.37c-.4-.4-.92-.59-1.43-.59-.52 0-1.04.2-1.43.59L10.3 9.45l-7.72 7.72c-.78.78-.78 2.05 0 2.83L4 21.41c.39.39.9.59 1.41.59.51 0 1.02-.2 1.41-.59l7.78-7.78 2.81-2.81c.8-.78.8-2.07 0-2.86zM5.41 20L4 18.59l7.72-7.72 1.47 1.35L5.41 20z\"/>\n",
       "  </svg>\n",
       "      </button>\n",
       "      \n",
       "  <style>\n",
       "    .colab-df-container {\n",
       "      display:flex;\n",
       "      flex-wrap:wrap;\n",
       "      gap: 12px;\n",
       "    }\n",
       "\n",
       "    .colab-df-convert {\n",
       "      background-color: #E8F0FE;\n",
       "      border: none;\n",
       "      border-radius: 50%;\n",
       "      cursor: pointer;\n",
       "      display: none;\n",
       "      fill: #1967D2;\n",
       "      height: 32px;\n",
       "      padding: 0 0 0 0;\n",
       "      width: 32px;\n",
       "    }\n",
       "\n",
       "    .colab-df-convert:hover {\n",
       "      background-color: #E2EBFA;\n",
       "      box-shadow: 0px 1px 2px rgba(60, 64, 67, 0.3), 0px 1px 3px 1px rgba(60, 64, 67, 0.15);\n",
       "      fill: #174EA6;\n",
       "    }\n",
       "\n",
       "    [theme=dark] .colab-df-convert {\n",
       "      background-color: #3B4455;\n",
       "      fill: #D2E3FC;\n",
       "    }\n",
       "\n",
       "    [theme=dark] .colab-df-convert:hover {\n",
       "      background-color: #434B5C;\n",
       "      box-shadow: 0px 1px 3px 1px rgba(0, 0, 0, 0.15);\n",
       "      filter: drop-shadow(0px 1px 2px rgba(0, 0, 0, 0.3));\n",
       "      fill: #FFFFFF;\n",
       "    }\n",
       "  </style>\n",
       "\n",
       "      <script>\n",
       "        const buttonEl =\n",
       "          document.querySelector('#df-6e5814a6-5c75-48ef-be47-ea9208f3825a button.colab-df-convert');\n",
       "        buttonEl.style.display =\n",
       "          google.colab.kernel.accessAllowed ? 'block' : 'none';\n",
       "\n",
       "        async function convertToInteractive(key) {\n",
       "          const element = document.querySelector('#df-6e5814a6-5c75-48ef-be47-ea9208f3825a');\n",
       "          const dataTable =\n",
       "            await google.colab.kernel.invokeFunction('convertToInteractive',\n",
       "                                                     [key], {});\n",
       "          if (!dataTable) return;\n",
       "\n",
       "          const docLinkHtml = 'Like what you see? Visit the ' +\n",
       "            '<a target=\"_blank\" href=https://colab.research.google.com/notebooks/data_table.ipynb>data table notebook</a>'\n",
       "            + ' to learn more about interactive tables.';\n",
       "          element.innerHTML = '';\n",
       "          dataTable['output_type'] = 'display_data';\n",
       "          await google.colab.output.renderOutput(dataTable, element);\n",
       "          const docLink = document.createElement('div');\n",
       "          docLink.innerHTML = docLinkHtml;\n",
       "          element.appendChild(docLink);\n",
       "        }\n",
       "      </script>\n",
       "    </div>\n",
       "  </div>\n",
       "  "
      ],
      "text/plain": [
       "   Unnamed: 0                                              JUDUL KATEGORI\n",
       "0           0  Total Aset Keuangan Syariah RI Tembus Rp2.200 ...  EKONOMI\n",
       "1           1         VIDEO: Bagaimana Cara Kerja Robot Trading?  EKONOMI\n",
       "2           2  5 Dampak Kenaikan Suku Bunga BI yang Bikin Beb...  EKONOMI\n",
       "3           3  Heru Mundur dari Kursi Komisaris BTN Sebelum D...  EKONOMI\n",
       "4           4  INFOGRAFIS: Efek Berantai Penguatan Dolar AS k...  EKONOMI\n",
       "5           5  Rupiah Lunglai ke Rp15.695 per Dolar AS Imbas ...  EKONOMI\n",
       "6           6  Moody's Pangkas Outlook Peringkat Utang Inggri...  EKONOMI\n",
       "7           7  Suku Bunga The Fed Tekuk Rupiah Berlutut Nyari...  EKONOMI\n",
       "8           8  Jasa Raharja Santuni 18 Korban Kebakaran KM Ca...  EKONOMI\n",
       "9           9  Rupiah Menguat ke Rp15.563 usai Imbal Hasil Ob...  EKONOMI"
      ]
     },
     "execution_count": 6,
     "metadata": {},
     "output_type": "execute_result"
    }
   ],
   "source": [
    "data.head(10)"
   ]
  },
  {
   "cell_type": "code",
   "execution_count": null,
   "metadata": {
    "id": "NzwrOkxfV6fB"
   },
   "outputs": [],
   "source": [
    "data = data[['JUDUL','KATEGORI']]"
   ]
  },
  {
   "cell_type": "code",
   "execution_count": null,
   "metadata": {
    "colab": {
     "base_uri": "https://localhost:8080/",
     "height": 363
    },
    "id": "4EcCPZeEWFpF",
    "outputId": "09943dfd-cdcd-47d4-b959-bd4ef3520b82"
   },
   "outputs": [
    {
     "data": {
      "text/html": [
       "\n",
       "  <div id=\"df-f5ebe5e9-e998-4f6a-9f49-0b65c0bee074\">\n",
       "    <div class=\"colab-df-container\">\n",
       "      <div>\n",
       "<style scoped>\n",
       "    .dataframe tbody tr th:only-of-type {\n",
       "        vertical-align: middle;\n",
       "    }\n",
       "\n",
       "    .dataframe tbody tr th {\n",
       "        vertical-align: top;\n",
       "    }\n",
       "\n",
       "    .dataframe thead th {\n",
       "        text-align: right;\n",
       "    }\n",
       "</style>\n",
       "<table border=\"1\" class=\"dataframe\">\n",
       "  <thead>\n",
       "    <tr style=\"text-align: right;\">\n",
       "      <th></th>\n",
       "      <th>JUDUL</th>\n",
       "      <th>KATEGORI</th>\n",
       "    </tr>\n",
       "  </thead>\n",
       "  <tbody>\n",
       "    <tr>\n",
       "      <th>0</th>\n",
       "      <td>Total Aset Keuangan Syariah RI Tembus Rp2.200 ...</td>\n",
       "      <td>EKONOMI</td>\n",
       "    </tr>\n",
       "    <tr>\n",
       "      <th>1</th>\n",
       "      <td>VIDEO: Bagaimana Cara Kerja Robot Trading?</td>\n",
       "      <td>EKONOMI</td>\n",
       "    </tr>\n",
       "    <tr>\n",
       "      <th>2</th>\n",
       "      <td>5 Dampak Kenaikan Suku Bunga BI yang Bikin Beb...</td>\n",
       "      <td>EKONOMI</td>\n",
       "    </tr>\n",
       "    <tr>\n",
       "      <th>3</th>\n",
       "      <td>Heru Mundur dari Kursi Komisaris BTN Sebelum D...</td>\n",
       "      <td>EKONOMI</td>\n",
       "    </tr>\n",
       "    <tr>\n",
       "      <th>4</th>\n",
       "      <td>INFOGRAFIS: Efek Berantai Penguatan Dolar AS k...</td>\n",
       "      <td>EKONOMI</td>\n",
       "    </tr>\n",
       "    <tr>\n",
       "      <th>5</th>\n",
       "      <td>Rupiah Lunglai ke Rp15.695 per Dolar AS Imbas ...</td>\n",
       "      <td>EKONOMI</td>\n",
       "    </tr>\n",
       "    <tr>\n",
       "      <th>6</th>\n",
       "      <td>Moody's Pangkas Outlook Peringkat Utang Inggri...</td>\n",
       "      <td>EKONOMI</td>\n",
       "    </tr>\n",
       "    <tr>\n",
       "      <th>7</th>\n",
       "      <td>Suku Bunga The Fed Tekuk Rupiah Berlutut Nyari...</td>\n",
       "      <td>EKONOMI</td>\n",
       "    </tr>\n",
       "    <tr>\n",
       "      <th>8</th>\n",
       "      <td>Jasa Raharja Santuni 18 Korban Kebakaran KM Ca...</td>\n",
       "      <td>EKONOMI</td>\n",
       "    </tr>\n",
       "    <tr>\n",
       "      <th>9</th>\n",
       "      <td>Rupiah Menguat ke Rp15.563 usai Imbal Hasil Ob...</td>\n",
       "      <td>EKONOMI</td>\n",
       "    </tr>\n",
       "  </tbody>\n",
       "</table>\n",
       "</div>\n",
       "      <button class=\"colab-df-convert\" onclick=\"convertToInteractive('df-f5ebe5e9-e998-4f6a-9f49-0b65c0bee074')\"\n",
       "              title=\"Convert this dataframe to an interactive table.\"\n",
       "              style=\"display:none;\">\n",
       "        \n",
       "  <svg xmlns=\"http://www.w3.org/2000/svg\" height=\"24px\"viewBox=\"0 0 24 24\"\n",
       "       width=\"24px\">\n",
       "    <path d=\"M0 0h24v24H0V0z\" fill=\"none\"/>\n",
       "    <path d=\"M18.56 5.44l.94 2.06.94-2.06 2.06-.94-2.06-.94-.94-2.06-.94 2.06-2.06.94zm-11 1L8.5 8.5l.94-2.06 2.06-.94-2.06-.94L8.5 2.5l-.94 2.06-2.06.94zm10 10l.94 2.06.94-2.06 2.06-.94-2.06-.94-.94-2.06-.94 2.06-2.06.94z\"/><path d=\"M17.41 7.96l-1.37-1.37c-.4-.4-.92-.59-1.43-.59-.52 0-1.04.2-1.43.59L10.3 9.45l-7.72 7.72c-.78.78-.78 2.05 0 2.83L4 21.41c.39.39.9.59 1.41.59.51 0 1.02-.2 1.41-.59l7.78-7.78 2.81-2.81c.8-.78.8-2.07 0-2.86zM5.41 20L4 18.59l7.72-7.72 1.47 1.35L5.41 20z\"/>\n",
       "  </svg>\n",
       "      </button>\n",
       "      \n",
       "  <style>\n",
       "    .colab-df-container {\n",
       "      display:flex;\n",
       "      flex-wrap:wrap;\n",
       "      gap: 12px;\n",
       "    }\n",
       "\n",
       "    .colab-df-convert {\n",
       "      background-color: #E8F0FE;\n",
       "      border: none;\n",
       "      border-radius: 50%;\n",
       "      cursor: pointer;\n",
       "      display: none;\n",
       "      fill: #1967D2;\n",
       "      height: 32px;\n",
       "      padding: 0 0 0 0;\n",
       "      width: 32px;\n",
       "    }\n",
       "\n",
       "    .colab-df-convert:hover {\n",
       "      background-color: #E2EBFA;\n",
       "      box-shadow: 0px 1px 2px rgba(60, 64, 67, 0.3), 0px 1px 3px 1px rgba(60, 64, 67, 0.15);\n",
       "      fill: #174EA6;\n",
       "    }\n",
       "\n",
       "    [theme=dark] .colab-df-convert {\n",
       "      background-color: #3B4455;\n",
       "      fill: #D2E3FC;\n",
       "    }\n",
       "\n",
       "    [theme=dark] .colab-df-convert:hover {\n",
       "      background-color: #434B5C;\n",
       "      box-shadow: 0px 1px 3px 1px rgba(0, 0, 0, 0.15);\n",
       "      filter: drop-shadow(0px 1px 2px rgba(0, 0, 0, 0.3));\n",
       "      fill: #FFFFFF;\n",
       "    }\n",
       "  </style>\n",
       "\n",
       "      <script>\n",
       "        const buttonEl =\n",
       "          document.querySelector('#df-f5ebe5e9-e998-4f6a-9f49-0b65c0bee074 button.colab-df-convert');\n",
       "        buttonEl.style.display =\n",
       "          google.colab.kernel.accessAllowed ? 'block' : 'none';\n",
       "\n",
       "        async function convertToInteractive(key) {\n",
       "          const element = document.querySelector('#df-f5ebe5e9-e998-4f6a-9f49-0b65c0bee074');\n",
       "          const dataTable =\n",
       "            await google.colab.kernel.invokeFunction('convertToInteractive',\n",
       "                                                     [key], {});\n",
       "          if (!dataTable) return;\n",
       "\n",
       "          const docLinkHtml = 'Like what you see? Visit the ' +\n",
       "            '<a target=\"_blank\" href=https://colab.research.google.com/notebooks/data_table.ipynb>data table notebook</a>'\n",
       "            + ' to learn more about interactive tables.';\n",
       "          element.innerHTML = '';\n",
       "          dataTable['output_type'] = 'display_data';\n",
       "          await google.colab.output.renderOutput(dataTable, element);\n",
       "          const docLink = document.createElement('div');\n",
       "          docLink.innerHTML = docLinkHtml;\n",
       "          element.appendChild(docLink);\n",
       "        }\n",
       "      </script>\n",
       "    </div>\n",
       "  </div>\n",
       "  "
      ],
      "text/plain": [
       "                                               JUDUL KATEGORI\n",
       "0  Total Aset Keuangan Syariah RI Tembus Rp2.200 ...  EKONOMI\n",
       "1         VIDEO: Bagaimana Cara Kerja Robot Trading?  EKONOMI\n",
       "2  5 Dampak Kenaikan Suku Bunga BI yang Bikin Beb...  EKONOMI\n",
       "3  Heru Mundur dari Kursi Komisaris BTN Sebelum D...  EKONOMI\n",
       "4  INFOGRAFIS: Efek Berantai Penguatan Dolar AS k...  EKONOMI\n",
       "5  Rupiah Lunglai ke Rp15.695 per Dolar AS Imbas ...  EKONOMI\n",
       "6  Moody's Pangkas Outlook Peringkat Utang Inggri...  EKONOMI\n",
       "7  Suku Bunga The Fed Tekuk Rupiah Berlutut Nyari...  EKONOMI\n",
       "8  Jasa Raharja Santuni 18 Korban Kebakaran KM Ca...  EKONOMI\n",
       "9  Rupiah Menguat ke Rp15.563 usai Imbal Hasil Ob...  EKONOMI"
      ]
     },
     "execution_count": 8,
     "metadata": {},
     "output_type": "execute_result"
    }
   ],
   "source": [
    "data.head(10)"
   ]
  },
  {
   "cell_type": "code",
   "execution_count": null,
   "metadata": {
    "colab": {
     "base_uri": "https://localhost:8080/",
     "height": 35
    },
    "id": "U6F_PY88WViO",
    "outputId": "50649f2a-4c72-4423-ddfa-1596263eed7a"
   },
   "outputs": [
    {
     "data": {
      "application/vnd.google.colaboratory.intrinsic+json": {
       "type": "string"
      },
      "text/plain": [
       "'!\"#$%&\\'()*+,-./:;<=>?@[\\\\]^_`{|}~'"
      ]
     },
     "execution_count": 9,
     "metadata": {},
     "output_type": "execute_result"
    }
   ],
   "source": [
    "import string\n",
    "string.punctuation"
   ]
  },
  {
   "cell_type": "markdown",
   "metadata": {
    "id": "3UjqfgF1Wetv"
   },
   "source": [
    "Hilangakn tanda baca"
   ]
  },
  {
   "cell_type": "code",
   "execution_count": null,
   "metadata": {
    "colab": {
     "base_uri": "https://localhost:8080/",
     "height": 363
    },
    "id": "hcwJ-x3bWd2F",
    "outputId": "d493f98b-e23a-4bd1-b995-9f05c9a43300"
   },
   "outputs": [
    {
     "data": {
      "text/html": [
       "\n",
       "  <div id=\"df-8b331a0f-6760-446f-8e88-5c748cad409d\">\n",
       "    <div class=\"colab-df-container\">\n",
       "      <div>\n",
       "<style scoped>\n",
       "    .dataframe tbody tr th:only-of-type {\n",
       "        vertical-align: middle;\n",
       "    }\n",
       "\n",
       "    .dataframe tbody tr th {\n",
       "        vertical-align: top;\n",
       "    }\n",
       "\n",
       "    .dataframe thead th {\n",
       "        text-align: right;\n",
       "    }\n",
       "</style>\n",
       "<table border=\"1\" class=\"dataframe\">\n",
       "  <thead>\n",
       "    <tr style=\"text-align: right;\">\n",
       "      <th></th>\n",
       "      <th>JUDUL</th>\n",
       "      <th>KATEGORI</th>\n",
       "      <th>HEADLINE_CLEAN</th>\n",
       "    </tr>\n",
       "  </thead>\n",
       "  <tbody>\n",
       "    <tr>\n",
       "      <th>0</th>\n",
       "      <td>Total Aset Keuangan Syariah RI Tembus Rp2.200 ...</td>\n",
       "      <td>EKONOMI</td>\n",
       "      <td>Total Aset Keuangan Syariah RI Tembus Rp2200 T...</td>\n",
       "    </tr>\n",
       "    <tr>\n",
       "      <th>1</th>\n",
       "      <td>VIDEO: Bagaimana Cara Kerja Robot Trading?</td>\n",
       "      <td>EKONOMI</td>\n",
       "      <td>VIDEO Bagaimana Cara Kerja Robot Trading</td>\n",
       "    </tr>\n",
       "    <tr>\n",
       "      <th>2</th>\n",
       "      <td>5 Dampak Kenaikan Suku Bunga BI yang Bikin Beb...</td>\n",
       "      <td>EKONOMI</td>\n",
       "      <td>5 Dampak Kenaikan Suku Bunga BI yang Bikin Beb...</td>\n",
       "    </tr>\n",
       "    <tr>\n",
       "      <th>3</th>\n",
       "      <td>Heru Mundur dari Kursi Komisaris BTN Sebelum D...</td>\n",
       "      <td>EKONOMI</td>\n",
       "      <td>Heru Mundur dari Kursi Komisaris BTN Sebelum D...</td>\n",
       "    </tr>\n",
       "    <tr>\n",
       "      <th>4</th>\n",
       "      <td>INFOGRAFIS: Efek Berantai Penguatan Dolar AS k...</td>\n",
       "      <td>EKONOMI</td>\n",
       "      <td>INFOGRAFIS Efek Berantai Penguatan Dolar AS ke...</td>\n",
       "    </tr>\n",
       "    <tr>\n",
       "      <th>5</th>\n",
       "      <td>Rupiah Lunglai ke Rp15.695 per Dolar AS Imbas ...</td>\n",
       "      <td>EKONOMI</td>\n",
       "      <td>Rupiah Lunglai ke Rp15695 per Dolar AS Imbas B...</td>\n",
       "    </tr>\n",
       "    <tr>\n",
       "      <th>6</th>\n",
       "      <td>Moody's Pangkas Outlook Peringkat Utang Inggri...</td>\n",
       "      <td>EKONOMI</td>\n",
       "      <td>Moodys Pangkas Outlook Peringkat Utang Inggris...</td>\n",
       "    </tr>\n",
       "    <tr>\n",
       "      <th>7</th>\n",
       "      <td>Suku Bunga The Fed Tekuk Rupiah Berlutut Nyari...</td>\n",
       "      <td>EKONOMI</td>\n",
       "      <td>Suku Bunga The Fed Tekuk Rupiah Berlutut Nyari...</td>\n",
       "    </tr>\n",
       "    <tr>\n",
       "      <th>8</th>\n",
       "      <td>Jasa Raharja Santuni 18 Korban Kebakaran KM Ca...</td>\n",
       "      <td>EKONOMI</td>\n",
       "      <td>Jasa Raharja Santuni 18 Korban Kebakaran KM Ca...</td>\n",
       "    </tr>\n",
       "    <tr>\n",
       "      <th>9</th>\n",
       "      <td>Rupiah Menguat ke Rp15.563 usai Imbal Hasil Ob...</td>\n",
       "      <td>EKONOMI</td>\n",
       "      <td>Rupiah Menguat ke Rp15563 usai Imbal Hasil Obl...</td>\n",
       "    </tr>\n",
       "  </tbody>\n",
       "</table>\n",
       "</div>\n",
       "      <button class=\"colab-df-convert\" onclick=\"convertToInteractive('df-8b331a0f-6760-446f-8e88-5c748cad409d')\"\n",
       "              title=\"Convert this dataframe to an interactive table.\"\n",
       "              style=\"display:none;\">\n",
       "        \n",
       "  <svg xmlns=\"http://www.w3.org/2000/svg\" height=\"24px\"viewBox=\"0 0 24 24\"\n",
       "       width=\"24px\">\n",
       "    <path d=\"M0 0h24v24H0V0z\" fill=\"none\"/>\n",
       "    <path d=\"M18.56 5.44l.94 2.06.94-2.06 2.06-.94-2.06-.94-.94-2.06-.94 2.06-2.06.94zm-11 1L8.5 8.5l.94-2.06 2.06-.94-2.06-.94L8.5 2.5l-.94 2.06-2.06.94zm10 10l.94 2.06.94-2.06 2.06-.94-2.06-.94-.94-2.06-.94 2.06-2.06.94z\"/><path d=\"M17.41 7.96l-1.37-1.37c-.4-.4-.92-.59-1.43-.59-.52 0-1.04.2-1.43.59L10.3 9.45l-7.72 7.72c-.78.78-.78 2.05 0 2.83L4 21.41c.39.39.9.59 1.41.59.51 0 1.02-.2 1.41-.59l7.78-7.78 2.81-2.81c.8-.78.8-2.07 0-2.86zM5.41 20L4 18.59l7.72-7.72 1.47 1.35L5.41 20z\"/>\n",
       "  </svg>\n",
       "      </button>\n",
       "      \n",
       "  <style>\n",
       "    .colab-df-container {\n",
       "      display:flex;\n",
       "      flex-wrap:wrap;\n",
       "      gap: 12px;\n",
       "    }\n",
       "\n",
       "    .colab-df-convert {\n",
       "      background-color: #E8F0FE;\n",
       "      border: none;\n",
       "      border-radius: 50%;\n",
       "      cursor: pointer;\n",
       "      display: none;\n",
       "      fill: #1967D2;\n",
       "      height: 32px;\n",
       "      padding: 0 0 0 0;\n",
       "      width: 32px;\n",
       "    }\n",
       "\n",
       "    .colab-df-convert:hover {\n",
       "      background-color: #E2EBFA;\n",
       "      box-shadow: 0px 1px 2px rgba(60, 64, 67, 0.3), 0px 1px 3px 1px rgba(60, 64, 67, 0.15);\n",
       "      fill: #174EA6;\n",
       "    }\n",
       "\n",
       "    [theme=dark] .colab-df-convert {\n",
       "      background-color: #3B4455;\n",
       "      fill: #D2E3FC;\n",
       "    }\n",
       "\n",
       "    [theme=dark] .colab-df-convert:hover {\n",
       "      background-color: #434B5C;\n",
       "      box-shadow: 0px 1px 3px 1px rgba(0, 0, 0, 0.15);\n",
       "      filter: drop-shadow(0px 1px 2px rgba(0, 0, 0, 0.3));\n",
       "      fill: #FFFFFF;\n",
       "    }\n",
       "  </style>\n",
       "\n",
       "      <script>\n",
       "        const buttonEl =\n",
       "          document.querySelector('#df-8b331a0f-6760-446f-8e88-5c748cad409d button.colab-df-convert');\n",
       "        buttonEl.style.display =\n",
       "          google.colab.kernel.accessAllowed ? 'block' : 'none';\n",
       "\n",
       "        async function convertToInteractive(key) {\n",
       "          const element = document.querySelector('#df-8b331a0f-6760-446f-8e88-5c748cad409d');\n",
       "          const dataTable =\n",
       "            await google.colab.kernel.invokeFunction('convertToInteractive',\n",
       "                                                     [key], {});\n",
       "          if (!dataTable) return;\n",
       "\n",
       "          const docLinkHtml = 'Like what you see? Visit the ' +\n",
       "            '<a target=\"_blank\" href=https://colab.research.google.com/notebooks/data_table.ipynb>data table notebook</a>'\n",
       "            + ' to learn more about interactive tables.';\n",
       "          element.innerHTML = '';\n",
       "          dataTable['output_type'] = 'display_data';\n",
       "          await google.colab.output.renderOutput(dataTable, element);\n",
       "          const docLink = document.createElement('div');\n",
       "          docLink.innerHTML = docLinkHtml;\n",
       "          element.appendChild(docLink);\n",
       "        }\n",
       "      </script>\n",
       "    </div>\n",
       "  </div>\n",
       "  "
      ],
      "text/plain": [
       "                                               JUDUL KATEGORI  \\\n",
       "0  Total Aset Keuangan Syariah RI Tembus Rp2.200 ...  EKONOMI   \n",
       "1         VIDEO: Bagaimana Cara Kerja Robot Trading?  EKONOMI   \n",
       "2  5 Dampak Kenaikan Suku Bunga BI yang Bikin Beb...  EKONOMI   \n",
       "3  Heru Mundur dari Kursi Komisaris BTN Sebelum D...  EKONOMI   \n",
       "4  INFOGRAFIS: Efek Berantai Penguatan Dolar AS k...  EKONOMI   \n",
       "5  Rupiah Lunglai ke Rp15.695 per Dolar AS Imbas ...  EKONOMI   \n",
       "6  Moody's Pangkas Outlook Peringkat Utang Inggri...  EKONOMI   \n",
       "7  Suku Bunga The Fed Tekuk Rupiah Berlutut Nyari...  EKONOMI   \n",
       "8  Jasa Raharja Santuni 18 Korban Kebakaran KM Ca...  EKONOMI   \n",
       "9  Rupiah Menguat ke Rp15.563 usai Imbal Hasil Ob...  EKONOMI   \n",
       "\n",
       "                                      HEADLINE_CLEAN  \n",
       "0  Total Aset Keuangan Syariah RI Tembus Rp2200 T...  \n",
       "1           VIDEO Bagaimana Cara Kerja Robot Trading  \n",
       "2  5 Dampak Kenaikan Suku Bunga BI yang Bikin Beb...  \n",
       "3  Heru Mundur dari Kursi Komisaris BTN Sebelum D...  \n",
       "4  INFOGRAFIS Efek Berantai Penguatan Dolar AS ke...  \n",
       "5  Rupiah Lunglai ke Rp15695 per Dolar AS Imbas B...  \n",
       "6  Moodys Pangkas Outlook Peringkat Utang Inggris...  \n",
       "7  Suku Bunga The Fed Tekuk Rupiah Berlutut Nyari...  \n",
       "8  Jasa Raharja Santuni 18 Korban Kebakaran KM Ca...  \n",
       "9  Rupiah Menguat ke Rp15563 usai Imbal Hasil Obl...  "
      ]
     },
     "execution_count": 10,
     "metadata": {},
     "output_type": "execute_result"
    }
   ],
   "source": [
    "def remove_punct(text):\n",
    "    text_nopunct = \"\".join([char for char in text if char not in string.punctuation])\n",
    "    return text_nopunct\n",
    "\n",
    "data['HEADLINE_CLEAN'] = data['JUDUL'].apply(lambda x: remove_punct(x))\n",
    "\n",
    "data.head(10)"
   ]
  },
  {
   "cell_type": "code",
   "execution_count": null,
   "metadata": {
    "colab": {
     "base_uri": "https://localhost:8080/",
     "height": 363
    },
    "id": "5DOk_BPhdm6M",
    "outputId": "874ac299-44f6-4a6a-a198-62637abe74b4"
   },
   "outputs": [
    {
     "data": {
      "text/html": [
       "\n",
       "  <div id=\"df-1bdb4f92-2b72-4dc8-bac9-ad0c6287a847\">\n",
       "    <div class=\"colab-df-container\">\n",
       "      <div>\n",
       "<style scoped>\n",
       "    .dataframe tbody tr th:only-of-type {\n",
       "        vertical-align: middle;\n",
       "    }\n",
       "\n",
       "    .dataframe tbody tr th {\n",
       "        vertical-align: top;\n",
       "    }\n",
       "\n",
       "    .dataframe thead th {\n",
       "        text-align: right;\n",
       "    }\n",
       "</style>\n",
       "<table border=\"1\" class=\"dataframe\">\n",
       "  <thead>\n",
       "    <tr style=\"text-align: right;\">\n",
       "      <th></th>\n",
       "      <th>JUDUL</th>\n",
       "      <th>KATEGORI</th>\n",
       "      <th>HEADLINE_CLEAN</th>\n",
       "      <th>HEADLINE_TOKENIZE</th>\n",
       "    </tr>\n",
       "  </thead>\n",
       "  <tbody>\n",
       "    <tr>\n",
       "      <th>0</th>\n",
       "      <td>Total Aset Keuangan Syariah RI Tembus Rp2.200 ...</td>\n",
       "      <td>EKONOMI</td>\n",
       "      <td>Total Aset Keuangan Syariah RI Tembus Rp2200 T...</td>\n",
       "      <td>[total, aset, keuangan, syariah, ri, tembus, r...</td>\n",
       "    </tr>\n",
       "    <tr>\n",
       "      <th>1</th>\n",
       "      <td>VIDEO: Bagaimana Cara Kerja Robot Trading?</td>\n",
       "      <td>EKONOMI</td>\n",
       "      <td>VIDEO Bagaimana Cara Kerja Robot Trading</td>\n",
       "      <td>[video, bagaimana, cara, kerja, robot, trading]</td>\n",
       "    </tr>\n",
       "    <tr>\n",
       "      <th>2</th>\n",
       "      <td>5 Dampak Kenaikan Suku Bunga BI yang Bikin Beb...</td>\n",
       "      <td>EKONOMI</td>\n",
       "      <td>5 Dampak Kenaikan Suku Bunga BI yang Bikin Beb...</td>\n",
       "      <td>[5, dampak, kenaikan, suku, bunga, bi, yang, b...</td>\n",
       "    </tr>\n",
       "    <tr>\n",
       "      <th>3</th>\n",
       "      <td>Heru Mundur dari Kursi Komisaris BTN Sebelum D...</td>\n",
       "      <td>EKONOMI</td>\n",
       "      <td>Heru Mundur dari Kursi Komisaris BTN Sebelum D...</td>\n",
       "      <td>[heru, mundur, dari, kursi, komisaris, btn, se...</td>\n",
       "    </tr>\n",
       "    <tr>\n",
       "      <th>4</th>\n",
       "      <td>INFOGRAFIS: Efek Berantai Penguatan Dolar AS k...</td>\n",
       "      <td>EKONOMI</td>\n",
       "      <td>INFOGRAFIS Efek Berantai Penguatan Dolar AS ke...</td>\n",
       "      <td>[infografis, efek, berantai, penguatan, dolar,...</td>\n",
       "    </tr>\n",
       "    <tr>\n",
       "      <th>5</th>\n",
       "      <td>Rupiah Lunglai ke Rp15.695 per Dolar AS Imbas ...</td>\n",
       "      <td>EKONOMI</td>\n",
       "      <td>Rupiah Lunglai ke Rp15695 per Dolar AS Imbas B...</td>\n",
       "      <td>[rupiah, lunglai, ke, rp15695, per, dolar, as,...</td>\n",
       "    </tr>\n",
       "    <tr>\n",
       "      <th>6</th>\n",
       "      <td>Moody's Pangkas Outlook Peringkat Utang Inggri...</td>\n",
       "      <td>EKONOMI</td>\n",
       "      <td>Moodys Pangkas Outlook Peringkat Utang Inggris...</td>\n",
       "      <td>[moodys, pangkas, outlook, peringkat, utang, i...</td>\n",
       "    </tr>\n",
       "    <tr>\n",
       "      <th>7</th>\n",
       "      <td>Suku Bunga The Fed Tekuk Rupiah Berlutut Nyari...</td>\n",
       "      <td>EKONOMI</td>\n",
       "      <td>Suku Bunga The Fed Tekuk Rupiah Berlutut Nyari...</td>\n",
       "      <td>[suku, bunga, the, fed, tekuk, rupiah, berlutu...</td>\n",
       "    </tr>\n",
       "    <tr>\n",
       "      <th>8</th>\n",
       "      <td>Jasa Raharja Santuni 18 Korban Kebakaran KM Ca...</td>\n",
       "      <td>EKONOMI</td>\n",
       "      <td>Jasa Raharja Santuni 18 Korban Kebakaran KM Ca...</td>\n",
       "      <td>[jasa, raharja, santuni, 18, korban, kebakaran...</td>\n",
       "    </tr>\n",
       "    <tr>\n",
       "      <th>9</th>\n",
       "      <td>Rupiah Menguat ke Rp15.563 usai Imbal Hasil Ob...</td>\n",
       "      <td>EKONOMI</td>\n",
       "      <td>Rupiah Menguat ke Rp15563 usai Imbal Hasil Obl...</td>\n",
       "      <td>[rupiah, menguat, ke, rp15563, usai, imbal, ha...</td>\n",
       "    </tr>\n",
       "  </tbody>\n",
       "</table>\n",
       "</div>\n",
       "      <button class=\"colab-df-convert\" onclick=\"convertToInteractive('df-1bdb4f92-2b72-4dc8-bac9-ad0c6287a847')\"\n",
       "              title=\"Convert this dataframe to an interactive table.\"\n",
       "              style=\"display:none;\">\n",
       "        \n",
       "  <svg xmlns=\"http://www.w3.org/2000/svg\" height=\"24px\"viewBox=\"0 0 24 24\"\n",
       "       width=\"24px\">\n",
       "    <path d=\"M0 0h24v24H0V0z\" fill=\"none\"/>\n",
       "    <path d=\"M18.56 5.44l.94 2.06.94-2.06 2.06-.94-2.06-.94-.94-2.06-.94 2.06-2.06.94zm-11 1L8.5 8.5l.94-2.06 2.06-.94-2.06-.94L8.5 2.5l-.94 2.06-2.06.94zm10 10l.94 2.06.94-2.06 2.06-.94-2.06-.94-.94-2.06-.94 2.06-2.06.94z\"/><path d=\"M17.41 7.96l-1.37-1.37c-.4-.4-.92-.59-1.43-.59-.52 0-1.04.2-1.43.59L10.3 9.45l-7.72 7.72c-.78.78-.78 2.05 0 2.83L4 21.41c.39.39.9.59 1.41.59.51 0 1.02-.2 1.41-.59l7.78-7.78 2.81-2.81c.8-.78.8-2.07 0-2.86zM5.41 20L4 18.59l7.72-7.72 1.47 1.35L5.41 20z\"/>\n",
       "  </svg>\n",
       "      </button>\n",
       "      \n",
       "  <style>\n",
       "    .colab-df-container {\n",
       "      display:flex;\n",
       "      flex-wrap:wrap;\n",
       "      gap: 12px;\n",
       "    }\n",
       "\n",
       "    .colab-df-convert {\n",
       "      background-color: #E8F0FE;\n",
       "      border: none;\n",
       "      border-radius: 50%;\n",
       "      cursor: pointer;\n",
       "      display: none;\n",
       "      fill: #1967D2;\n",
       "      height: 32px;\n",
       "      padding: 0 0 0 0;\n",
       "      width: 32px;\n",
       "    }\n",
       "\n",
       "    .colab-df-convert:hover {\n",
       "      background-color: #E2EBFA;\n",
       "      box-shadow: 0px 1px 2px rgba(60, 64, 67, 0.3), 0px 1px 3px 1px rgba(60, 64, 67, 0.15);\n",
       "      fill: #174EA6;\n",
       "    }\n",
       "\n",
       "    [theme=dark] .colab-df-convert {\n",
       "      background-color: #3B4455;\n",
       "      fill: #D2E3FC;\n",
       "    }\n",
       "\n",
       "    [theme=dark] .colab-df-convert:hover {\n",
       "      background-color: #434B5C;\n",
       "      box-shadow: 0px 1px 3px 1px rgba(0, 0, 0, 0.15);\n",
       "      filter: drop-shadow(0px 1px 2px rgba(0, 0, 0, 0.3));\n",
       "      fill: #FFFFFF;\n",
       "    }\n",
       "  </style>\n",
       "\n",
       "      <script>\n",
       "        const buttonEl =\n",
       "          document.querySelector('#df-1bdb4f92-2b72-4dc8-bac9-ad0c6287a847 button.colab-df-convert');\n",
       "        buttonEl.style.display =\n",
       "          google.colab.kernel.accessAllowed ? 'block' : 'none';\n",
       "\n",
       "        async function convertToInteractive(key) {\n",
       "          const element = document.querySelector('#df-1bdb4f92-2b72-4dc8-bac9-ad0c6287a847');\n",
       "          const dataTable =\n",
       "            await google.colab.kernel.invokeFunction('convertToInteractive',\n",
       "                                                     [key], {});\n",
       "          if (!dataTable) return;\n",
       "\n",
       "          const docLinkHtml = 'Like what you see? Visit the ' +\n",
       "            '<a target=\"_blank\" href=https://colab.research.google.com/notebooks/data_table.ipynb>data table notebook</a>'\n",
       "            + ' to learn more about interactive tables.';\n",
       "          element.innerHTML = '';\n",
       "          dataTable['output_type'] = 'display_data';\n",
       "          await google.colab.output.renderOutput(dataTable, element);\n",
       "          const docLink = document.createElement('div');\n",
       "          docLink.innerHTML = docLinkHtml;\n",
       "          element.appendChild(docLink);\n",
       "        }\n",
       "      </script>\n",
       "    </div>\n",
       "  </div>\n",
       "  "
      ],
      "text/plain": [
       "                                               JUDUL KATEGORI  \\\n",
       "0  Total Aset Keuangan Syariah RI Tembus Rp2.200 ...  EKONOMI   \n",
       "1         VIDEO: Bagaimana Cara Kerja Robot Trading?  EKONOMI   \n",
       "2  5 Dampak Kenaikan Suku Bunga BI yang Bikin Beb...  EKONOMI   \n",
       "3  Heru Mundur dari Kursi Komisaris BTN Sebelum D...  EKONOMI   \n",
       "4  INFOGRAFIS: Efek Berantai Penguatan Dolar AS k...  EKONOMI   \n",
       "5  Rupiah Lunglai ke Rp15.695 per Dolar AS Imbas ...  EKONOMI   \n",
       "6  Moody's Pangkas Outlook Peringkat Utang Inggri...  EKONOMI   \n",
       "7  Suku Bunga The Fed Tekuk Rupiah Berlutut Nyari...  EKONOMI   \n",
       "8  Jasa Raharja Santuni 18 Korban Kebakaran KM Ca...  EKONOMI   \n",
       "9  Rupiah Menguat ke Rp15.563 usai Imbal Hasil Ob...  EKONOMI   \n",
       "\n",
       "                                      HEADLINE_CLEAN  \\\n",
       "0  Total Aset Keuangan Syariah RI Tembus Rp2200 T...   \n",
       "1           VIDEO Bagaimana Cara Kerja Robot Trading   \n",
       "2  5 Dampak Kenaikan Suku Bunga BI yang Bikin Beb...   \n",
       "3  Heru Mundur dari Kursi Komisaris BTN Sebelum D...   \n",
       "4  INFOGRAFIS Efek Berantai Penguatan Dolar AS ke...   \n",
       "5  Rupiah Lunglai ke Rp15695 per Dolar AS Imbas B...   \n",
       "6  Moodys Pangkas Outlook Peringkat Utang Inggris...   \n",
       "7  Suku Bunga The Fed Tekuk Rupiah Berlutut Nyari...   \n",
       "8  Jasa Raharja Santuni 18 Korban Kebakaran KM Ca...   \n",
       "9  Rupiah Menguat ke Rp15563 usai Imbal Hasil Obl...   \n",
       "\n",
       "                                   HEADLINE_TOKENIZE  \n",
       "0  [total, aset, keuangan, syariah, ri, tembus, r...  \n",
       "1    [video, bagaimana, cara, kerja, robot, trading]  \n",
       "2  [5, dampak, kenaikan, suku, bunga, bi, yang, b...  \n",
       "3  [heru, mundur, dari, kursi, komisaris, btn, se...  \n",
       "4  [infografis, efek, berantai, penguatan, dolar,...  \n",
       "5  [rupiah, lunglai, ke, rp15695, per, dolar, as,...  \n",
       "6  [moodys, pangkas, outlook, peringkat, utang, i...  \n",
       "7  [suku, bunga, the, fed, tekuk, rupiah, berlutu...  \n",
       "8  [jasa, raharja, santuni, 18, korban, kebakaran...  \n",
       "9  [rupiah, menguat, ke, rp15563, usai, imbal, ha...  "
      ]
     },
     "execution_count": 11,
     "metadata": {},
     "output_type": "execute_result"
    }
   ],
   "source": [
    "import re\n",
    "\n",
    "def tokenize(text):\n",
    "    tokens = re.split('\\W+', text)\n",
    "    return tokens\n",
    "\n",
    "data['HEADLINE_TOKENIZE'] = data['HEADLINE_CLEAN'].apply(lambda x: tokenize(x.lower()))\n",
    "\n",
    "data.head(10)"
   ]
  },
  {
   "cell_type": "markdown",
   "metadata": {
    "id": "RvpMKnihXHWe"
   },
   "source": [
    "Hilangkan STOPWORD dalam bahasa Indonesia\n"
   ]
  },
  {
   "cell_type": "code",
   "execution_count": null,
   "metadata": {
    "colab": {
     "base_uri": "https://localhost:8080/"
    },
    "id": "5sXnx7-uYSA1",
    "outputId": "9dcf957f-10c6-42e9-cd98-8c907b3e2323"
   },
   "outputs": [
    {
     "name": "stderr",
     "output_type": "stream",
     "text": [
      "[nltk_data] Downloading package stopwords to /root/nltk_data...\n",
      "[nltk_data]   Unzipping corpora/stopwords.zip.\n"
     ]
    },
    {
     "data": {
      "text/plain": [
       "True"
      ]
     },
     "execution_count": 12,
     "metadata": {},
     "output_type": "execute_result"
    }
   ],
   "source": [
    "import nltk\n",
    "nltk.download('stopwords')"
   ]
  },
  {
   "cell_type": "code",
   "execution_count": null,
   "metadata": {
    "id": "lN2dFER1YZ4h"
   },
   "outputs": [],
   "source": [
    "stopword = nltk.corpus.stopwords.words('indonesian')"
   ]
  },
  {
   "cell_type": "code",
   "execution_count": null,
   "metadata": {
    "colab": {
     "base_uri": "https://localhost:8080/"
    },
    "id": "WMtNYB3ScFX6",
    "outputId": "e4f76fa8-bb75-49a8-f5d4-dd2d36b1298b"
   },
   "outputs": [
    {
     "name": "stdout",
     "output_type": "stream",
     "text": [
      "ada,adalah,adanya,adapun,agak,agaknya,agar,akan,akankah,akhir,akhiri,akhirnya,aku,akulah,amat,amatlah,anda,andalah,antar,antara,antaranya,apa,apaan,apabila,apakah,apalagi,apatah,artinya,asal,asalkan,atas,atau,ataukah,ataupun,awal,awalnya,bagai,bagaikan,bagaimana,bagaimanakah,bagaimanapun,bagi,bagian,bahkan,bahwa,bahwasanya,baik,bakal,bakalan,balik,banyak,bapak,baru,bawah,beberapa,begini,beginian,beginikah,beginilah,begitu,begitukah,begitulah,begitupun,bekerja,belakang,belakangan,belum,belumlah,benar,benarkah,benarlah,berada,berakhir,berakhirlah,berakhirnya,berapa,berapakah,berapalah,berapapun,berarti,berawal,berbagai,berdatangan,beri,berikan,berikut,berikutnya,berjumlah,berkali-kali,berkata,berkehendak,berkeinginan,berkenaan,berlainan,berlalu,berlangsung,berlebihan,bermacam,bermacam-macam,bermaksud,bermula,bersama,bersama-sama,bersiap,bersiap-siap,bertanya,bertanya-tanya,berturut,berturut-turut,bertutur,berujar,berupa,besar,betul,betulkah,biasa,biasanya,bila,bilakah,bisa,bisakah,boleh,bolehkah,bolehlah,buat,bukan,bukankah,bukanlah,bukannya,bulan,bung,cara,caranya,cukup,cukupkah,cukuplah,cuma,dahulu,dalam,dan,dapat,dari,daripada,datang,dekat,demi,demikian,demikianlah,dengan,depan,di,dia,diakhiri,diakhirinya,dialah,diantara,diantaranya,diberi,diberikan,diberikannya,dibuat,dibuatnya,didapat,didatangkan,digunakan,diibaratkan,diibaratkannya,diingat,diingatkan,diinginkan,dijawab,dijelaskan,dijelaskannya,dikarenakan,dikatakan,dikatakannya,dikerjakan,diketahui,diketahuinya,dikira,dilakukan,dilalui,dilihat,dimaksud,dimaksudkan,dimaksudkannya,dimaksudnya,diminta,dimintai,dimisalkan,dimulai,dimulailah,dimulainya,dimungkinkan,dini,dipastikan,diperbuat,diperbuatnya,dipergunakan,diperkirakan,diperlihatkan,diperlukan,diperlukannya,dipersoalkan,dipertanyakan,dipunyai,diri,dirinya,disampaikan,disebut,disebutkan,disebutkannya,disini,disinilah,ditambahkan,ditandaskan,ditanya,ditanyai,ditanyakan,ditegaskan,ditujukan,ditunjuk,ditunjuki,ditunjukkan,ditunjukkannya,ditunjuknya,dituturkan,dituturkannya,diucapkan,diucapkannya,diungkapkan,dong,dua,dulu,empat,enggak,enggaknya,entah,entahlah,guna,gunakan,hal,hampir,hanya,hanyalah,hari,harus,haruslah,harusnya,hendak,hendaklah,hendaknya,hingga,ia,ialah,ibarat,ibaratkan,ibaratnya,ibu,ikut,ingat,ingat-ingat,ingin,inginkah,inginkan,ini,inikah,inilah,itu,itukah,itulah,jadi,jadilah,jadinya,jangan,jangankan,janganlah,jauh,jawab,jawaban,jawabnya,jelas,jelaskan,jelaslah,jelasnya,jika,jikalau,juga,jumlah,jumlahnya,justru,kala,kalau,kalaulah,kalaupun,kalian,kami,kamilah,kamu,kamulah,kan,kapan,kapankah,kapanpun,karena,karenanya,kasus,kata,katakan,katakanlah,katanya,ke,keadaan,kebetulan,kecil,kedua,keduanya,keinginan,kelamaan,kelihatan,kelihatannya,kelima,keluar,kembali,kemudian,kemungkinan,kemungkinannya,kenapa,kepada,kepadanya,kesampaian,keseluruhan,keseluruhannya,keterlaluan,ketika,khususnya,kini,kinilah,kira,kira-kira,kiranya,kita,kitalah,kok,kurang,lagi,lagian,lah,lain,lainnya,lalu,lama,lamanya,lanjut,lanjutnya,lebih,lewat,lima,luar,macam,maka,makanya,makin,malah,malahan,mampu,mampukah,mana,manakala,manalagi,masa,masalah,masalahnya,masih,masihkah,masing,masing-masing,mau,maupun,melainkan,melakukan,melalui,melihat,melihatnya,memang,memastikan,memberi,memberikan,membuat,memerlukan,memihak,meminta,memintakan,memisalkan,memperbuat,mempergunakan,memperkirakan,memperlihatkan,mempersiapkan,mempersoalkan,mempertanyakan,mempunyai,memulai,memungkinkan,menaiki,menambahkan,menandaskan,menanti,menanti-nanti,menantikan,menanya,menanyai,menanyakan,mendapat,mendapatkan,mendatang,mendatangi,mendatangkan,menegaskan,mengakhiri,mengapa,mengatakan,mengatakannya,mengenai,mengerjakan,mengetahui,menggunakan,menghendaki,mengibaratkan,mengibaratkannya,mengingat,mengingatkan,menginginkan,mengira,mengucapkan,mengucapkannya,mengungkapkan,menjadi,menjawab,menjelaskan,menuju,menunjuk,menunjuki,menunjukkan,menunjuknya,menurut,menuturkan,menyampaikan,menyangkut,menyatakan,menyebutkan,menyeluruh,menyiapkan,merasa,mereka,merekalah,merupakan,meski,meskipun,meyakini,meyakinkan,minta,mirip,misal,misalkan,misalnya,mula,mulai,mulailah,mulanya,mungkin,mungkinkah,nah,naik,namun,nanti,nantinya,nyaris,nyatanya,oleh,olehnya,pada,padahal,padanya,pak,paling,panjang,pantas,para,pasti,pastilah,penting,pentingnya,per,percuma,perlu,perlukah,perlunya,pernah,persoalan,pertama,pertama-tama,pertanyaan,pertanyakan,pihak,pihaknya,pukul,pula,pun,punya,rasa,rasanya,rata,rupanya,saat,saatnya,saja,sajalah,saling,sama,sama-sama,sambil,sampai,sampai-sampai,sampaikan,sana,sangat,sangatlah,satu,saya,sayalah,se,sebab,sebabnya,sebagai,sebagaimana,sebagainya,sebagian,sebaik,sebaik-baiknya,sebaiknya,sebaliknya,sebanyak,sebegini,sebegitu,sebelum,sebelumnya,sebenarnya,seberapa,sebesar,sebetulnya,sebisanya,sebuah,sebut,sebutlah,sebutnya,secara,secukupnya,sedang,sedangkan,sedemikian,sedikit,sedikitnya,seenaknya,segala,segalanya,segera,seharusnya,sehingga,seingat,sejak,sejauh,sejenak,sejumlah,sekadar,sekadarnya,sekali,sekali-kali,sekalian,sekaligus,sekalipun,sekarang,sekarang,sekecil,seketika,sekiranya,sekitar,sekitarnya,sekurang-kurangnya,sekurangnya,sela,selain,selaku,selalu,selama,selama-lamanya,selamanya,selanjutnya,seluruh,seluruhnya,semacam,semakin,semampu,semampunya,semasa,semasih,semata,semata-mata,semaunya,sementara,semisal,semisalnya,sempat,semua,semuanya,semula,sendiri,sendirian,sendirinya,seolah,seolah-olah,seorang,sepanjang,sepantasnya,sepantasnyalah,seperlunya,seperti,sepertinya,sepihak,sering,seringnya,serta,serupa,sesaat,sesama,sesampai,sesegera,sesekali,seseorang,sesuatu,sesuatunya,sesudah,sesudahnya,setelah,setempat,setengah,seterusnya,setiap,setiba,setibanya,setidak-tidaknya,setidaknya,setinggi,seusai,sewaktu,siap,siapa,siapakah,siapapun,sini,sinilah,soal,soalnya,suatu,sudah,sudahkah,sudahlah,supaya,tadi,tadinya,tahu,tahun,tak,tambah,tambahnya,tampak,tampaknya,tandas,tandasnya,tanpa,tanya,tanyakan,tanyanya,tapi,tegas,tegasnya,telah,tempat,tengah,tentang,tentu,tentulah,tentunya,tepat,terakhir,terasa,terbanyak,terdahulu,terdapat,terdiri,terhadap,terhadapnya,teringat,teringat-ingat,terjadi,terjadilah,terjadinya,terkira,terlalu,terlebih,terlihat,termasuk,ternyata,tersampaikan,tersebut,tersebutlah,tertentu,tertuju,terus,terutama,tetap,tetapi,tiap,tiba,tiba-tiba,tidak,tidakkah,tidaklah,tiga,tinggi,toh,tunjuk,turut,tutur,tuturnya,ucap,ucapnya,ujar,ujarnya,umum,umumnya,ungkap,ungkapnya,untuk,usah,usai,waduh,wah,wahai,waktu,waktunya,walau,walaupun,wong,yaitu,yakin,yakni,yang,"
     ]
    }
   ],
   "source": [
    "for x in stopword:\n",
    "  print(x,end=',')"
   ]
  },
  {
   "cell_type": "code",
   "execution_count": null,
   "metadata": {
    "colab": {
     "base_uri": "https://localhost:8080/"
    },
    "id": "BsLVGVYGcYNI",
    "outputId": "4b7d7be5-7f37-443b-a2c7-5833c60b598d"
   },
   "outputs": [
    {
     "data": {
      "text/plain": [
       "758"
      ]
     },
     "execution_count": 15,
     "metadata": {},
     "output_type": "execute_result"
    }
   ],
   "source": [
    "len(stopword)"
   ]
  },
  {
   "cell_type": "code",
   "execution_count": null,
   "metadata": {
    "colab": {
     "base_uri": "https://localhost:8080/"
    },
    "id": "SqQEifBtYuRK",
    "outputId": "f0061244-f585-4e21-eb81-66c326e81c6d"
   },
   "outputs": [
    {
     "data": {
      "text/plain": [
       "[' ada ', ' adalah ', ' adanya ', ' adapun ', ' agak ']"
      ]
     },
     "execution_count": 16,
     "metadata": {},
     "output_type": "execute_result"
    }
   ],
   "source": [
    "stopword[:5]\n",
    "stopword = [f' {x} ' for x in stopword]\n",
    "stopword[:5]"
   ]
  },
  {
   "cell_type": "code",
   "execution_count": null,
   "metadata": {
    "colab": {
     "base_uri": "https://localhost:8080/",
     "height": 363
    },
    "id": "r6Yt-5P9axaI",
    "outputId": "9f50d468-f55c-4477-bfe6-394f47c11833"
   },
   "outputs": [
    {
     "data": {
      "text/html": [
       "\n",
       "  <div id=\"df-540489bb-0cb1-418c-9953-94cc5b3c3177\">\n",
       "    <div class=\"colab-df-container\">\n",
       "      <div>\n",
       "<style scoped>\n",
       "    .dataframe tbody tr th:only-of-type {\n",
       "        vertical-align: middle;\n",
       "    }\n",
       "\n",
       "    .dataframe tbody tr th {\n",
       "        vertical-align: top;\n",
       "    }\n",
       "\n",
       "    .dataframe thead th {\n",
       "        text-align: right;\n",
       "    }\n",
       "</style>\n",
       "<table border=\"1\" class=\"dataframe\">\n",
       "  <thead>\n",
       "    <tr style=\"text-align: right;\">\n",
       "      <th></th>\n",
       "      <th>JUDUL</th>\n",
       "      <th>KATEGORI</th>\n",
       "      <th>HEADLINE_CLEAN</th>\n",
       "      <th>HEADLINE_TOKENIZE</th>\n",
       "      <th>HEADLINE_NON_STP</th>\n",
       "    </tr>\n",
       "  </thead>\n",
       "  <tbody>\n",
       "    <tr>\n",
       "      <th>0</th>\n",
       "      <td>Total Aset Keuangan Syariah RI Tembus Rp2.200 ...</td>\n",
       "      <td>EKONOMI</td>\n",
       "      <td>Total Aset Keuangan Syariah RI Tembus Rp2200 T...</td>\n",
       "      <td>[total, aset, keuangan, syariah, ri, tembus, r...</td>\n",
       "      <td>[total, aset, keuangan, syariah, ri, tembus, r...</td>\n",
       "    </tr>\n",
       "    <tr>\n",
       "      <th>1</th>\n",
       "      <td>VIDEO: Bagaimana Cara Kerja Robot Trading?</td>\n",
       "      <td>EKONOMI</td>\n",
       "      <td>VIDEO Bagaimana Cara Kerja Robot Trading</td>\n",
       "      <td>[video, bagaimana, cara, kerja, robot, trading]</td>\n",
       "      <td>[video, bagaimana, cara, kerja, robot, trading]</td>\n",
       "    </tr>\n",
       "    <tr>\n",
       "      <th>2</th>\n",
       "      <td>5 Dampak Kenaikan Suku Bunga BI yang Bikin Beb...</td>\n",
       "      <td>EKONOMI</td>\n",
       "      <td>5 Dampak Kenaikan Suku Bunga BI yang Bikin Beb...</td>\n",
       "      <td>[5, dampak, kenaikan, suku, bunga, bi, yang, b...</td>\n",
       "      <td>[5, dampak, kenaikan, suku, bunga, bi, yang, b...</td>\n",
       "    </tr>\n",
       "    <tr>\n",
       "      <th>3</th>\n",
       "      <td>Heru Mundur dari Kursi Komisaris BTN Sebelum D...</td>\n",
       "      <td>EKONOMI</td>\n",
       "      <td>Heru Mundur dari Kursi Komisaris BTN Sebelum D...</td>\n",
       "      <td>[heru, mundur, dari, kursi, komisaris, btn, se...</td>\n",
       "      <td>[heru, mundur, dari, kursi, komisaris, btn, se...</td>\n",
       "    </tr>\n",
       "    <tr>\n",
       "      <th>4</th>\n",
       "      <td>INFOGRAFIS: Efek Berantai Penguatan Dolar AS k...</td>\n",
       "      <td>EKONOMI</td>\n",
       "      <td>INFOGRAFIS Efek Berantai Penguatan Dolar AS ke...</td>\n",
       "      <td>[infografis, efek, berantai, penguatan, dolar,...</td>\n",
       "      <td>[infografis, efek, berantai, penguatan, dolar,...</td>\n",
       "    </tr>\n",
       "    <tr>\n",
       "      <th>5</th>\n",
       "      <td>Rupiah Lunglai ke Rp15.695 per Dolar AS Imbas ...</td>\n",
       "      <td>EKONOMI</td>\n",
       "      <td>Rupiah Lunglai ke Rp15695 per Dolar AS Imbas B...</td>\n",
       "      <td>[rupiah, lunglai, ke, rp15695, per, dolar, as,...</td>\n",
       "      <td>[rupiah, lunglai, ke, rp15695, per, dolar, as,...</td>\n",
       "    </tr>\n",
       "    <tr>\n",
       "      <th>6</th>\n",
       "      <td>Moody's Pangkas Outlook Peringkat Utang Inggri...</td>\n",
       "      <td>EKONOMI</td>\n",
       "      <td>Moodys Pangkas Outlook Peringkat Utang Inggris...</td>\n",
       "      <td>[moodys, pangkas, outlook, peringkat, utang, i...</td>\n",
       "      <td>[moodys, pangkas, outlook, peringkat, utang, i...</td>\n",
       "    </tr>\n",
       "    <tr>\n",
       "      <th>7</th>\n",
       "      <td>Suku Bunga The Fed Tekuk Rupiah Berlutut Nyari...</td>\n",
       "      <td>EKONOMI</td>\n",
       "      <td>Suku Bunga The Fed Tekuk Rupiah Berlutut Nyari...</td>\n",
       "      <td>[suku, bunga, the, fed, tekuk, rupiah, berlutu...</td>\n",
       "      <td>[suku, bunga, the, fed, tekuk, rupiah, berlutu...</td>\n",
       "    </tr>\n",
       "    <tr>\n",
       "      <th>8</th>\n",
       "      <td>Jasa Raharja Santuni 18 Korban Kebakaran KM Ca...</td>\n",
       "      <td>EKONOMI</td>\n",
       "      <td>Jasa Raharja Santuni 18 Korban Kebakaran KM Ca...</td>\n",
       "      <td>[jasa, raharja, santuni, 18, korban, kebakaran...</td>\n",
       "      <td>[jasa, raharja, santuni, 18, korban, kebakaran...</td>\n",
       "    </tr>\n",
       "    <tr>\n",
       "      <th>9</th>\n",
       "      <td>Rupiah Menguat ke Rp15.563 usai Imbal Hasil Ob...</td>\n",
       "      <td>EKONOMI</td>\n",
       "      <td>Rupiah Menguat ke Rp15563 usai Imbal Hasil Obl...</td>\n",
       "      <td>[rupiah, menguat, ke, rp15563, usai, imbal, ha...</td>\n",
       "      <td>[rupiah, menguat, ke, rp15563, usai, imbal, ha...</td>\n",
       "    </tr>\n",
       "  </tbody>\n",
       "</table>\n",
       "</div>\n",
       "      <button class=\"colab-df-convert\" onclick=\"convertToInteractive('df-540489bb-0cb1-418c-9953-94cc5b3c3177')\"\n",
       "              title=\"Convert this dataframe to an interactive table.\"\n",
       "              style=\"display:none;\">\n",
       "        \n",
       "  <svg xmlns=\"http://www.w3.org/2000/svg\" height=\"24px\"viewBox=\"0 0 24 24\"\n",
       "       width=\"24px\">\n",
       "    <path d=\"M0 0h24v24H0V0z\" fill=\"none\"/>\n",
       "    <path d=\"M18.56 5.44l.94 2.06.94-2.06 2.06-.94-2.06-.94-.94-2.06-.94 2.06-2.06.94zm-11 1L8.5 8.5l.94-2.06 2.06-.94-2.06-.94L8.5 2.5l-.94 2.06-2.06.94zm10 10l.94 2.06.94-2.06 2.06-.94-2.06-.94-.94-2.06-.94 2.06-2.06.94z\"/><path d=\"M17.41 7.96l-1.37-1.37c-.4-.4-.92-.59-1.43-.59-.52 0-1.04.2-1.43.59L10.3 9.45l-7.72 7.72c-.78.78-.78 2.05 0 2.83L4 21.41c.39.39.9.59 1.41.59.51 0 1.02-.2 1.41-.59l7.78-7.78 2.81-2.81c.8-.78.8-2.07 0-2.86zM5.41 20L4 18.59l7.72-7.72 1.47 1.35L5.41 20z\"/>\n",
       "  </svg>\n",
       "      </button>\n",
       "      \n",
       "  <style>\n",
       "    .colab-df-container {\n",
       "      display:flex;\n",
       "      flex-wrap:wrap;\n",
       "      gap: 12px;\n",
       "    }\n",
       "\n",
       "    .colab-df-convert {\n",
       "      background-color: #E8F0FE;\n",
       "      border: none;\n",
       "      border-radius: 50%;\n",
       "      cursor: pointer;\n",
       "      display: none;\n",
       "      fill: #1967D2;\n",
       "      height: 32px;\n",
       "      padding: 0 0 0 0;\n",
       "      width: 32px;\n",
       "    }\n",
       "\n",
       "    .colab-df-convert:hover {\n",
       "      background-color: #E2EBFA;\n",
       "      box-shadow: 0px 1px 2px rgba(60, 64, 67, 0.3), 0px 1px 3px 1px rgba(60, 64, 67, 0.15);\n",
       "      fill: #174EA6;\n",
       "    }\n",
       "\n",
       "    [theme=dark] .colab-df-convert {\n",
       "      background-color: #3B4455;\n",
       "      fill: #D2E3FC;\n",
       "    }\n",
       "\n",
       "    [theme=dark] .colab-df-convert:hover {\n",
       "      background-color: #434B5C;\n",
       "      box-shadow: 0px 1px 3px 1px rgba(0, 0, 0, 0.15);\n",
       "      filter: drop-shadow(0px 1px 2px rgba(0, 0, 0, 0.3));\n",
       "      fill: #FFFFFF;\n",
       "    }\n",
       "  </style>\n",
       "\n",
       "      <script>\n",
       "        const buttonEl =\n",
       "          document.querySelector('#df-540489bb-0cb1-418c-9953-94cc5b3c3177 button.colab-df-convert');\n",
       "        buttonEl.style.display =\n",
       "          google.colab.kernel.accessAllowed ? 'block' : 'none';\n",
       "\n",
       "        async function convertToInteractive(key) {\n",
       "          const element = document.querySelector('#df-540489bb-0cb1-418c-9953-94cc5b3c3177');\n",
       "          const dataTable =\n",
       "            await google.colab.kernel.invokeFunction('convertToInteractive',\n",
       "                                                     [key], {});\n",
       "          if (!dataTable) return;\n",
       "\n",
       "          const docLinkHtml = 'Like what you see? Visit the ' +\n",
       "            '<a target=\"_blank\" href=https://colab.research.google.com/notebooks/data_table.ipynb>data table notebook</a>'\n",
       "            + ' to learn more about interactive tables.';\n",
       "          element.innerHTML = '';\n",
       "          dataTable['output_type'] = 'display_data';\n",
       "          await google.colab.output.renderOutput(dataTable, element);\n",
       "          const docLink = document.createElement('div');\n",
       "          docLink.innerHTML = docLinkHtml;\n",
       "          element.appendChild(docLink);\n",
       "        }\n",
       "      </script>\n",
       "    </div>\n",
       "  </div>\n",
       "  "
      ],
      "text/plain": [
       "                                               JUDUL KATEGORI  \\\n",
       "0  Total Aset Keuangan Syariah RI Tembus Rp2.200 ...  EKONOMI   \n",
       "1         VIDEO: Bagaimana Cara Kerja Robot Trading?  EKONOMI   \n",
       "2  5 Dampak Kenaikan Suku Bunga BI yang Bikin Beb...  EKONOMI   \n",
       "3  Heru Mundur dari Kursi Komisaris BTN Sebelum D...  EKONOMI   \n",
       "4  INFOGRAFIS: Efek Berantai Penguatan Dolar AS k...  EKONOMI   \n",
       "5  Rupiah Lunglai ke Rp15.695 per Dolar AS Imbas ...  EKONOMI   \n",
       "6  Moody's Pangkas Outlook Peringkat Utang Inggri...  EKONOMI   \n",
       "7  Suku Bunga The Fed Tekuk Rupiah Berlutut Nyari...  EKONOMI   \n",
       "8  Jasa Raharja Santuni 18 Korban Kebakaran KM Ca...  EKONOMI   \n",
       "9  Rupiah Menguat ke Rp15.563 usai Imbal Hasil Ob...  EKONOMI   \n",
       "\n",
       "                                      HEADLINE_CLEAN  \\\n",
       "0  Total Aset Keuangan Syariah RI Tembus Rp2200 T...   \n",
       "1           VIDEO Bagaimana Cara Kerja Robot Trading   \n",
       "2  5 Dampak Kenaikan Suku Bunga BI yang Bikin Beb...   \n",
       "3  Heru Mundur dari Kursi Komisaris BTN Sebelum D...   \n",
       "4  INFOGRAFIS Efek Berantai Penguatan Dolar AS ke...   \n",
       "5  Rupiah Lunglai ke Rp15695 per Dolar AS Imbas B...   \n",
       "6  Moodys Pangkas Outlook Peringkat Utang Inggris...   \n",
       "7  Suku Bunga The Fed Tekuk Rupiah Berlutut Nyari...   \n",
       "8  Jasa Raharja Santuni 18 Korban Kebakaran KM Ca...   \n",
       "9  Rupiah Menguat ke Rp15563 usai Imbal Hasil Obl...   \n",
       "\n",
       "                                   HEADLINE_TOKENIZE  \\\n",
       "0  [total, aset, keuangan, syariah, ri, tembus, r...   \n",
       "1    [video, bagaimana, cara, kerja, robot, trading]   \n",
       "2  [5, dampak, kenaikan, suku, bunga, bi, yang, b...   \n",
       "3  [heru, mundur, dari, kursi, komisaris, btn, se...   \n",
       "4  [infografis, efek, berantai, penguatan, dolar,...   \n",
       "5  [rupiah, lunglai, ke, rp15695, per, dolar, as,...   \n",
       "6  [moodys, pangkas, outlook, peringkat, utang, i...   \n",
       "7  [suku, bunga, the, fed, tekuk, rupiah, berlutu...   \n",
       "8  [jasa, raharja, santuni, 18, korban, kebakaran...   \n",
       "9  [rupiah, menguat, ke, rp15563, usai, imbal, ha...   \n",
       "\n",
       "                                    HEADLINE_NON_STP  \n",
       "0  [total, aset, keuangan, syariah, ri, tembus, r...  \n",
       "1    [video, bagaimana, cara, kerja, robot, trading]  \n",
       "2  [5, dampak, kenaikan, suku, bunga, bi, yang, b...  \n",
       "3  [heru, mundur, dari, kursi, komisaris, btn, se...  \n",
       "4  [infografis, efek, berantai, penguatan, dolar,...  \n",
       "5  [rupiah, lunglai, ke, rp15695, per, dolar, as,...  \n",
       "6  [moodys, pangkas, outlook, peringkat, utang, i...  \n",
       "7  [suku, bunga, the, fed, tekuk, rupiah, berlutu...  \n",
       "8  [jasa, raharja, santuni, 18, korban, kebakaran...  \n",
       "9  [rupiah, menguat, ke, rp15563, usai, imbal, ha...  "
      ]
     },
     "execution_count": 17,
     "metadata": {},
     "output_type": "execute_result"
    }
   ],
   "source": [
    "def remove_stopwords(tokenized_list):\n",
    "    text = [word for word in tokenized_list if word not in stopword]\n",
    "    return text\n",
    "\n",
    "data['HEADLINE_NON_STP'] = data['HEADLINE_TOKENIZE'].apply(lambda x: remove_stopwords(x))\n",
    "\n",
    "data.head(10)"
   ]
  },
  {
   "cell_type": "code",
   "execution_count": null,
   "metadata": {
    "id": "jbMOEny2expW"
   },
   "outputs": [],
   "source": [
    "data['HH'] = data['HEADLINE_NON_STP'].str.join(\" \")"
   ]
  },
  {
   "cell_type": "code",
   "execution_count": null,
   "metadata": {
    "colab": {
     "base_uri": "https://localhost:8080/",
     "height": 363
    },
    "id": "R5PpMRygbftU",
    "outputId": "8e44dd54-ddbe-4209-dcfc-764952b6dddb"
   },
   "outputs": [
    {
     "data": {
      "text/html": [
       "\n",
       "  <div id=\"df-92759348-afa8-4a3f-8c44-545332bc67f0\">\n",
       "    <div class=\"colab-df-container\">\n",
       "      <div>\n",
       "<style scoped>\n",
       "    .dataframe tbody tr th:only-of-type {\n",
       "        vertical-align: middle;\n",
       "    }\n",
       "\n",
       "    .dataframe tbody tr th {\n",
       "        vertical-align: top;\n",
       "    }\n",
       "\n",
       "    .dataframe thead th {\n",
       "        text-align: right;\n",
       "    }\n",
       "</style>\n",
       "<table border=\"1\" class=\"dataframe\">\n",
       "  <thead>\n",
       "    <tr style=\"text-align: right;\">\n",
       "      <th></th>\n",
       "      <th>JUDUL</th>\n",
       "      <th>KATEGORI</th>\n",
       "    </tr>\n",
       "  </thead>\n",
       "  <tbody>\n",
       "    <tr>\n",
       "      <th>0</th>\n",
       "      <td>total aset keuangan syariah ri tembus rp2200 t...</td>\n",
       "      <td>EKONOMI</td>\n",
       "    </tr>\n",
       "    <tr>\n",
       "      <th>1</th>\n",
       "      <td>video bagaimana cara kerja robot trading</td>\n",
       "      <td>EKONOMI</td>\n",
       "    </tr>\n",
       "    <tr>\n",
       "      <th>2</th>\n",
       "      <td>5 dampak kenaikan suku bunga bi yang bikin beb...</td>\n",
       "      <td>EKONOMI</td>\n",
       "    </tr>\n",
       "    <tr>\n",
       "      <th>3</th>\n",
       "      <td>heru mundur dari kursi komisaris btn sebelum d...</td>\n",
       "      <td>EKONOMI</td>\n",
       "    </tr>\n",
       "    <tr>\n",
       "      <th>4</th>\n",
       "      <td>infografis efek berantai penguatan dolar as ke...</td>\n",
       "      <td>EKONOMI</td>\n",
       "    </tr>\n",
       "    <tr>\n",
       "      <th>5</th>\n",
       "      <td>rupiah lunglai ke rp15695 per dolar as imbas b...</td>\n",
       "      <td>EKONOMI</td>\n",
       "    </tr>\n",
       "    <tr>\n",
       "      <th>6</th>\n",
       "      <td>moodys pangkas outlook peringkat utang inggris...</td>\n",
       "      <td>EKONOMI</td>\n",
       "    </tr>\n",
       "    <tr>\n",
       "      <th>7</th>\n",
       "      <td>suku bunga the fed tekuk rupiah berlutut nyari...</td>\n",
       "      <td>EKONOMI</td>\n",
       "    </tr>\n",
       "    <tr>\n",
       "      <th>8</th>\n",
       "      <td>jasa raharja santuni 18 korban kebakaran km ca...</td>\n",
       "      <td>EKONOMI</td>\n",
       "    </tr>\n",
       "    <tr>\n",
       "      <th>9</th>\n",
       "      <td>rupiah menguat ke rp15563 usai imbal hasil obl...</td>\n",
       "      <td>EKONOMI</td>\n",
       "    </tr>\n",
       "  </tbody>\n",
       "</table>\n",
       "</div>\n",
       "      <button class=\"colab-df-convert\" onclick=\"convertToInteractive('df-92759348-afa8-4a3f-8c44-545332bc67f0')\"\n",
       "              title=\"Convert this dataframe to an interactive table.\"\n",
       "              style=\"display:none;\">\n",
       "        \n",
       "  <svg xmlns=\"http://www.w3.org/2000/svg\" height=\"24px\"viewBox=\"0 0 24 24\"\n",
       "       width=\"24px\">\n",
       "    <path d=\"M0 0h24v24H0V0z\" fill=\"none\"/>\n",
       "    <path d=\"M18.56 5.44l.94 2.06.94-2.06 2.06-.94-2.06-.94-.94-2.06-.94 2.06-2.06.94zm-11 1L8.5 8.5l.94-2.06 2.06-.94-2.06-.94L8.5 2.5l-.94 2.06-2.06.94zm10 10l.94 2.06.94-2.06 2.06-.94-2.06-.94-.94-2.06-.94 2.06-2.06.94z\"/><path d=\"M17.41 7.96l-1.37-1.37c-.4-.4-.92-.59-1.43-.59-.52 0-1.04.2-1.43.59L10.3 9.45l-7.72 7.72c-.78.78-.78 2.05 0 2.83L4 21.41c.39.39.9.59 1.41.59.51 0 1.02-.2 1.41-.59l7.78-7.78 2.81-2.81c.8-.78.8-2.07 0-2.86zM5.41 20L4 18.59l7.72-7.72 1.47 1.35L5.41 20z\"/>\n",
       "  </svg>\n",
       "      </button>\n",
       "      \n",
       "  <style>\n",
       "    .colab-df-container {\n",
       "      display:flex;\n",
       "      flex-wrap:wrap;\n",
       "      gap: 12px;\n",
       "    }\n",
       "\n",
       "    .colab-df-convert {\n",
       "      background-color: #E8F0FE;\n",
       "      border: none;\n",
       "      border-radius: 50%;\n",
       "      cursor: pointer;\n",
       "      display: none;\n",
       "      fill: #1967D2;\n",
       "      height: 32px;\n",
       "      padding: 0 0 0 0;\n",
       "      width: 32px;\n",
       "    }\n",
       "\n",
       "    .colab-df-convert:hover {\n",
       "      background-color: #E2EBFA;\n",
       "      box-shadow: 0px 1px 2px rgba(60, 64, 67, 0.3), 0px 1px 3px 1px rgba(60, 64, 67, 0.15);\n",
       "      fill: #174EA6;\n",
       "    }\n",
       "\n",
       "    [theme=dark] .colab-df-convert {\n",
       "      background-color: #3B4455;\n",
       "      fill: #D2E3FC;\n",
       "    }\n",
       "\n",
       "    [theme=dark] .colab-df-convert:hover {\n",
       "      background-color: #434B5C;\n",
       "      box-shadow: 0px 1px 3px 1px rgba(0, 0, 0, 0.15);\n",
       "      filter: drop-shadow(0px 1px 2px rgba(0, 0, 0, 0.3));\n",
       "      fill: #FFFFFF;\n",
       "    }\n",
       "  </style>\n",
       "\n",
       "      <script>\n",
       "        const buttonEl =\n",
       "          document.querySelector('#df-92759348-afa8-4a3f-8c44-545332bc67f0 button.colab-df-convert');\n",
       "        buttonEl.style.display =\n",
       "          google.colab.kernel.accessAllowed ? 'block' : 'none';\n",
       "\n",
       "        async function convertToInteractive(key) {\n",
       "          const element = document.querySelector('#df-92759348-afa8-4a3f-8c44-545332bc67f0');\n",
       "          const dataTable =\n",
       "            await google.colab.kernel.invokeFunction('convertToInteractive',\n",
       "                                                     [key], {});\n",
       "          if (!dataTable) return;\n",
       "\n",
       "          const docLinkHtml = 'Like what you see? Visit the ' +\n",
       "            '<a target=\"_blank\" href=https://colab.research.google.com/notebooks/data_table.ipynb>data table notebook</a>'\n",
       "            + ' to learn more about interactive tables.';\n",
       "          element.innerHTML = '';\n",
       "          dataTable['output_type'] = 'display_data';\n",
       "          await google.colab.output.renderOutput(dataTable, element);\n",
       "          const docLink = document.createElement('div');\n",
       "          docLink.innerHTML = docLinkHtml;\n",
       "          element.appendChild(docLink);\n",
       "        }\n",
       "      </script>\n",
       "    </div>\n",
       "  </div>\n",
       "  "
      ],
      "text/plain": [
       "                                               JUDUL KATEGORI\n",
       "0  total aset keuangan syariah ri tembus rp2200 t...  EKONOMI\n",
       "1           video bagaimana cara kerja robot trading  EKONOMI\n",
       "2  5 dampak kenaikan suku bunga bi yang bikin beb...  EKONOMI\n",
       "3  heru mundur dari kursi komisaris btn sebelum d...  EKONOMI\n",
       "4  infografis efek berantai penguatan dolar as ke...  EKONOMI\n",
       "5  rupiah lunglai ke rp15695 per dolar as imbas b...  EKONOMI\n",
       "6  moodys pangkas outlook peringkat utang inggris...  EKONOMI\n",
       "7  suku bunga the fed tekuk rupiah berlutut nyari...  EKONOMI\n",
       "8  jasa raharja santuni 18 korban kebakaran km ca...  EKONOMI\n",
       "9  rupiah menguat ke rp15563 usai imbal hasil obl...  EKONOMI"
      ]
     },
     "execution_count": 19,
     "metadata": {},
     "output_type": "execute_result"
    }
   ],
   "source": [
    "data['JUDUL'] = data['HH']\n",
    "data=data[['JUDUL','KATEGORI']]\n",
    "\n",
    "data.head(10)"
   ]
  },
  {
   "cell_type": "code",
   "execution_count": null,
   "metadata": {
    "colab": {
     "base_uri": "https://localhost:8080/"
    },
    "id": "MBH7j0etajgc",
    "outputId": "d68d0395-f7ea-4f2c-d110-10e0a2cc8b10"
   },
   "outputs": [
    {
     "data": {
      "text/plain": [
       "array(['EKONOMI', 'KESEHATAN', 'OLAH RAGA', 'POLITIK'], dtype=object)"
      ]
     },
     "execution_count": 20,
     "metadata": {},
     "output_type": "execute_result"
    }
   ],
   "source": [
    "data['KATEGORI'].unique()"
   ]
  },
  {
   "cell_type": "code",
   "execution_count": null,
   "metadata": {
    "id": "cBWPuhH3bClv"
   },
   "outputs": [],
   "source": [
    "EKO = data[data['KATEGORI'] == 'EKONOMI']['JUDUL'].tolist()\n",
    "OLA = data[data['KATEGORI'] == 'OLAH RAGA']['JUDUL'].tolist()\n",
    "HEL = data[data['KATEGORI'] == 'KESEHATAN']['JUDUL'].tolist()\n",
    "POL = data[data['KATEGORI'] == 'POLITIK']['JUDUL'].tolist()\n",
    "  "
   ]
  },
  {
   "cell_type": "code",
   "execution_count": null,
   "metadata": {
    "colab": {
     "base_uri": "https://localhost:8080/",
     "height": 88
    },
    "id": "xEyylfkF6yA7",
    "outputId": "e7ed272d-156c-4b4a-9822-4effa79f3b85"
   },
   "outputs": [
    {
     "data": {
      "text/plain": [
       "751"
      ]
     },
     "metadata": {},
     "output_type": "display_data"
    },
    {
     "data": {
      "text/plain": [
       "751"
      ]
     },
     "metadata": {},
     "output_type": "display_data"
    },
    {
     "data": {
      "text/plain": [
       "751"
      ]
     },
     "metadata": {},
     "output_type": "display_data"
    },
    {
     "data": {
      "text/plain": [
       "751"
      ]
     },
     "metadata": {},
     "output_type": "display_data"
    }
   ],
   "source": [
    "display(len(EKO),len(OLA),len(HEL),len(POL))"
   ]
  },
  {
   "cell_type": "code",
   "execution_count": null,
   "metadata": {
    "id": "v9lz-t5769Ee"
   },
   "outputs": [],
   "source": [
    "EKO1 = EKO[:int(len(EKO)*0.8)]\n",
    "EKO2 = EKO[int(len(EKO)*0.8):]"
   ]
  },
  {
   "cell_type": "code",
   "execution_count": null,
   "metadata": {
    "id": "EOofroOa8jya"
   },
   "outputs": [],
   "source": [
    "OLA1 = OLA[:int(len(OLA)*0.8)]\n",
    "OLA2 = OLA[int(len(OLA)*0.8):]"
   ]
  },
  {
   "cell_type": "code",
   "execution_count": null,
   "metadata": {
    "id": "IA9Ccvg28vVZ"
   },
   "outputs": [],
   "source": [
    "HEL1 = HEL[:int(len(HEL)*0.8)]\n",
    "HEL2 = HEL[int(len(HEL)*0.8):]"
   ]
  },
  {
   "cell_type": "code",
   "execution_count": null,
   "metadata": {
    "id": "OEeIf1GnwmJW"
   },
   "outputs": [],
   "source": [
    "POL1 = POL[:int(len(POL)*0.8)]\n",
    "POL2 = POL[int(len(POL)*0.8):]"
   ]
  },
  {
   "cell_type": "code",
   "execution_count": null,
   "metadata": {
    "id": "F8TjpJ0xcGOv"
   },
   "outputs": [],
   "source": []
  },
  {
   "cell_type": "code",
   "execution_count": null,
   "metadata": {
    "id": "1jPz3DdlcxZ6"
   },
   "outputs": [],
   "source": [
    "def buat1(x,y):\n",
    "  with open(f'DATASET/DTS3000/TRAIN/EKO/{x}.txt','w') as tulis:\n",
    "    print(y,end='',file=tulis)\n",
    "\n",
    "def buat2(x,y):\n",
    "  with open(f'DATASET/DTS3000/TRAIN/OLA/{x}.txt','w') as tulis:\n",
    "    print(y,end='',file=tulis)\n",
    "\n",
    "def buat3(x,y):\n",
    "  with open(f'DATASET/DTS3000/TRAIN/HEL/{x}.txt','w') as tulis:\n",
    "    print(y,end='',file=tulis)        \n",
    "\n",
    "\n",
    "\n",
    "def buat4(x,y):\n",
    "  with open(f'DATASET/DTS3000/TEST/EKO/{x}.txt','w') as tulis:\n",
    "    print(y,end='',file=tulis)\n",
    "\n",
    "def buat5(x,y):\n",
    "  with open(f'DATASET/DTS3000/TEST/OLA/{x}.txt','w') as tulis:\n",
    "    print(y,end='',file=tulis)\n",
    "\n",
    "def buat6(x,y):\n",
    "  with open(f'DATASET/DTS3000/TEST/HEL/{x}.txt','w') as tulis:\n",
    "    print(y,end='',file=tulis)      \n",
    "\n",
    "\n",
    "def buat7(x,y):\n",
    "  with open(f'DATASET/DTS3000/TRAIN/POL/{x}.txt','w') as tulis:\n",
    "    print(y,end='',file=tulis)    \n",
    "\n",
    "def buat8(x,y):\n",
    "  with open(f'DATASET/DTS3000/TEST/POL/{x}.txt','w') as tulis:\n",
    "    print(y,end='',file=tulis)          "
   ]
  },
  {
   "cell_type": "code",
   "execution_count": null,
   "metadata": {
    "colab": {
     "base_uri": "https://localhost:8080/",
     "height": 35
    },
    "id": "Es7YKwyBToEh",
    "outputId": "d378b61d-2bd4-4411-cbe5-3068d2c39c26"
   },
   "outputs": [
    {
     "data": {
      "application/vnd.google.colaboratory.intrinsic+json": {
       "type": "string"
      },
      "text/plain": [
       "'video bagaimana cara kerja robot trading'"
      ]
     },
     "execution_count": 28,
     "metadata": {},
     "output_type": "execute_result"
    }
   ],
   "source": [
    "EKO1[1]"
   ]
  },
  {
   "cell_type": "code",
   "execution_count": null,
   "metadata": {
    "colab": {
     "base_uri": "https://localhost:8080/",
     "height": 35
    },
    "id": "5RVD71b1xSW5",
    "outputId": "af3e1322-82c4-4e09-9eb4-7029a0ca6149"
   },
   "outputs": [
    {
     "data": {
      "application/vnd.google.colaboratory.intrinsic+json": {
       "type": "string"
      },
      "text/plain": [
       "'politikus gerindra sebut sandiaga positif ke ppp dia mau jadi ketua dpr'"
      ]
     },
     "execution_count": 29,
     "metadata": {},
     "output_type": "execute_result"
    }
   ],
   "source": [
    "POL[1]"
   ]
  },
  {
   "cell_type": "code",
   "execution_count": null,
   "metadata": {
    "id": "7xnLN4LobUGD"
   },
   "outputs": [],
   "source": [
    "for x in range(len(EKO1)):\n",
    "  buat1(x,EKO1[x])\n",
    "\n",
    "for x in range(len(HEL1)):\n",
    "  buat3(x,HEL1[x])\n",
    "\n",
    "for x in range(len(OLA1)):\n",
    "  buat2(x,OLA1[x])  \n",
    "\n",
    "for x in range(len(POL1)):\n",
    "  buat7(x,POL1[x])   \n",
    "\n",
    "\n",
    "\n",
    "for x in range(len(EKO2)):\n",
    "  buat4(x,EKO2[x])\n",
    "\n",
    "for x in range(len(HEL2)):\n",
    "  buat6(x,HEL2[x])\n",
    "\n",
    "for x in range(len(OLA2)):\n",
    "  buat5(x,OLA2[x])  \n",
    "\n",
    "for x in range(len(POL2)):\n",
    "  buat8(x,POL2[x])      \n"
   ]
  },
  {
   "cell_type": "code",
   "execution_count": null,
   "metadata": {
    "id": "dfgygJvdg19t"
   },
   "outputs": [],
   "source": []
  }
 ],
 "metadata": {
  "colab": {
   "provenance": []
  },
  "kernelspec": {
   "display_name": "Python 3",
   "language": "python",
   "name": "python3"
  },
  "language_info": {
   "codemirror_mode": {
    "name": "ipython",
    "version": 3
   },
   "file_extension": ".py",
   "mimetype": "text/x-python",
   "name": "python",
   "nbconvert_exporter": "python",
   "pygments_lexer": "ipython3",
   "version": "3.9.13"
  }
 },
 "nbformat": 4,
 "nbformat_minor": 4
}
