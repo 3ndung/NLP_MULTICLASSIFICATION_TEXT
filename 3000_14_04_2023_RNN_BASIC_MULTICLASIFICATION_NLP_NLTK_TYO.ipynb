{
 "cells": [
  {
   "cell_type": "markdown",
   "metadata": {
    "id": "wulUbvrtHF-w"
   },
   "source": [
    "Import library "
   ]
  },
  {
   "cell_type": "code",
   "execution_count": 2,
   "metadata": {
    "id": "nD7PJZ1KG5DW"
   },
   "outputs": [],
   "source": [
    "import matplotlib.pyplot as plt\n",
    "import os\n",
    "import re\n",
    "import shutil\n",
    "import string\n",
    "import tensorflow as tf\n",
    "import matplotlib.pyplot as plt\n",
    "import pandas as pd\n",
    "import seaborn as sns\n",
    "import numpy as np\n",
    "\n"
   ]
  },
  {
   "cell_type": "markdown",
   "metadata": {
    "id": "HbaLYlnunj2L"
   },
   "source": [
    "Update adding feature callbacks : Untuk mengambil weight/bobot terbaik saat training yang berfungsi mempercepat waktu pembelajaran dengan last point step adalah weight terbaik."
   ]
  },
  {
   "cell_type": "code",
   "execution_count": 3,
   "metadata": {
    "id": "lDuLogIYckN2"
   },
   "outputs": [],
   "source": [
    "from tensorflow.keras import layers\n",
    "from tensorflow.keras import losses\n",
    "from tensorflow.keras.callbacks import EarlyStopping, ModelCheckpoint"
   ]
  },
  {
   "cell_type": "markdown",
   "metadata": {
    "id": "uIjLHbiPHTR2"
   },
   "source": [
    "Cek TF Version"
   ]
  },
  {
   "cell_type": "code",
   "execution_count": 4,
   "metadata": {
    "colab": {
     "base_uri": "https://localhost:8080/"
    },
    "id": "sOzzke_vHRW9",
    "outputId": "57050b2c-3a1d-4c66-81b9-619cf52a9e91"
   },
   "outputs": [
    {
     "name": "stdout",
     "output_type": "stream",
     "text": [
      "2.9.0\n"
     ]
    }
   ],
   "source": [
    "print(tf.__version__)"
   ]
  },
  {
   "cell_type": "markdown",
   "metadata": {
    "id": "dkth6QYlH4A-"
   },
   "source": [
    "# Download dataset dari data yang sudah dibersihkan "
   ]
  },
  {
   "cell_type": "code",
   "execution_count": 6,
   "metadata": {},
   "outputs": [
    {
     "name": "stdout",
     "output_type": "stream",
     "text": [
      "TEST\n",
      "TRAIN\n"
     ]
    }
   ],
   "source": [
    "!ls DATASET/*"
   ]
  },
  {
   "cell_type": "code",
   "execution_count": 9,
   "metadata": {
    "id": "Jkcr4YjLMSJk"
   },
   "outputs": [],
   "source": [
    "dataset_dir = os.path.join(os.path.dirname('dataset'), 'DATASET/DTS3000/')"
   ]
  },
  {
   "cell_type": "markdown",
   "metadata": {
    "id": "fKYOm3irkmJv"
   },
   "source": [
    "## Melihat directory dataset"
   ]
  },
  {
   "cell_type": "code",
   "execution_count": 10,
   "metadata": {
    "colab": {
     "base_uri": "https://localhost:8080/"
    },
    "id": "8X3-kfvvMr8R",
    "outputId": "72fcbcd3-ee87-4932-856b-71124141d9a1"
   },
   "outputs": [
    {
     "data": {
      "text/plain": [
       "['TEST', 'TRAIN']"
      ]
     },
     "execution_count": 10,
     "metadata": {},
     "output_type": "execute_result"
    }
   ],
   "source": [
    "os.listdir(dataset_dir)"
   ]
  },
  {
   "cell_type": "markdown",
   "metadata": {
    "id": "4_e8nUJqM8lj"
   },
   "source": [
    "## SET DATA UNTUK DI TRAIN "
   ]
  },
  {
   "cell_type": "code",
   "execution_count": 11,
   "metadata": {
    "colab": {
     "base_uri": "https://localhost:8080/"
    },
    "id": "FtYcHT3WMs79",
    "outputId": "f36270f6-6f97-4f74-af64-250d1e118380"
   },
   "outputs": [
    {
     "data": {
      "text/plain": [
       "['EKO', 'HEL', 'OLA', 'POL']"
      ]
     },
     "execution_count": 11,
     "metadata": {},
     "output_type": "execute_result"
    }
   ],
   "source": [
    "train_dir = os.path.join(dataset_dir, 'TRAIN')\n",
    "os.listdir(train_dir)"
   ]
  },
  {
   "cell_type": "markdown",
   "metadata": {
    "id": "cIwhO064M_10"
   },
   "source": [
    "## SET DATA UNTUK DI TEST"
   ]
  },
  {
   "cell_type": "code",
   "execution_count": null,
   "metadata": {
    "colab": {
     "base_uri": "https://localhost:8080/"
    },
    "id": "76h1OCWVNC7l",
    "outputId": "c47b4e6e-9b84-4bf7-c721-dc4b9c7a2394"
   },
   "outputs": [
    {
     "data": {
      "text/plain": [
       "['EKO', 'HEL', 'OLA', 'POL']"
      ]
     },
     "execution_count": 8,
     "metadata": {},
     "output_type": "execute_result"
    }
   ],
   "source": [
    "test_dir = os.path.join(dataset_dir, 'TEST')\n",
    "os.listdir(train_dir)"
   ]
  },
  {
   "cell_type": "markdown",
   "metadata": {
    "id": "m4da4wQOk5g8"
   },
   "source": [
    "## Sampling data yang akan di Training "
   ]
  },
  {
   "cell_type": "code",
   "execution_count": 12,
   "metadata": {
    "colab": {
     "base_uri": "https://localhost:8080/"
    },
    "id": "y4X4padANHTW",
    "outputId": "6796bafd-3761-4ac3-bd1e-53d51489ed43"
   },
   "outputs": [
    {
     "name": "stdout",
     "output_type": "stream",
     "text": [
      "menaker pastikan ump 2023 naik sesuai tuntutan buruh\n"
     ]
    }
   ],
   "source": [
    "sample_file = os.path.join(train_dir, 'EKO/109.txt')\n",
    "\n",
    "with open(sample_file) as f:\n",
    "  print(f.read())"
   ]
  },
  {
   "cell_type": "markdown",
   "metadata": {
    "id": "eQEB0IAplncm"
   },
   "source": [
    "tf.keras.utils.text_dataset_from_directory adalah sebuah fungsi yang disediakan oleh TensorFlow yang digunakan untuk memuat data teks dari direktori pada sistem file. Fungsi ini membantu dalam mempersiapkan data dalam bentuk yang sesuai untuk pemrosesan menggunakan model pembelajaran mesin.\n",
    "\n",
    "Fungsi ini dapat membaca semua file teks dalam direktori tertentu dan mengorganisasikannya ke dalam dua set data, yaitu data latih dan data validasi, dengan pembagian data yang dapat dikonfigurasi oleh pengguna. Fungsi ini juga dapat menghasilkan sebuah objek tf.data.Dataset yang dapat digunakan untuk memasukkan data ke dalam model pembelajaran mesin.\n",
    "\n",
    "Pengguna dapat menentukan parameter seperti batch_size, seed, validation_split, subset, labels, dan sebagainya untuk mengatur bagaimana data akan dibagi dan disiapkan untuk model.\n",
    "\n",
    "Dalam keseluruhan, fungsi tf.keras.utils.text_dataset_from_directory sangat berguna bagi para pengembang dan peneliti yang bekerja dengan pemrosesan bahasa alami dan ingin mempersiapkan data teks dalam format yang sesuai untuk diproses dengan model pembelajaran mesin."
   ]
  },
  {
   "cell_type": "code",
   "execution_count": 14,
   "metadata": {
    "colab": {
     "base_uri": "https://localhost:8080/"
    },
    "id": "MEEvC45_N7RZ",
    "outputId": "e176eb53-3c5a-4497-ad84-88da9202acb0"
   },
   "outputs": [
    {
     "name": "stdout",
     "output_type": "stream",
     "text": [
      "Found 2400 files belonging to 4 classes.\n",
      "Using 1920 files for training.\n"
     ]
    }
   ],
   "source": [
    "batch_size = 32\n",
    "seed = 42\n",
    "\n",
    "raw_train_ds = tf.keras.utils.text_dataset_from_directory(\n",
    "    'DATASET/DTS3000//TRAIN', \n",
    "    batch_size=batch_size, \n",
    "    validation_split=0.2, # Parto law 80:20\n",
    "    subset='training', # ini digunakan untuk data yang akan di training\n",
    "    seed=seed)"
   ]
  },
  {
   "cell_type": "code",
   "execution_count": 15,
   "metadata": {
    "colab": {
     "base_uri": "https://localhost:8080/"
    },
    "id": "JTUNrQEQOIPt",
    "outputId": "53e7b51d-8f18-4597-9484-d5016cb29325"
   },
   "outputs": [
    {
     "name": "stdout",
     "output_type": "stream",
     "text": [
      "Review b'jelang persaingan panas perebutan titel juara dunia di motogp valencia 2022 fabio quartararo justru santai'\n",
      "Label 2\n",
      "Review b'ojk potensi kredit bermasalah terus meningkat seiring dampak pandemi pada ekonomi'\n",
      "Label 0\n",
      "Review b'penyakit kanker terkait gen dipengaruhi faktor lingkungan'\n",
      "Label 1\n"
     ]
    }
   ],
   "source": [
    "for text_batch, label_batch in raw_train_ds.take(1):\n",
    "  for i in range(3):\n",
    "    print(\"Review\", text_batch.numpy()[i])\n",
    "    print(\"Label\", label_batch.numpy()[i])"
   ]
  },
  {
   "cell_type": "code",
   "execution_count": 16,
   "metadata": {
    "colab": {
     "base_uri": "https://localhost:8080/"
    },
    "id": "3ouP_BxwOe7a",
    "outputId": "69f6a52b-f2ab-463a-87e3-947ec0dec037"
   },
   "outputs": [
    {
     "name": "stdout",
     "output_type": "stream",
     "text": [
      "Label 0 corresponds to EKO\n",
      "Label 1 corresponds to HEL\n",
      "Label 2 corresponds to OLA\n",
      "Label 3 corresponds to POL\n"
     ]
    }
   ],
   "source": [
    "print(\"Label 0 corresponds to\", raw_train_ds.class_names[0])\n",
    "print(\"Label 1 corresponds to\", raw_train_ds.class_names[1])\n",
    "print(\"Label 2 corresponds to\", raw_train_ds.class_names[2])\n",
    "print(\"Label 3 corresponds to\", raw_train_ds.class_names[3])"
   ]
  },
  {
   "cell_type": "code",
   "execution_count": 17,
   "metadata": {
    "colab": {
     "base_uri": "https://localhost:8080/"
    },
    "id": "z426gnYnOlOa",
    "outputId": "6000a9c3-4b3e-478b-a0fe-c090aee143ef"
   },
   "outputs": [
    {
     "name": "stdout",
     "output_type": "stream",
     "text": [
      "Found 2400 files belonging to 4 classes.\n",
      "Using 480 files for validation.\n"
     ]
    }
   ],
   "source": [
    "raw_val_ds = tf.keras.utils.text_dataset_from_directory(\n",
    "    'DATASET/DTS3000/TRAIN', \n",
    "    batch_size=batch_size, \n",
    "    validation_split=0.2, \n",
    "    subset='validation', \n",
    "    seed=seed)"
   ]
  },
  {
   "cell_type": "code",
   "execution_count": 18,
   "metadata": {
    "colab": {
     "base_uri": "https://localhost:8080/"
    },
    "id": "HrSDscr2O2pU",
    "outputId": "b6ad8e22-a1c3-4f18-97ac-6a9e81998280"
   },
   "outputs": [
    {
     "name": "stdout",
     "output_type": "stream",
     "text": [
      "Found 604 files belonging to 4 classes.\n"
     ]
    }
   ],
   "source": [
    "raw_test_ds = tf.keras.utils.text_dataset_from_directory(\n",
    "    'DATASET/DTS3000//TEST', \n",
    "    batch_size=batch_size)"
   ]
  },
  {
   "cell_type": "markdown",
   "metadata": {
    "id": "PYITtbK8LWwj"
   },
   "source": [
    "## Membuat function untuk menstandarkan/ menseragamkan string input"
   ]
  },
  {
   "cell_type": "code",
   "execution_count": 19,
   "metadata": {
    "id": "AugpXoBfPBeY"
   },
   "outputs": [],
   "source": [
    "def custom_standardization(input_data):\n",
    "  # Membuat Semua String menjadi Lower String/ huruf kecil Semua\n",
    "  lowercase = tf.strings.lower(input_data)\n",
    "  # Menghapus apabila ada html tag\n",
    "\n",
    "  stripped_html = tf.strings.regex_replace(lowercase, '<br />', ' ')\n",
    "  return tf.strings.regex_replace(stripped_html,\n",
    "                                  '[%s]' % re.escape(string.punctuation),\n",
    "                                  '')"
   ]
  },
  {
   "cell_type": "markdown",
   "metadata": {
    "id": "SmDjxk7fkuMU"
   },
   "source": [
    "## [TEXTVECTORIZATION](https://www.tensorflow.org/api_docs/python/tf/keras/layers/TextVectorization)\n",
    "\n",
    "Adalah pre-processing sebelum proses pembelajaran yang mengubah string mentah kedalam bentuk intger yang dapat dibaca oleh lapisan berikutnya dalam Synapsis/ Layer berikutnya contoh embeding dan denses\n"
   ]
  },
  {
   "cell_type": "code",
   "execution_count": 20,
   "metadata": {
    "id": "5y2kL-Q-lSkA"
   },
   "outputs": [],
   "source": [
    "max_features = 10000\n",
    "sequence_length = 250\n",
    "\n",
    "vectorize_layer = layers.TextVectorization(\n",
    "    # Memanggil fungsi sebelumnya yang mestandarkan semua string input menjadi lower case dan menghilangkan tag html bila ada\n",
    "    standardize=custom_standardization,\n",
    "    # Memberikan batasan padding agar panjang matrix sama pada setiap masukan.\n",
    "    max_tokens=max_features,\n",
    "    # Output String akan diubah menjadi bentuk integer\n",
    "    output_mode='int',\n",
    "    output_sequence_length=sequence_length)"
   ]
  },
  {
   "cell_type": "markdown",
   "metadata": {
    "id": "EqijZrfWl449"
   },
   "source": [
    "'''\n",
    "Next, you will call adapt to fit the state of the preprocessing layer to the dataset. This will cause the model to build an index of strings to integers.\n",
    "'''"
   ]
  },
  {
   "cell_type": "code",
   "execution_count": 21,
   "metadata": {
    "id": "ulGHvGJWlgI3"
   },
   "outputs": [],
   "source": [
    "# Make a text-only dataset (without labels), then call adapt\n",
    "train_text = raw_train_ds.map(lambda x, y: x)\n",
    "vectorize_layer.adapt(train_text)\n",
    "\n",
    "\n"
   ]
  },
  {
   "cell_type": "markdown",
   "metadata": {
    "id": "baE3pm5-T-rZ"
   },
   "source": [
    "# Fungsi yang mengubah setiap string text input ke dalam bentuk intger dan menyimpan dalam array, dengan menggunakan vectorize_layer yang telah diset diatas."
   ]
  },
  {
   "cell_type": "code",
   "execution_count": 22,
   "metadata": {
    "id": "NcySBx7rl8zj"
   },
   "outputs": [],
   "source": [
    "def vectorize_text(text, label):\n",
    "  text = tf.expand_dims(text, -1)\n",
    "  return vectorize_layer(text), label"
   ]
  },
  {
   "cell_type": "code",
   "execution_count": 23,
   "metadata": {
    "colab": {
     "base_uri": "https://localhost:8080/"
    },
    "id": "KY26gx46mFXz",
    "outputId": "f32204d5-3c14-4b81-b134-1f5dfe8ade3e"
   },
   "outputs": [
    {
     "name": "stdout",
     "output_type": "stream",
     "text": [
      "\n",
      "Review -> text_batch[13] tf.Tensor(b'studi olahraga teratur menjaga kesehatan otak pada orang tua', shape=(), dtype=string)\n",
      "Label -> Label_batch[13] HEL\n",
      "\n",
      "Vectorized review nya seperti ini \n",
      "\n",
      " (<tf.Tensor: shape=(1, 250), dtype=int64, numpy=\n",
      "array([[ 63,  86, 869, 304,  11, 302,  18, 156, 861,   0,   0,   0,   0,\n",
      "          0,   0,   0,   0,   0,   0,   0,   0,   0,   0,   0,   0,   0,\n",
      "          0,   0,   0,   0,   0,   0,   0,   0,   0,   0,   0,   0,   0,\n",
      "          0,   0,   0,   0,   0,   0,   0,   0,   0,   0,   0,   0,   0,\n",
      "          0,   0,   0,   0,   0,   0,   0,   0,   0,   0,   0,   0,   0,\n",
      "          0,   0,   0,   0,   0,   0,   0,   0,   0,   0,   0,   0,   0,\n",
      "          0,   0,   0,   0,   0,   0,   0,   0,   0,   0,   0,   0,   0,\n",
      "          0,   0,   0,   0,   0,   0,   0,   0,   0,   0,   0,   0,   0,\n",
      "          0,   0,   0,   0,   0,   0,   0,   0,   0,   0,   0,   0,   0,\n",
      "          0,   0,   0,   0,   0,   0,   0,   0,   0,   0,   0,   0,   0,\n",
      "          0,   0,   0,   0,   0,   0,   0,   0,   0,   0,   0,   0,   0,\n",
      "          0,   0,   0,   0,   0,   0,   0,   0,   0,   0,   0,   0,   0,\n",
      "          0,   0,   0,   0,   0,   0,   0,   0,   0,   0,   0,   0,   0,\n",
      "          0,   0,   0,   0,   0,   0,   0,   0,   0,   0,   0,   0,   0,\n",
      "          0,   0,   0,   0,   0,   0,   0,   0,   0,   0,   0,   0,   0,\n",
      "          0,   0,   0,   0,   0,   0,   0,   0,   0,   0,   0,   0,   0,\n",
      "          0,   0,   0,   0,   0,   0,   0,   0,   0,   0,   0,   0,   0,\n",
      "          0,   0,   0,   0,   0,   0,   0,   0,   0,   0,   0,   0,   0,\n",
      "          0,   0,   0,   0,   0,   0,   0,   0,   0,   0,   0,   0,   0,\n",
      "          0,   0,   0]], dtype=int64)>, <tf.Tensor: shape=(), dtype=int32, numpy=1>)\n"
     ]
    }
   ],
   "source": [
    "text_batch, label_batch = next(iter(raw_train_ds))\n",
    "first_review, first_label = text_batch[13], label_batch[13]\n",
    "print(\"\\nReview -> text_batch[13]\", first_review)\n",
    "print(\"Label -> Label_batch[13]\", raw_train_ds.class_names[first_label])\n",
    "print(\"\\nVectorized review nya seperti ini \\n\\n\", vectorize_text(first_review, first_label))"
   ]
  },
  {
   "cell_type": "markdown",
   "metadata": {
    "id": "UctZlpiLoUJ9"
   },
   "source": [
    "## Pembuktian Terbalik TEXTVECTORIZATION"
   ]
  },
  {
   "cell_type": "code",
   "execution_count": 24,
   "metadata": {
    "colab": {
     "base_uri": "https://localhost:8080/"
    },
    "id": "g4mQQp4zmz0q",
    "outputId": "81241470-097c-4927-96a2-540a4052445e"
   },
   "outputs": [
    {
     "name": "stdout",
     "output_type": "stream",
     "text": [
      "119 --->  emas\n",
      "395 --->  kelebihan\n",
      "Vocabulary size: 4740\n"
     ]
    }
   ],
   "source": [
    "print(\"119 ---> \",vectorize_layer.get_vocabulary()[119])\n",
    "print(\"395 ---> \",vectorize_layer.get_vocabulary()[395])\n",
    "print('Vocabulary size: {}'.format(len(vectorize_layer.get_vocabulary())))"
   ]
  },
  {
   "cell_type": "markdown",
   "metadata": {
    "id": "oAmWnF1MVWcg"
   },
   "source": [
    "# Menggubah semua input train, validasi dan test kedalam bentuk integer"
   ]
  },
  {
   "cell_type": "code",
   "execution_count": 25,
   "metadata": {
    "id": "lEucwjQ-m_Vp"
   },
   "outputs": [],
   "source": [
    "train_ds = raw_train_ds.map(vectorize_text)\n",
    "val_ds = raw_val_ds.map(vectorize_text)\n",
    "test_ds = raw_test_ds.map(vectorize_text)"
   ]
  },
  {
   "cell_type": "code",
   "execution_count": 26,
   "metadata": {
    "id": "mIb-okwOqkk5"
   },
   "outputs": [],
   "source": [
    "# Tunning dataset train, validasi dan test dengan AUTOTUNE untuk optimisasi shape data\n",
    "AUTOTUNE = tf.data.AUTOTUNE\n",
    "\n",
    "train_ds = train_ds.cache().prefetch(buffer_size=AUTOTUNE)\n",
    "val_ds = val_ds.cache().prefetch(buffer_size=AUTOTUNE)\n",
    "test_ds = test_ds.cache().prefetch(buffer_size=AUTOTUNE)"
   ]
  },
  {
   "cell_type": "markdown",
   "metadata": {
    "id": "I6QrFPXaWMnJ"
   },
   "source": [
    "# Layer embedding dimension kita set menjadi 16 , seperti yang sering digunakan dalam panduan, embedding ini hanya dapat digunakan pada integer positiv dan untuk memperbaiki matrix."
   ]
  },
  {
   "cell_type": "code",
   "execution_count": 27,
   "metadata": {
    "id": "lG28akNvrENY"
   },
   "outputs": [],
   "source": [
    "embedding_dim = 16"
   ]
  },
  {
   "cell_type": "code",
   "execution_count": null,
   "metadata": {
    "id": "EO8LQT0jiq0I"
   },
   "outputs": [],
   "source": []
  },
  {
   "cell_type": "markdown",
   "metadata": {
    "id": "CU5yo7M1or1j"
   },
   "source": [
    "## RNN MODEL "
   ]
  },
  {
   "cell_type": "code",
   "execution_count": 28,
   "metadata": {
    "colab": {
     "base_uri": "https://localhost:8080/",
     "height": 1000
    },
    "id": "X7rx6X_5rKo3",
    "outputId": "196a612a-e87d-4375-f250-847defb5a1e3"
   },
   "outputs": [
    {
     "name": "stdout",
     "output_type": "stream",
     "text": [
      "Model: \"sequential\"\n",
      "_________________________________________________________________\n",
      " Layer (type)                Output Shape              Param #   \n",
      "=================================================================\n",
      " embedding (Embedding)       (None, None, 16)          160016    \n",
      "                                                                 \n",
      " dropout (Dropout)           (None, None, 16)          0         \n",
      "                                                                 \n",
      " global_average_pooling1d (G  (None, 16)               0         \n",
      " lobalAveragePooling1D)                                          \n",
      "                                                                 \n",
      " dropout_1 (Dropout)         (None, 16)                0         \n",
      "                                                                 \n",
      " dense (Dense)               (None, 4)                 68        \n",
      "                                                                 \n",
      "=================================================================\n",
      "Total params: 160,084\n",
      "Trainable params: 160,084\n",
      "Non-trainable params: 0\n",
      "_________________________________________________________________\n",
      "You must install pydot (`pip install pydot`) and install graphviz (see instructions at https://graphviz.gitlab.io/download/) for plot_model/model_to_dot to work.\n"
     ]
    }
   ],
   "source": [
    "model = tf.keras.Sequential([\n",
    "  layers.Embedding(max_features + 1, embedding_dim),\n",
    "  layers.Dropout(0.2),\n",
    "  layers.GlobalAveragePooling1D(),\n",
    "  layers.Dropout(0.2),\n",
    "  layers.Dense(4)])\n",
    "\n",
    "model.summary()\n",
    "\n",
    "\n",
    "\n",
    "img_file = 'model_arch.png'\n",
    "tf.keras.utils.plot_model(model, to_file=img_file, show_shapes=True, show_layer_names=True)"
   ]
  },
  {
   "cell_type": "code",
   "execution_count": 29,
   "metadata": {
    "id": "ZZ4gSBNyyBgl"
   },
   "outputs": [],
   "source": [
    "model.compile(loss = losses.SparseCategoricalCrossentropy(from_logits=True), optimizer = 'adam', metrics = ['accuracy'])"
   ]
  },
  {
   "cell_type": "code",
   "execution_count": 30,
   "metadata": {
    "id": "ym0SqBxHfw3D"
   },
   "outputs": [],
   "source": [
    "early_stopping = EarlyStopping(monitor='val_loss',patience=5)\n",
    "checkpoint = ModelCheckpoint(filepath='BEST_AJA.h5',save_best_only=True, save_weights_only=True)"
   ]
  },
  {
   "cell_type": "code",
   "execution_count": 31,
   "metadata": {
    "colab": {
     "base_uri": "https://localhost:8080/"
    },
    "id": "S4gEVVopw1Di",
    "outputId": "3121ddc2-b615-4ca5-cdfa-08edc2b4d439"
   },
   "outputs": [
    {
     "name": "stdout",
     "output_type": "stream",
     "text": [
      "Epoch 1/150\n",
      "60/60 [==============================] - 1s 14ms/step - loss: 1.3869 - accuracy: 0.2562 - val_loss: 1.3856 - val_accuracy: 0.2479\n",
      "Epoch 2/150\n",
      "60/60 [==============================] - 0s 4ms/step - loss: 1.3841 - accuracy: 0.2802 - val_loss: 1.3856 - val_accuracy: 0.2062\n",
      "Epoch 3/150\n",
      "60/60 [==============================] - 0s 5ms/step - loss: 1.3828 - accuracy: 0.2703 - val_loss: 1.3843 - val_accuracy: 0.2062\n",
      "Epoch 4/150\n",
      "60/60 [==============================] - 0s 4ms/step - loss: 1.3799 - accuracy: 0.2896 - val_loss: 1.3829 - val_accuracy: 0.2062\n",
      "Epoch 5/150\n",
      "60/60 [==============================] - 0s 4ms/step - loss: 1.3774 - accuracy: 0.2828 - val_loss: 1.3802 - val_accuracy: 0.2062\n",
      "Epoch 6/150\n",
      "60/60 [==============================] - 0s 4ms/step - loss: 1.3738 - accuracy: 0.2995 - val_loss: 1.3770 - val_accuracy: 0.2062\n",
      "Epoch 7/150\n",
      "60/60 [==============================] - 0s 4ms/step - loss: 1.3700 - accuracy: 0.3354 - val_loss: 1.3740 - val_accuracy: 0.2083\n",
      "Epoch 8/150\n",
      "60/60 [==============================] - 0s 4ms/step - loss: 1.3658 - accuracy: 0.3323 - val_loss: 1.3701 - val_accuracy: 0.2146\n",
      "Epoch 9/150\n",
      "60/60 [==============================] - 0s 4ms/step - loss: 1.3612 - accuracy: 0.4057 - val_loss: 1.3646 - val_accuracy: 0.2917\n",
      "Epoch 10/150\n",
      "60/60 [==============================] - 0s 4ms/step - loss: 1.3541 - accuracy: 0.5135 - val_loss: 1.3586 - val_accuracy: 0.4625\n",
      "Epoch 11/150\n",
      "60/60 [==============================] - 0s 5ms/step - loss: 1.3476 - accuracy: 0.5786 - val_loss: 1.3520 - val_accuracy: 0.5833\n",
      "Epoch 12/150\n",
      "60/60 [==============================] - 0s 4ms/step - loss: 1.3391 - accuracy: 0.6589 - val_loss: 1.3454 - val_accuracy: 0.5750\n",
      "Epoch 13/150\n",
      "60/60 [==============================] - 0s 4ms/step - loss: 1.3307 - accuracy: 0.6318 - val_loss: 1.3365 - val_accuracy: 0.6958\n",
      "Epoch 14/150\n",
      "60/60 [==============================] - 0s 4ms/step - loss: 1.3203 - accuracy: 0.7031 - val_loss: 1.3280 - val_accuracy: 0.6979\n",
      "Epoch 15/150\n",
      "60/60 [==============================] - 0s 5ms/step - loss: 1.3078 - accuracy: 0.7667 - val_loss: 1.3177 - val_accuracy: 0.7792\n",
      "Epoch 16/150\n",
      "60/60 [==============================] - 0s 5ms/step - loss: 1.2965 - accuracy: 0.8229 - val_loss: 1.3052 - val_accuracy: 0.8729\n",
      "Epoch 17/150\n",
      "60/60 [==============================] - 0s 4ms/step - loss: 1.2823 - accuracy: 0.8380 - val_loss: 1.2936 - val_accuracy: 0.8458\n",
      "Epoch 18/150\n",
      "60/60 [==============================] - 0s 4ms/step - loss: 1.2677 - accuracy: 0.8703 - val_loss: 1.2809 - val_accuracy: 0.8750\n",
      "Epoch 19/150\n",
      "60/60 [==============================] - 0s 5ms/step - loss: 1.2519 - accuracy: 0.8755 - val_loss: 1.2672 - val_accuracy: 0.8750\n",
      "Epoch 20/150\n",
      "60/60 [==============================] - 0s 4ms/step - loss: 1.2357 - accuracy: 0.8792 - val_loss: 1.2524 - val_accuracy: 0.8750\n",
      "Epoch 21/150\n",
      "60/60 [==============================] - 0s 4ms/step - loss: 1.2180 - accuracy: 0.9161 - val_loss: 1.2352 - val_accuracy: 0.9000\n",
      "Epoch 22/150\n",
      "60/60 [==============================] - 0s 4ms/step - loss: 1.1988 - accuracy: 0.9333 - val_loss: 1.2184 - val_accuracy: 0.8979\n",
      "Epoch 23/150\n",
      "60/60 [==============================] - 0s 5ms/step - loss: 1.1790 - accuracy: 0.9385 - val_loss: 1.1997 - val_accuracy: 0.9104\n",
      "Epoch 24/150\n",
      "60/60 [==============================] - 0s 5ms/step - loss: 1.1589 - accuracy: 0.9479 - val_loss: 1.1835 - val_accuracy: 0.9125\n",
      "Epoch 25/150\n",
      "60/60 [==============================] - 0s 6ms/step - loss: 1.1368 - accuracy: 0.9573 - val_loss: 1.1638 - val_accuracy: 0.9062\n",
      "Epoch 26/150\n",
      "60/60 [==============================] - 0s 5ms/step - loss: 1.1132 - accuracy: 0.9599 - val_loss: 1.1446 - val_accuracy: 0.9062\n",
      "Epoch 27/150\n",
      "60/60 [==============================] - 0s 6ms/step - loss: 1.0916 - accuracy: 0.9568 - val_loss: 1.1255 - val_accuracy: 0.9042\n",
      "Epoch 28/150\n",
      "60/60 [==============================] - 0s 6ms/step - loss: 1.0688 - accuracy: 0.9568 - val_loss: 1.1043 - val_accuracy: 0.9104\n",
      "Epoch 29/150\n",
      "60/60 [==============================] - 0s 5ms/step - loss: 1.0439 - accuracy: 0.9578 - val_loss: 1.0852 - val_accuracy: 0.9062\n",
      "Epoch 30/150\n",
      "60/60 [==============================] - 0s 5ms/step - loss: 1.0201 - accuracy: 0.9568 - val_loss: 1.0636 - val_accuracy: 0.9125\n",
      "Epoch 31/150\n",
      "60/60 [==============================] - 0s 5ms/step - loss: 0.9960 - accuracy: 0.9573 - val_loss: 1.0411 - val_accuracy: 0.9083\n",
      "Epoch 32/150\n",
      "60/60 [==============================] - 0s 6ms/step - loss: 0.9718 - accuracy: 0.9568 - val_loss: 1.0208 - val_accuracy: 0.9083\n",
      "Epoch 33/150\n",
      "60/60 [==============================] - 0s 7ms/step - loss: 0.9460 - accuracy: 0.9635 - val_loss: 1.0000 - val_accuracy: 0.9104\n",
      "Epoch 34/150\n",
      "60/60 [==============================] - 0s 6ms/step - loss: 0.9232 - accuracy: 0.9594 - val_loss: 0.9794 - val_accuracy: 0.9062\n",
      "Epoch 35/150\n",
      "60/60 [==============================] - 0s 6ms/step - loss: 0.8986 - accuracy: 0.9667 - val_loss: 0.9571 - val_accuracy: 0.9062\n",
      "Epoch 36/150\n",
      "60/60 [==============================] - 0s 5ms/step - loss: 0.8735 - accuracy: 0.9641 - val_loss: 0.9361 - val_accuracy: 0.9187\n",
      "Epoch 37/150\n",
      "60/60 [==============================] - 0s 6ms/step - loss: 0.8479 - accuracy: 0.9667 - val_loss: 0.9147 - val_accuracy: 0.9083\n",
      "Epoch 38/150\n",
      "60/60 [==============================] - 0s 5ms/step - loss: 0.8236 - accuracy: 0.9667 - val_loss: 0.8951 - val_accuracy: 0.9167\n",
      "Epoch 39/150\n",
      "60/60 [==============================] - 0s 5ms/step - loss: 0.8031 - accuracy: 0.9651 - val_loss: 0.8753 - val_accuracy: 0.9208\n",
      "Epoch 40/150\n",
      "60/60 [==============================] - 0s 5ms/step - loss: 0.7810 - accuracy: 0.9656 - val_loss: 0.8554 - val_accuracy: 0.9146\n",
      "Epoch 41/150\n",
      "60/60 [==============================] - 0s 5ms/step - loss: 0.7551 - accuracy: 0.9656 - val_loss: 0.8353 - val_accuracy: 0.9208\n",
      "Epoch 42/150\n",
      "60/60 [==============================] - 0s 4ms/step - loss: 0.7361 - accuracy: 0.9672 - val_loss: 0.8171 - val_accuracy: 0.9167\n",
      "Epoch 43/150\n",
      "60/60 [==============================] - 0s 5ms/step - loss: 0.7192 - accuracy: 0.9677 - val_loss: 0.7983 - val_accuracy: 0.9208\n",
      "Epoch 44/150\n",
      "60/60 [==============================] - 0s 5ms/step - loss: 0.6968 - accuracy: 0.9724 - val_loss: 0.7793 - val_accuracy: 0.9187\n",
      "Epoch 45/150\n",
      "60/60 [==============================] - 0s 6ms/step - loss: 0.6724 - accuracy: 0.9667 - val_loss: 0.7636 - val_accuracy: 0.9208\n",
      "Epoch 46/150\n",
      "60/60 [==============================] - 0s 5ms/step - loss: 0.6531 - accuracy: 0.9719 - val_loss: 0.7457 - val_accuracy: 0.9208\n",
      "Epoch 47/150\n",
      "60/60 [==============================] - 0s 5ms/step - loss: 0.6358 - accuracy: 0.9708 - val_loss: 0.7278 - val_accuracy: 0.9146\n",
      "Epoch 48/150\n",
      "60/60 [==============================] - 0s 5ms/step - loss: 0.6173 - accuracy: 0.9698 - val_loss: 0.7121 - val_accuracy: 0.9208\n",
      "Epoch 49/150\n",
      "60/60 [==============================] - 0s 5ms/step - loss: 0.5966 - accuracy: 0.9714 - val_loss: 0.6963 - val_accuracy: 0.9187\n",
      "Epoch 50/150\n",
      "60/60 [==============================] - 0s 5ms/step - loss: 0.5831 - accuracy: 0.9719 - val_loss: 0.6810 - val_accuracy: 0.9250\n",
      "Epoch 51/150\n",
      "60/60 [==============================] - 0s 5ms/step - loss: 0.5673 - accuracy: 0.9740 - val_loss: 0.6660 - val_accuracy: 0.9229\n",
      "Epoch 52/150\n",
      "60/60 [==============================] - 0s 5ms/step - loss: 0.5508 - accuracy: 0.9698 - val_loss: 0.6513 - val_accuracy: 0.9271\n",
      "Epoch 53/150\n",
      "60/60 [==============================] - 0s 6ms/step - loss: 0.5320 - accuracy: 0.9708 - val_loss: 0.6374 - val_accuracy: 0.9292\n",
      "Epoch 54/150\n",
      "60/60 [==============================] - 0s 5ms/step - loss: 0.5217 - accuracy: 0.9719 - val_loss: 0.6238 - val_accuracy: 0.9271\n",
      "Epoch 55/150\n",
      "60/60 [==============================] - 0s 5ms/step - loss: 0.5063 - accuracy: 0.9755 - val_loss: 0.6112 - val_accuracy: 0.9229\n",
      "Epoch 56/150\n",
      "60/60 [==============================] - 0s 5ms/step - loss: 0.4899 - accuracy: 0.9750 - val_loss: 0.5985 - val_accuracy: 0.9229\n",
      "Epoch 57/150\n",
      "60/60 [==============================] - 0s 5ms/step - loss: 0.4778 - accuracy: 0.9745 - val_loss: 0.5856 - val_accuracy: 0.9271\n",
      "Epoch 58/150\n",
      "60/60 [==============================] - 0s 5ms/step - loss: 0.4635 - accuracy: 0.9755 - val_loss: 0.5739 - val_accuracy: 0.9292\n",
      "Epoch 59/150\n",
      "60/60 [==============================] - 0s 5ms/step - loss: 0.4561 - accuracy: 0.9734 - val_loss: 0.5622 - val_accuracy: 0.9312\n",
      "Epoch 60/150\n",
      "60/60 [==============================] - 0s 5ms/step - loss: 0.4425 - accuracy: 0.9724 - val_loss: 0.5509 - val_accuracy: 0.9312\n",
      "Epoch 61/150\n",
      "60/60 [==============================] - 0s 5ms/step - loss: 0.4259 - accuracy: 0.9766 - val_loss: 0.5398 - val_accuracy: 0.9312\n",
      "Epoch 62/150\n",
      "60/60 [==============================] - 0s 5ms/step - loss: 0.4140 - accuracy: 0.9786 - val_loss: 0.5297 - val_accuracy: 0.9312\n",
      "Epoch 63/150\n",
      "60/60 [==============================] - 0s 5ms/step - loss: 0.4036 - accuracy: 0.9771 - val_loss: 0.5196 - val_accuracy: 0.9312\n",
      "Epoch 64/150\n",
      "60/60 [==============================] - 0s 6ms/step - loss: 0.3938 - accuracy: 0.9776 - val_loss: 0.5098 - val_accuracy: 0.9312\n",
      "Epoch 65/150\n",
      "60/60 [==============================] - 0s 5ms/step - loss: 0.3838 - accuracy: 0.9771 - val_loss: 0.5006 - val_accuracy: 0.9312\n",
      "Epoch 66/150\n",
      "60/60 [==============================] - 0s 5ms/step - loss: 0.3722 - accuracy: 0.9802 - val_loss: 0.4909 - val_accuracy: 0.9333\n",
      "Epoch 67/150\n",
      "60/60 [==============================] - 0s 6ms/step - loss: 0.3636 - accuracy: 0.9807 - val_loss: 0.4821 - val_accuracy: 0.9333\n",
      "Epoch 68/150\n",
      "60/60 [==============================] - 0s 5ms/step - loss: 0.3528 - accuracy: 0.9776 - val_loss: 0.4734 - val_accuracy: 0.9333\n",
      "Epoch 69/150\n",
      "60/60 [==============================] - 0s 5ms/step - loss: 0.3441 - accuracy: 0.9786 - val_loss: 0.4657 - val_accuracy: 0.9312\n",
      "Epoch 70/150\n",
      "60/60 [==============================] - 0s 5ms/step - loss: 0.3360 - accuracy: 0.9807 - val_loss: 0.4574 - val_accuracy: 0.9333\n",
      "Epoch 71/150\n",
      "60/60 [==============================] - 0s 5ms/step - loss: 0.3290 - accuracy: 0.9755 - val_loss: 0.4488 - val_accuracy: 0.9333\n",
      "Epoch 72/150\n",
      "60/60 [==============================] - 0s 5ms/step - loss: 0.3156 - accuracy: 0.9823 - val_loss: 0.4420 - val_accuracy: 0.9354\n",
      "Epoch 73/150\n",
      "60/60 [==============================] - 0s 5ms/step - loss: 0.3161 - accuracy: 0.9802 - val_loss: 0.4342 - val_accuracy: 0.9333\n",
      "Epoch 74/150\n",
      "60/60 [==============================] - 0s 5ms/step - loss: 0.3028 - accuracy: 0.9802 - val_loss: 0.4268 - val_accuracy: 0.9312\n",
      "Epoch 75/150\n",
      "60/60 [==============================] - 0s 5ms/step - loss: 0.2987 - accuracy: 0.9807 - val_loss: 0.4199 - val_accuracy: 0.9312\n",
      "Epoch 76/150\n",
      "60/60 [==============================] - 0s 6ms/step - loss: 0.2899 - accuracy: 0.9818 - val_loss: 0.4134 - val_accuracy: 0.9354\n",
      "Epoch 77/150\n",
      "60/60 [==============================] - 0s 4ms/step - loss: 0.2810 - accuracy: 0.9828 - val_loss: 0.4070 - val_accuracy: 0.9354\n",
      "Epoch 78/150\n",
      "60/60 [==============================] - 0s 4ms/step - loss: 0.2755 - accuracy: 0.9812 - val_loss: 0.4003 - val_accuracy: 0.9333\n",
      "Epoch 79/150\n",
      "60/60 [==============================] - 0s 5ms/step - loss: 0.2702 - accuracy: 0.9818 - val_loss: 0.3946 - val_accuracy: 0.9354\n",
      "Epoch 80/150\n",
      "60/60 [==============================] - 0s 5ms/step - loss: 0.2582 - accuracy: 0.9828 - val_loss: 0.3889 - val_accuracy: 0.9375\n",
      "Epoch 81/150\n",
      "60/60 [==============================] - 0s 5ms/step - loss: 0.2530 - accuracy: 0.9849 - val_loss: 0.3826 - val_accuracy: 0.9375\n",
      "Epoch 82/150\n",
      "60/60 [==============================] - 0s 5ms/step - loss: 0.2462 - accuracy: 0.9833 - val_loss: 0.3769 - val_accuracy: 0.9354\n",
      "Epoch 83/150\n",
      "60/60 [==============================] - 0s 5ms/step - loss: 0.2438 - accuracy: 0.9823 - val_loss: 0.3712 - val_accuracy: 0.9396\n",
      "Epoch 84/150\n",
      "60/60 [==============================] - 0s 5ms/step - loss: 0.2341 - accuracy: 0.9844 - val_loss: 0.3662 - val_accuracy: 0.9354\n",
      "Epoch 85/150\n",
      "60/60 [==============================] - 0s 5ms/step - loss: 0.2338 - accuracy: 0.9854 - val_loss: 0.3610 - val_accuracy: 0.9396\n",
      "Epoch 86/150\n",
      "60/60 [==============================] - 0s 5ms/step - loss: 0.2259 - accuracy: 0.9839 - val_loss: 0.3558 - val_accuracy: 0.9375\n",
      "Epoch 87/150\n",
      "60/60 [==============================] - 0s 5ms/step - loss: 0.2202 - accuracy: 0.9880 - val_loss: 0.3510 - val_accuracy: 0.9396\n",
      "Epoch 88/150\n",
      "60/60 [==============================] - 0s 5ms/step - loss: 0.2193 - accuracy: 0.9844 - val_loss: 0.3465 - val_accuracy: 0.9396\n",
      "Epoch 89/150\n",
      "60/60 [==============================] - 0s 5ms/step - loss: 0.2137 - accuracy: 0.9854 - val_loss: 0.3416 - val_accuracy: 0.9375\n",
      "Epoch 90/150\n",
      "60/60 [==============================] - 0s 5ms/step - loss: 0.2070 - accuracy: 0.9859 - val_loss: 0.3368 - val_accuracy: 0.9396\n",
      "Epoch 91/150\n",
      "60/60 [==============================] - 0s 6ms/step - loss: 0.2030 - accuracy: 0.9870 - val_loss: 0.3325 - val_accuracy: 0.9417\n",
      "Epoch 92/150\n",
      "60/60 [==============================] - 0s 5ms/step - loss: 0.1938 - accuracy: 0.9854 - val_loss: 0.3284 - val_accuracy: 0.9417\n",
      "Epoch 93/150\n",
      "60/60 [==============================] - 0s 5ms/step - loss: 0.1906 - accuracy: 0.9865 - val_loss: 0.3245 - val_accuracy: 0.9438\n",
      "Epoch 94/150\n",
      "60/60 [==============================] - 0s 5ms/step - loss: 0.1877 - accuracy: 0.9875 - val_loss: 0.3200 - val_accuracy: 0.9438\n",
      "Epoch 95/150\n",
      "60/60 [==============================] - 0s 5ms/step - loss: 0.1871 - accuracy: 0.9896 - val_loss: 0.3160 - val_accuracy: 0.9438\n",
      "Epoch 96/150\n",
      "60/60 [==============================] - 0s 5ms/step - loss: 0.1820 - accuracy: 0.9875 - val_loss: 0.3123 - val_accuracy: 0.9438\n",
      "Epoch 97/150\n",
      "60/60 [==============================] - 0s 5ms/step - loss: 0.1769 - accuracy: 0.9875 - val_loss: 0.3083 - val_accuracy: 0.9417\n",
      "Epoch 98/150\n",
      "60/60 [==============================] - 0s 5ms/step - loss: 0.1741 - accuracy: 0.9865 - val_loss: 0.3047 - val_accuracy: 0.9458\n",
      "Epoch 99/150\n",
      "60/60 [==============================] - 0s 5ms/step - loss: 0.1695 - accuracy: 0.9875 - val_loss: 0.3012 - val_accuracy: 0.9438\n",
      "Epoch 100/150\n",
      "60/60 [==============================] - 0s 5ms/step - loss: 0.1621 - accuracy: 0.9880 - val_loss: 0.2976 - val_accuracy: 0.9458\n",
      "Epoch 101/150\n",
      "60/60 [==============================] - 0s 6ms/step - loss: 0.1623 - accuracy: 0.9906 - val_loss: 0.2943 - val_accuracy: 0.9458\n",
      "Epoch 102/150\n",
      "60/60 [==============================] - 0s 7ms/step - loss: 0.1573 - accuracy: 0.9875 - val_loss: 0.2908 - val_accuracy: 0.9438\n",
      "Epoch 103/150\n",
      "60/60 [==============================] - 0s 8ms/step - loss: 0.1531 - accuracy: 0.9906 - val_loss: 0.2877 - val_accuracy: 0.9458\n",
      "Epoch 104/150\n",
      "60/60 [==============================] - 0s 8ms/step - loss: 0.1492 - accuracy: 0.9891 - val_loss: 0.2844 - val_accuracy: 0.9458\n",
      "Epoch 105/150\n",
      "60/60 [==============================] - 1s 8ms/step - loss: 0.1459 - accuracy: 0.9906 - val_loss: 0.2811 - val_accuracy: 0.9458\n",
      "Epoch 106/150\n",
      "60/60 [==============================] - 0s 7ms/step - loss: 0.1472 - accuracy: 0.9906 - val_loss: 0.2782 - val_accuracy: 0.9479\n",
      "Epoch 107/150\n",
      "60/60 [==============================] - 0s 7ms/step - loss: 0.1405 - accuracy: 0.9891 - val_loss: 0.2753 - val_accuracy: 0.9458\n",
      "Epoch 108/150\n",
      "60/60 [==============================] - 0s 6ms/step - loss: 0.1365 - accuracy: 0.9901 - val_loss: 0.2724 - val_accuracy: 0.9458\n",
      "Epoch 109/150\n",
      "60/60 [==============================] - 0s 5ms/step - loss: 0.1355 - accuracy: 0.9922 - val_loss: 0.2695 - val_accuracy: 0.9479\n",
      "Epoch 110/150\n",
      "60/60 [==============================] - 0s 6ms/step - loss: 0.1322 - accuracy: 0.9922 - val_loss: 0.2668 - val_accuracy: 0.9479\n",
      "Epoch 111/150\n",
      "60/60 [==============================] - 0s 6ms/step - loss: 0.1293 - accuracy: 0.9885 - val_loss: 0.2641 - val_accuracy: 0.9479\n",
      "Epoch 112/150\n",
      "60/60 [==============================] - 0s 5ms/step - loss: 0.1279 - accuracy: 0.9917 - val_loss: 0.2615 - val_accuracy: 0.9479\n",
      "Epoch 113/150\n",
      "60/60 [==============================] - 0s 5ms/step - loss: 0.1242 - accuracy: 0.9917 - val_loss: 0.2589 - val_accuracy: 0.9479\n",
      "Epoch 114/150\n",
      "60/60 [==============================] - 0s 5ms/step - loss: 0.1219 - accuracy: 0.9906 - val_loss: 0.2565 - val_accuracy: 0.9458\n",
      "Epoch 115/150\n",
      "60/60 [==============================] - 0s 5ms/step - loss: 0.1169 - accuracy: 0.9911 - val_loss: 0.2540 - val_accuracy: 0.9458\n",
      "Epoch 116/150\n",
      "60/60 [==============================] - 0s 5ms/step - loss: 0.1194 - accuracy: 0.9901 - val_loss: 0.2517 - val_accuracy: 0.9479\n",
      "Epoch 117/150\n",
      "60/60 [==============================] - 0s 5ms/step - loss: 0.1164 - accuracy: 0.9922 - val_loss: 0.2492 - val_accuracy: 0.9479\n",
      "Epoch 118/150\n",
      "60/60 [==============================] - 0s 6ms/step - loss: 0.1114 - accuracy: 0.9937 - val_loss: 0.2469 - val_accuracy: 0.9479\n",
      "Epoch 119/150\n",
      "60/60 [==============================] - 0s 5ms/step - loss: 0.1098 - accuracy: 0.9927 - val_loss: 0.2447 - val_accuracy: 0.9500\n",
      "Epoch 120/150\n",
      "60/60 [==============================] - 0s 5ms/step - loss: 0.1082 - accuracy: 0.9922 - val_loss: 0.2425 - val_accuracy: 0.9479\n",
      "Epoch 121/150\n",
      "60/60 [==============================] - 0s 5ms/step - loss: 0.1057 - accuracy: 0.9922 - val_loss: 0.2403 - val_accuracy: 0.9500\n",
      "Epoch 122/150\n",
      "60/60 [==============================] - 0s 5ms/step - loss: 0.1049 - accuracy: 0.9932 - val_loss: 0.2384 - val_accuracy: 0.9479\n",
      "Epoch 123/150\n",
      "60/60 [==============================] - 0s 5ms/step - loss: 0.1030 - accuracy: 0.9922 - val_loss: 0.2362 - val_accuracy: 0.9500\n",
      "Epoch 124/150\n",
      "60/60 [==============================] - 0s 5ms/step - loss: 0.1007 - accuracy: 0.9948 - val_loss: 0.2343 - val_accuracy: 0.9479\n",
      "Epoch 125/150\n",
      "60/60 [==============================] - 0s 5ms/step - loss: 0.0973 - accuracy: 0.9943 - val_loss: 0.2324 - val_accuracy: 0.9521\n",
      "Epoch 126/150\n",
      "60/60 [==============================] - 0s 6ms/step - loss: 0.0961 - accuracy: 0.9927 - val_loss: 0.2304 - val_accuracy: 0.9479\n",
      "Epoch 127/150\n",
      "60/60 [==============================] - 0s 5ms/step - loss: 0.0935 - accuracy: 0.9922 - val_loss: 0.2285 - val_accuracy: 0.9500\n",
      "Epoch 128/150\n",
      "60/60 [==============================] - 0s 5ms/step - loss: 0.0918 - accuracy: 0.9943 - val_loss: 0.2266 - val_accuracy: 0.9521\n",
      "Epoch 129/150\n",
      "60/60 [==============================] - 0s 5ms/step - loss: 0.0894 - accuracy: 0.9953 - val_loss: 0.2248 - val_accuracy: 0.9521\n",
      "Epoch 130/150\n",
      "60/60 [==============================] - 0s 5ms/step - loss: 0.0872 - accuracy: 0.9927 - val_loss: 0.2232 - val_accuracy: 0.9500\n",
      "Epoch 131/150\n",
      "60/60 [==============================] - 0s 5ms/step - loss: 0.0863 - accuracy: 0.9943 - val_loss: 0.2214 - val_accuracy: 0.9479\n",
      "Epoch 132/150\n",
      "60/60 [==============================] - 0s 5ms/step - loss: 0.0860 - accuracy: 0.9958 - val_loss: 0.2197 - val_accuracy: 0.9521\n",
      "Epoch 133/150\n",
      "60/60 [==============================] - 0s 5ms/step - loss: 0.0826 - accuracy: 0.9948 - val_loss: 0.2179 - val_accuracy: 0.9521\n",
      "Epoch 134/150\n",
      "60/60 [==============================] - 0s 5ms/step - loss: 0.0838 - accuracy: 0.9943 - val_loss: 0.2163 - val_accuracy: 0.9521\n",
      "Epoch 135/150\n",
      "60/60 [==============================] - 0s 5ms/step - loss: 0.0800 - accuracy: 0.9943 - val_loss: 0.2148 - val_accuracy: 0.9521\n",
      "Epoch 136/150\n",
      "60/60 [==============================] - 0s 6ms/step - loss: 0.0791 - accuracy: 0.9948 - val_loss: 0.2135 - val_accuracy: 0.9542\n",
      "Epoch 137/150\n",
      "60/60 [==============================] - 0s 5ms/step - loss: 0.0742 - accuracy: 0.9937 - val_loss: 0.2117 - val_accuracy: 0.9521\n",
      "Epoch 138/150\n",
      "60/60 [==============================] - 0s 5ms/step - loss: 0.0731 - accuracy: 0.9937 - val_loss: 0.2104 - val_accuracy: 0.9542\n",
      "Epoch 139/150\n",
      "60/60 [==============================] - 0s 5ms/step - loss: 0.0731 - accuracy: 0.9948 - val_loss: 0.2089 - val_accuracy: 0.9521\n",
      "Epoch 140/150\n",
      "60/60 [==============================] - 0s 5ms/step - loss: 0.0728 - accuracy: 0.9948 - val_loss: 0.2073 - val_accuracy: 0.9521\n",
      "Epoch 141/150\n",
      "60/60 [==============================] - 0s 5ms/step - loss: 0.0717 - accuracy: 0.9948 - val_loss: 0.2063 - val_accuracy: 0.9521\n",
      "Epoch 142/150\n",
      "60/60 [==============================] - 0s 5ms/step - loss: 0.0713 - accuracy: 0.9953 - val_loss: 0.2049 - val_accuracy: 0.9521\n",
      "Epoch 143/150\n",
      "60/60 [==============================] - 0s 5ms/step - loss: 0.0667 - accuracy: 0.9953 - val_loss: 0.2034 - val_accuracy: 0.9521\n",
      "Epoch 144/150\n",
      "60/60 [==============================] - 0s 5ms/step - loss: 0.0672 - accuracy: 0.9948 - val_loss: 0.2021 - val_accuracy: 0.9542\n",
      "Epoch 145/150\n",
      "60/60 [==============================] - 0s 5ms/step - loss: 0.0662 - accuracy: 0.9953 - val_loss: 0.2006 - val_accuracy: 0.9500\n",
      "Epoch 146/150\n",
      "60/60 [==============================] - 0s 5ms/step - loss: 0.0659 - accuracy: 0.9948 - val_loss: 0.1994 - val_accuracy: 0.9542\n",
      "Epoch 147/150\n",
      "60/60 [==============================] - 0s 6ms/step - loss: 0.0627 - accuracy: 0.9953 - val_loss: 0.1982 - val_accuracy: 0.9542\n",
      "Epoch 148/150\n",
      "60/60 [==============================] - 0s 5ms/step - loss: 0.0633 - accuracy: 0.9958 - val_loss: 0.1971 - val_accuracy: 0.9521\n",
      "Epoch 149/150\n",
      "60/60 [==============================] - 0s 8ms/step - loss: 0.0629 - accuracy: 0.9948 - val_loss: 0.1957 - val_accuracy: 0.9542\n",
      "Epoch 150/150\n",
      "60/60 [==============================] - 0s 7ms/step - loss: 0.0587 - accuracy: 0.9958 - val_loss: 0.1950 - val_accuracy: 0.9521\n"
     ]
    }
   ],
   "source": [
    "epochs = 150\n",
    "history = model.fit(\n",
    "    train_ds,\n",
    "    validation_data=val_ds,\n",
    "    epochs=epochs,\n",
    "    callbacks=[early_stopping,checkpoint])"
   ]
  },
  {
   "cell_type": "code",
   "execution_count": 73,
   "metadata": {
    "id": "zvNWlry8sfDp"
   },
   "outputs": [],
   "source": [
    "model.save('TYO_06_3000_DATASET_MODEL.h5')"
   ]
  },
  {
   "cell_type": "code",
   "execution_count": 32,
   "metadata": {
    "colab": {
     "base_uri": "https://localhost:8080/"
    },
    "id": "-zzNKpPQyqfP",
    "outputId": "d5ffae62-6f08-445c-8027-de926567472b"
   },
   "outputs": [
    {
     "name": "stdout",
     "output_type": "stream",
     "text": [
      "19/19 [==============================] - 0s 5ms/step - loss: 0.2643 - accuracy: 0.9338\n",
      "Loss:  0.2642587721347809\n",
      "Accuracy:  0.9337748289108276\n"
     ]
    }
   ],
   "source": [
    "loss, accuracy = model.evaluate(test_ds)\n",
    "\n",
    "print(\"Loss: \", loss)\n",
    "print(\"Accuracy: \", accuracy)"
   ]
  },
  {
   "cell_type": "code",
   "execution_count": 34,
   "metadata": {
    "colab": {
     "base_uri": "https://localhost:8080/"
    },
    "id": "yHnCO_T5y3PP",
    "outputId": "f6f57ca8-4141-4f67-904a-1bd42ff5ac43"
   },
   "outputs": [
    {
     "data": {
      "text/plain": [
       "dict_keys(['loss', 'accuracy', 'val_loss', 'val_accuracy'])"
      ]
     },
     "execution_count": 34,
     "metadata": {},
     "output_type": "execute_result"
    }
   ],
   "source": [
    "history_dict = history.history\n",
    "history_dict.keys()"
   ]
  },
  {
   "cell_type": "code",
   "execution_count": 35,
   "metadata": {
    "colab": {
     "base_uri": "https://localhost:8080/",
     "height": 472
    },
    "id": "WOaRHa-LzKZW",
    "outputId": "8fafe737-9c2a-4f25-caf6-d5b77cedb4e2"
   },
   "outputs": [
    {
     "data": {
      "image/png": "[encoded data removed]",
      "text/plain": [
       "<Figure size 432x288 with 1 Axes>"
      ]
     },
     "metadata": {
      "needs_background": "light"
     },
     "output_type": "display_data"
    }
   ],
   "source": [
    "acc = history_dict['accuracy']\n",
    "val_acc = history_dict['val_accuracy']\n",
    "loss = history_dict['loss']\n",
    "val_loss = history_dict['val_loss']\n",
    "\n",
    "epochs = range(1, len(acc) + 1)\n",
    "\n",
    "# \"bo\" is for \"blue dot\"\n",
    "plt.plot(epochs, loss, 'bo', label='Training loss')\n",
    "# b is for \"solid blue line\"\n",
    "plt.plot(epochs, val_loss, 'b', label='Validation loss')\n",
    "plt.title('Training and validation loss')\n",
    "plt.xlabel('Epochs')\n",
    "plt.ylabel('Loss')\n",
    "plt.legend()\n",
    "\n",
    "plt.show()"
   ]
  },
  {
   "cell_type": "code",
   "execution_count": 36,
   "metadata": {
    "colab": {
     "base_uri": "https://localhost:8080/",
     "height": 472
    },
    "id": "Y6yr7YCyzRPz",
    "outputId": "3d12b22c-08c4-405e-f9fb-45610783a380"
   },
   "outputs": [
    {
     "data": {
      "image/png": "[encoded data removed]",
      "text/plain": [
       "<Figure size 432x288 with 1 Axes>"
      ]
     },
     "metadata": {
      "needs_background": "light"
     },
     "output_type": "display_data"
    }
   ],
   "source": [
    "plt.plot(epochs, acc, 'bo', label='Training acc')\n",
    "plt.plot(epochs, val_acc, 'b', label='Validation acc')\n",
    "plt.title('Training and validation accuracy')\n",
    "plt.xlabel('Epochs')\n",
    "plt.ylabel('Accuracy')\n",
    "plt.legend(loc='lower right')\n",
    "\n",
    "plt.show()"
   ]
  },
  {
   "cell_type": "code",
   "execution_count": 37,
   "metadata": {
    "colab": {
     "base_uri": "https://localhost:8080/"
    },
    "id": "1JG4H59HzcOh",
    "outputId": "70b951c3-42b6-4c21-dfae-df9de6f532e2"
   },
   "outputs": [
    {
     "name": "stderr",
     "output_type": "stream",
     "text": [
      "c:\\p39\\lib\\site-packages\\tensorflow\\python\\util\\dispatch.py:1082: UserWarning: \"`sparse_categorical_crossentropy` received `from_logits=True`, but the `output` argument was produced by a sigmoid or softmax activation and thus does not represent logits. Was this intended?\"\n",
      "  return dispatch_target(*args, **kwargs)\n"
     ]
    },
    {
     "name": "stdout",
     "output_type": "stream",
     "text": [
      "19/19 [==============================] - 0s 6ms/step - loss: 0.2643 - accuracy: 0.9338\n",
      "0.9337748289108276\n"
     ]
    }
   ],
   "source": [
    "export_model = tf.keras.Sequential([\n",
    "  vectorize_layer,\n",
    "  model,\n",
    "  layers.Activation('softmax')\n",
    "])\n",
    "export_model.compile(loss = losses.SparseCategoricalCrossentropy(from_logits=True), optimizer = 'adam', metrics = ['accuracy'])\n",
    "\n",
    "\n",
    "\n",
    "# Test it with `raw_test_ds`, which yields raw strings\n",
    "loss, accuracy = export_model.evaluate(raw_test_ds)\n",
    "print(accuracy)"
   ]
  },
  {
   "cell_type": "code",
   "execution_count": 38,
   "metadata": {
    "colab": {
     "base_uri": "https://localhost:8080/"
    },
    "id": "lx12nIIi7luJ",
    "outputId": "ac0d97f1-8da8-48cb-bb2a-2cb18f21679a"
   },
   "outputs": [
    {
     "data": {
      "text/plain": [
       "['EKO', 'HEL', 'OLA', 'POL']"
      ]
     },
     "execution_count": 38,
     "metadata": {},
     "output_type": "execute_result"
    }
   ],
   "source": [
    "['EKO', 'HEL', 'OLA','POL']"
   ]
  },
  {
   "cell_type": "markdown",
   "metadata": {
    "id": "XRa2FY4q0Ovo"
   },
   "source": [
    "# PREDIKSI"
   ]
  },
  {
   "cell_type": "code",
   "execution_count": 39,
   "metadata": {
    "colab": {
     "base_uri": "https://localhost:8080/"
    },
    "id": "f-_agyAv7Rwx",
    "outputId": "8413e3f0-3c0c-4201-e1c3-5abcb0b43db3"
   },
   "outputs": [
    {
     "name": "stdout",
     "output_type": "stream",
     "text": [
      "1/1 [==============================] - 0s 148ms/step\n"
     ]
    },
    {
     "data": {
      "text/plain": [
       "array([[0.00329616, 0.00215907, 0.99173886, 0.00280594],\n",
       "       [0.9914573 , 0.00337118, 0.00220563, 0.00296586],\n",
       "       [0.06648831, 0.86970234, 0.02061465, 0.04319466],\n",
       "       [0.04923314, 0.9166544 , 0.00954322, 0.02456926],\n",
       "       [0.97527134, 0.00166419, 0.00222887, 0.02083565],\n",
       "       [0.92919934, 0.03571175, 0.02671778, 0.0083712 ],\n",
       "       [0.00182387, 0.00364362, 0.00254947, 0.991983  ]], dtype=float32)"
      ]
     },
     "execution_count": 39,
     "metadata": {},
     "output_type": "execute_result"
    }
   ],
   "source": [
    "examples = [\"MotoGP 2015 akan dikenang sebagai salah satu yang paling sengit dalam gelaran kejuaraan dunia balap motor grand prix\",\n",
    "            \"Ida Fauziyah menargetkan penyaluran Ekonomi Bantuan Subsidi Upah (BSU) atau BLT Gaji melalui PT Pos\",\n",
    "            \"Teknik Dasar Jalan Cepat, Sejarah, dan Manfaat untuk Kesehatan\",\n",
    "            \"Covid-19 akan meningkat apabila masayarakat tidak patuh protokol kesehatan\",\n",
    "            \"Rencana Impor KRL Bekas Didukung Erick Thohir, tetapi belum mendapat persetujuan kementrian perdagangan & Ekonomi\",\n",
    "            \"Inflasi Indonesia Naik Lagi pada Februari 2023\",\n",
    "            \"Pemilu 2024 diikuti oleh 4 partai politik\"]\n",
    "\n",
    "\n",
    "#for x in examples:\n",
    "export_model.predict(examples)\n"
   ]
  },
  {
   "cell_type": "code",
   "execution_count": null,
   "metadata": {
    "id": "I6ktQrVUi0vw"
   },
   "outputs": [],
   "source": [
    "#the_winner = np.argmax(export_model.predict(examples))\n",
    "#print(f'Prediksi Terbesar {the_winner}')"
   ]
  },
  {
   "cell_type": "markdown",
   "metadata": {
    "id": "mE-x8RyaSAXX"
   },
   "source": [
    "# FUNGSI UNTUK MEMBUAT VISUALISASI GRAFIK PIE CHART"
   ]
  },
  {
   "cell_type": "code",
   "execution_count": 71,
   "metadata": {
    "id": "PB33J9xkZL9I"
   },
   "outputs": [],
   "source": [
    "def Pie_Chart_Visualization(x):\n",
    "\n",
    "          # Pie chart, where the slices will be ordered and plotted counter-clockwise:\n",
    "          labels = ['EKO', 'HEL', 'OLA', 'POL']\n",
    "          sizes = export_model.predict(examples)[x].tolist()\n",
    "     \n",
    "\n",
    "          explode = (0, 0, 0, 0)  # only \"explode\" the 2nd slice (i.e. 'Hogs')\n",
    "          \n",
    "          fig1, ax1 = plt.subplots()\n",
    "          ax1.pie(sizes, explode=explode, labels=labels, autopct='%1.1f%%',\n",
    "                  shadow=True, startangle=90)\n",
    "          ax1.axis('equal')  # Equal aspect ratio ensures that pie is drawn as a circle.\n",
    "\n",
    "          plt.show()\n",
    "\n",
    "def Winner(x):\n",
    "\n",
    "          winner = np.argmax(export_model.predict(examples)[x])\n",
    "\n",
    "          if winner == 0:\n",
    "            print('Best Prediction Adalah : Ekonomi \\n')\n",
    "          elif winner == 1:\n",
    "            print('Best Prediction Adalah : Kesehatan \\n')\n",
    "          elif winner == 2:\n",
    "            print('Best Prediction Adalah : Olahraga \\n')            \n",
    "          else :\n",
    "            print('Best Prediction Adalah : Politik \\n')          "
   ]
  },
  {
   "cell_type": "markdown",
   "metadata": {
    "id": "Huil3hFtR0ND"
   },
   "source": [
    "# PENGUJIAN PROSENATASE PREDIKSI DALAM BENTUK GRAFIK DARI DATA SAMPLE"
   ]
  },
  {
   "cell_type": "code",
   "execution_count": 72,
   "metadata": {
    "colab": {
     "base_uri": "https://localhost:8080/",
     "height": 1000
    },
    "id": "uxUAum5AigpU",
    "outputId": "e5d22971-8868-480d-a900-81c7c261c77f"
   },
   "outputs": [
    {
     "data": {
      "text/plain": [
       "'MotoGP 2015 akan dikenang sebagai salah satu yang paling sengit dalam gelaran kejuaraan dunia balap motor grand prix'"
      ]
     },
     "metadata": {},
     "output_type": "display_data"
    },
    {
     "name": "stdout",
     "output_type": "stream",
     "text": [
      "1/1 [==============================] - 0s 40ms/step\n"
     ]
    },
    {
     "data": {
      "text/plain": [
       "<Figure size 720x432 with 0 Axes>"
      ]
     },
     "metadata": {},
     "output_type": "display_data"
    },
    {
     "data": {
      "image/png": "[encoded data removed]",
      "text/plain": [
       "<Figure size 432x288 with 1 Axes>"
      ]
     },
     "metadata": {},
     "output_type": "display_data"
    },
    {
     "data": {
      "text/plain": [
       "None"
      ]
     },
     "metadata": {},
     "output_type": "display_data"
    },
    {
     "name": "stdout",
     "output_type": "stream",
     "text": [
      "1/1 [==============================] - 0s 34ms/step\n",
      "Best Prediction Adalah : Olahraga \n",
      "\n"
     ]
    },
    {
     "data": {
      "text/plain": [
       "'Ida Fauziyah menargetkan penyaluran Ekonomi Bantuan Subsidi Upah (BSU) atau BLT Gaji melalui PT Pos'"
      ]
     },
     "metadata": {},
     "output_type": "display_data"
    },
    {
     "name": "stdout",
     "output_type": "stream",
     "text": [
      "1/1 [==============================] - 0s 32ms/step\n"
     ]
    },
    {
     "data": {
      "text/plain": [
       "<Figure size 720x432 with 0 Axes>"
      ]
     },
     "metadata": {},
     "output_type": "display_data"
    },
    {
     "data": {
      "image/png": "[encoded data removed]",
      "text/plain": [
       "<Figure size 432x288 with 1 Axes>"
      ]
     },
     "metadata": {},
     "output_type": "display_data"
    },
    {
     "data": {
      "text/plain": [
       "None"
      ]
     },
     "metadata": {},
     "output_type": "display_data"
    },
    {
     "name": "stdout",
     "output_type": "stream",
     "text": [
      "1/1 [==============================] - 0s 32ms/step\n",
      "Best Prediction Adalah : Ekonomi \n",
      "\n"
     ]
    },
    {
     "data": {
      "text/plain": [
       "'Teknik Dasar Jalan Cepat, Sejarah, dan Manfaat untuk Kesehatan'"
      ]
     },
     "metadata": {},
     "output_type": "display_data"
    },
    {
     "name": "stdout",
     "output_type": "stream",
     "text": [
      "1/1 [==============================] - 0s 40ms/step\n"
     ]
    },
    {
     "data": {
      "text/plain": [
       "<Figure size 720x432 with 0 Axes>"
      ]
     },
     "metadata": {},
     "output_type": "display_data"
    },
    {
     "data": {
      "image/png": "[encoded data removed]",
      "text/plain": [
       "<Figure size 432x288 with 1 Axes>"
      ]
     },
     "metadata": {},
     "output_type": "display_data"
    },
    {
     "data": {
      "text/plain": [
       "None"
      ]
     },
     "metadata": {},
     "output_type": "display_data"
    },
    {
     "name": "stdout",
     "output_type": "stream",
     "text": [
      "1/1 [==============================] - 0s 44ms/step\n",
      "Best Prediction Adalah : Kesehatan \n",
      "\n"
     ]
    },
    {
     "data": {
      "text/plain": [
       "'Covid-19 akan meningkat apabila masayarakat tidak patuh protokol kesehatan'"
      ]
     },
     "metadata": {},
     "output_type": "display_data"
    },
    {
     "name": "stdout",
     "output_type": "stream",
     "text": [
      "1/1 [==============================] - 0s 33ms/step\n"
     ]
    },
    {
     "data": {
      "text/plain": [
       "<Figure size 720x432 with 0 Axes>"
      ]
     },
     "metadata": {},
     "output_type": "display_data"
    },
    {
     "data": {
      "image/png": "[encoded data removed]",
      "text/plain": [
       "<Figure size 432x288 with 1 Axes>"
      ]
     },
     "metadata": {},
     "output_type": "display_data"
    },
    {
     "data": {
      "text/plain": [
       "None"
      ]
     },
     "metadata": {},
     "output_type": "display_data"
    },
    {
     "name": "stdout",
     "output_type": "stream",
     "text": [
      "1/1 [==============================] - 0s 34ms/step\n",
      "Best Prediction Adalah : Kesehatan \n",
      "\n"
     ]
    },
    {
     "data": {
      "text/plain": [
       "'Rencana Impor KRL Bekas Didukung Erick Thohir, tetapi belum mendapat persetujuan kementrian perdagangan & Ekonomi'"
      ]
     },
     "metadata": {},
     "output_type": "display_data"
    },
    {
     "name": "stdout",
     "output_type": "stream",
     "text": [
      "1/1 [==============================] - 0s 31ms/step\n"
     ]
    },
    {
     "data": {
      "text/plain": [
       "<Figure size 720x432 with 0 Axes>"
      ]
     },
     "metadata": {},
     "output_type": "display_data"
    },
    {
     "data": {
      "image/png": "[encoded data removed]",
      "text/plain": [
       "<Figure size 432x288 with 1 Axes>"
      ]
     },
     "metadata": {},
     "output_type": "display_data"
    },
    {
     "data": {
      "text/plain": [
       "None"
      ]
     },
     "metadata": {},
     "output_type": "display_data"
    },
    {
     "name": "stdout",
     "output_type": "stream",
     "text": [
      "1/1 [==============================] - 0s 45ms/step\n",
      "Best Prediction Adalah : Ekonomi \n",
      "\n"
     ]
    },
    {
     "data": {
      "text/plain": [
       "'Inflasi Indonesia Naik Lagi pada Februari 2023'"
      ]
     },
     "metadata": {},
     "output_type": "display_data"
    },
    {
     "name": "stdout",
     "output_type": "stream",
     "text": [
      "1/1 [==============================] - 0s 30ms/step\n"
     ]
    },
    {
     "data": {
      "text/plain": [
       "<Figure size 720x432 with 0 Axes>"
      ]
     },
     "metadata": {},
     "output_type": "display_data"
    },
    {
     "data": {
      "image/png": "[encoded data removed]",
      "text/plain": [
       "<Figure size 432x288 with 1 Axes>"
      ]
     },
     "metadata": {},
     "output_type": "display_data"
    },
    {
     "data": {
      "text/plain": [
       "None"
      ]
     },
     "metadata": {},
     "output_type": "display_data"
    },
    {
     "name": "stdout",
     "output_type": "stream",
     "text": [
      "1/1 [==============================] - 0s 31ms/step\n",
      "Best Prediction Adalah : Ekonomi \n",
      "\n"
     ]
    },
    {
     "data": {
      "text/plain": [
       "'Pemilu 2024 diikuti oleh 4 partai politik'"
      ]
     },
     "metadata": {},
     "output_type": "display_data"
    },
    {
     "name": "stdout",
     "output_type": "stream",
     "text": [
      "1/1 [==============================] - 0s 34ms/step\n"
     ]
    },
    {
     "data": {
      "text/plain": [
       "<Figure size 720x432 with 0 Axes>"
      ]
     },
     "metadata": {},
     "output_type": "display_data"
    },
    {
     "data": {
      "image/png": "[encoded data removed]",
      "text/plain": [
       "<Figure size 432x288 with 1 Axes>"
      ]
     },
     "metadata": {},
     "output_type": "display_data"
    },
    {
     "data": {
      "text/plain": [
       "None"
      ]
     },
     "metadata": {},
     "output_type": "display_data"
    },
    {
     "name": "stdout",
     "output_type": "stream",
     "text": [
      "1/1 [==============================] - 0s 40ms/step\n",
      "Best Prediction Adalah : Politik \n",
      "\n"
     ]
    }
   ],
   "source": [
    "for x in range(len(examples)):\n",
    "  display(examples[x])\n",
    "  display(Pie_Chart_Visualization(x))\n",
    "  Winner(x)"
   ]
  },
  {
   "cell_type": "markdown",
   "metadata": {
    "id": "xng6nwmSS7Nm"
   },
   "source": [
    "# CONFUSION MATRIX SEBAGAI TAMBAHAN PENDUKUNG UNTUK MEPERJELAS VISUALISASI DIATAS"
   ]
  },
  {
   "cell_type": "markdown",
   "metadata": {
    "id": "SYvcxRgI6VIv"
   },
   "source": [
    "# CONFUSION MATRIX WITH SKLEARN DARI DATA EXAMPLE PREDIKSI DIATAS"
   ]
  },
  {
   "cell_type": "code",
   "execution_count": 57,
   "metadata": {
    "id": "c7jsn3LvwZ5p"
   },
   "outputs": [
    {
     "name": "stdout",
     "output_type": "stream",
     "text": [
      "5/5 [==============================] - 0s 0s/step\n",
      "5/5 [==============================] - 0s 2ms/step\n",
      "5/5 [==============================] - 0s 2ms/step\n",
      "5/5 [==============================] - 0s 2ms/step\n",
      "5/5 [==============================] - 0s 292us/step\n",
      "5/5 [==============================] - 0s 2ms/step\n",
      "5/5 [==============================] - 0s 2ms/step\n",
      "5/5 [==============================] - 0s 1ms/step\n",
      "5/5 [==============================] - 0s 2ms/step\n",
      "5/5 [==============================] - 0s 217us/step\n",
      "5/5 [==============================] - 0s 2ms/step\n",
      "5/5 [==============================] - 0s 4ms/step\n",
      "5/5 [==============================] - 0s 4ms/step\n",
      "5/5 [==============================] - 0s 0s/step\n",
      "5/5 [==============================] - 0s 0s/step\n",
      "5/5 [==============================] - 0s 2ms/step\n",
      "5/5 [==============================] - 0s 1ms/step\n",
      "5/5 [==============================] - 0s 2ms/step\n",
      "5/5 [==============================] - 0s 2ms/step\n",
      "5/5 [==============================] - 0s 2ms/step\n",
      "5/5 [==============================] - 0s 1ms/step\n",
      "5/5 [==============================] - 0s 2ms/step\n",
      "5/5 [==============================] - 0s 0s/step\n",
      "5/5 [==============================] - 0s 4ms/step\n",
      "5/5 [==============================] - 0s 0s/step\n",
      "5/5 [==============================] - 0s 1ms/step\n",
      "5/5 [==============================] - 0s 2ms/step\n",
      "5/5 [==============================] - 0s 2ms/step\n",
      "5/5 [==============================] - 0s 1ms/step\n",
      "5/5 [==============================] - 0s 2ms/step\n",
      "5/5 [==============================] - 0s 2ms/step\n",
      "5/5 [==============================] - 0s 2ms/step\n",
      "5/5 [==============================] - 0s 2ms/step\n",
      "5/5 [==============================] - 0s 847us/step\n",
      "5/5 [==============================] - 0s 1ms/step\n",
      "5/5 [==============================] - 0s 1ms/step\n",
      "5/5 [==============================] - 0s 0s/step\n",
      "5/5 [==============================] - 0s 4ms/step\n",
      "5/5 [==============================] - 0s 553us/step\n",
      "5/5 [==============================] - 0s 0s/step\n",
      "5/5 [==============================] - 0s 4ms/step\n",
      "5/5 [==============================] - 0s 2ms/step\n",
      "5/5 [==============================] - 0s 1ms/step\n",
      "5/5 [==============================] - 0s 2ms/step\n",
      "5/5 [==============================] - 0s 2ms/step\n",
      "5/5 [==============================] - 0s 1ms/step\n",
      "5/5 [==============================] - 0s 2ms/step\n",
      "5/5 [==============================] - 0s 1ms/step\n",
      "5/5 [==============================] - 0s 1ms/step\n",
      "5/5 [==============================] - 0s 2ms/step\n",
      "5/5 [==============================] - 0s 2ms/step\n",
      "5/5 [==============================] - 0s 959us/step\n",
      "5/5 [==============================] - 0s 0s/step\n",
      "5/5 [==============================] - 0s 4ms/step\n",
      "5/5 [==============================] - 0s 4ms/step\n",
      "5/5 [==============================] - 0s 0s/step\n",
      "5/5 [==============================] - 0s 4ms/step\n",
      "5/5 [==============================] - 0s 4ms/step\n",
      "5/5 [==============================] - 0s 1ms/step\n",
      "5/5 [==============================] - 0s 2ms/step\n",
      "5/5 [==============================] - 0s 1ms/step\n",
      "5/5 [==============================] - 0s 1ms/step\n",
      "5/5 [==============================] - 0s 1ms/step\n",
      "5/5 [==============================] - 0s 2ms/step\n",
      "5/5 [==============================] - 0s 2ms/step\n",
      "5/5 [==============================] - 0s 1ms/step\n",
      "5/5 [==============================] - 0s 2ms/step\n",
      "5/5 [==============================] - 0s 0s/step\n",
      "5/5 [==============================] - 0s 2ms/step\n",
      "5/5 [==============================] - 0s 2ms/step\n",
      "5/5 [==============================] - 0s 1ms/step\n",
      "5/5 [==============================] - 0s 1ms/step\n",
      "5/5 [==============================] - 0s 2ms/step\n",
      "5/5 [==============================] - 0s 2ms/step\n",
      "5/5 [==============================] - 0s 2ms/step\n",
      "5/5 [==============================] - 0s 1ms/step\n",
      "5/5 [==============================] - 0s 2ms/step\n",
      "5/5 [==============================] - 0s 2ms/step\n",
      "5/5 [==============================] - 0s 1ms/step\n",
      "5/5 [==============================] - 0s 457us/step\n",
      "5/5 [==============================] - 0s 1ms/step\n",
      "5/5 [==============================] - 0s 1ms/step\n",
      "5/5 [==============================] - 0s 1ms/step\n",
      "5/5 [==============================] - 0s 1ms/step\n",
      "5/5 [==============================] - 0s 2ms/step\n",
      "5/5 [==============================] - 0s 0s/step\n",
      "5/5 [==============================] - 0s 2ms/step\n",
      "5/5 [==============================] - 0s 394us/step\n",
      "5/5 [==============================] - 0s 1ms/step\n",
      "5/5 [==============================] - 0s 2ms/step\n",
      "5/5 [==============================] - 0s 2ms/step\n",
      "5/5 [==============================] - 0s 4ms/step\n",
      "5/5 [==============================] - 0s 543us/step\n",
      "5/5 [==============================] - 0s 4ms/step\n",
      "5/5 [==============================] - 0s 0s/step\n",
      "5/5 [==============================] - 0s 5ms/step\n",
      "5/5 [==============================] - 0s 1ms/step\n",
      "5/5 [==============================] - 0s 0s/step\n",
      "5/5 [==============================] - 0s 4ms/step\n",
      "5/5 [==============================] - 0s 0s/step\n",
      "5/5 [==============================] - 0s 3ms/step\n",
      "5/5 [==============================] - 0s 0s/step\n",
      "5/5 [==============================] - 0s 0s/step\n",
      "5/5 [==============================] - 0s 4ms/step\n",
      "5/5 [==============================] - 0s 4ms/step\n",
      "5/5 [==============================] - 0s 4ms/step\n",
      "5/5 [==============================] - 0s 4ms/step\n",
      "5/5 [==============================] - 0s 4ms/step\n",
      "5/5 [==============================] - 0s 4ms/step\n",
      "5/5 [==============================] - 0s 4ms/step\n",
      "5/5 [==============================] - 0s 0s/step\n",
      "5/5 [==============================] - 0s 4ms/step\n",
      "5/5 [==============================] - 0s 0s/step\n",
      "5/5 [==============================] - 0s 0s/step\n",
      "5/5 [==============================] - 0s 4ms/step\n",
      "5/5 [==============================] - 0s 2ms/step\n",
      "5/5 [==============================] - 0s 2ms/step\n",
      "5/5 [==============================] - 0s 5ms/step\n",
      "5/5 [==============================] - 0s 2ms/step\n",
      "5/5 [==============================] - 0s 1ms/step\n",
      "5/5 [==============================] - 0s 2ms/step\n",
      "5/5 [==============================] - 0s 1ms/step\n",
      "5/5 [==============================] - 0s 2ms/step\n",
      "5/5 [==============================] - 0s 203us/step\n",
      "5/5 [==============================] - 0s 2ms/step\n",
      "5/5 [==============================] - 0s 0s/step\n",
      "5/5 [==============================] - 0s 4ms/step\n",
      "5/5 [==============================] - 0s 2ms/step\n",
      "5/5 [==============================] - 0s 2ms/step\n",
      "5/5 [==============================] - 0s 2ms/step\n",
      "5/5 [==============================] - 0s 1ms/step\n",
      "5/5 [==============================] - 0s 2ms/step\n",
      "5/5 [==============================] - 0s 2ms/step\n",
      "5/5 [==============================] - 0s 1ms/step\n",
      "5/5 [==============================] - 0s 2ms/step\n",
      "5/5 [==============================] - 0s 2ms/step\n",
      "5/5 [==============================] - 0s 1ms/step\n",
      "5/5 [==============================] - 0s 1ms/step\n",
      "5/5 [==============================] - 0s 1ms/step\n",
      "5/5 [==============================] - 0s 2ms/step\n",
      "5/5 [==============================] - 0s 2ms/step\n",
      "5/5 [==============================] - 0s 2ms/step\n",
      "5/5 [==============================] - 0s 2ms/step\n",
      "5/5 [==============================] - 0s 2ms/step\n",
      "5/5 [==============================] - 0s 0s/step\n",
      "5/5 [==============================] - 0s 1ms/step\n",
      "5/5 [==============================] - 0s 1ms/step\n",
      "5/5 [==============================] - 0s 1ms/step\n",
      "5/5 [==============================] - 0s 2ms/step\n",
      "5/5 [==============================] - 0s 2ms/step\n",
      "5/5 [==============================] - 0s 2ms/step\n",
      "5/5 [==============================] - 0s 2ms/step\n",
      "5/5 [==============================] - 0s 2ms/step\n",
      "5/5 [==============================] - 0s 1ms/step\n",
      "5/5 [==============================] - 0s 2ms/step\n",
      "5/5 [==============================] - 0s 2ms/step\n",
      "5/5 [==============================] - 0s 2ms/step\n",
      "5/5 [==============================] - 0s 1ms/step\n",
      "5/5 [==============================] - 0s 1ms/step\n",
      "5/5 [==============================] - 0s 2ms/step\n",
      "5/5 [==============================] - 0s 4ms/step\n",
      "5/5 [==============================] - 0s 1ms/step\n",
      "5/5 [==============================] - 0s 1ms/step\n",
      "5/5 [==============================] - 0s 2ms/step\n",
      "5/5 [==============================] - 0s 1ms/step\n",
      "5/5 [==============================] - 0s 1ms/step\n",
      "5/5 [==============================] - 0s 2ms/step\n",
      "5/5 [==============================] - 0s 1ms/step\n",
      "5/5 [==============================] - 0s 2ms/step\n",
      "5/5 [==============================] - 0s 2ms/step\n",
      "5/5 [==============================] - 0s 2ms/step\n",
      "5/5 [==============================] - 0s 2ms/step\n",
      "5/5 [==============================] - 0s 0s/step\n",
      "5/5 [==============================] - 0s 2ms/step\n",
      "5/5 [==============================] - 0s 1ms/step\n",
      "5/5 [==============================] - 0s 2ms/step\n",
      "5/5 [==============================] - 0s 2ms/step\n",
      "5/5 [==============================] - 0s 2ms/step\n",
      "5/5 [==============================] - 0s 638us/step\n",
      "5/5 [==============================] - 0s 2ms/step\n",
      "5/5 [==============================] - 0s 1ms/step\n",
      "5/5 [==============================] - 0s 2ms/step\n",
      "5/5 [==============================] - 0s 2ms/step\n",
      "5/5 [==============================] - 0s 2ms/step\n",
      "5/5 [==============================] - 0s 1ms/step\n",
      "5/5 [==============================] - 0s 2ms/step\n",
      "5/5 [==============================] - 0s 2ms/step\n",
      "5/5 [==============================] - 0s 0s/step\n",
      "5/5 [==============================] - 0s 0s/step\n",
      "5/5 [==============================] - 0s 5ms/step\n",
      "5/5 [==============================] - 0s 2ms/step\n",
      "5/5 [==============================] - 0s 3ms/step\n",
      "5/5 [==============================] - 0s 3ms/step\n",
      "5/5 [==============================] - 0s 2ms/step\n",
      "5/5 [==============================] - 0s 2ms/step\n",
      "5/5 [==============================] - 0s 1ms/step\n",
      "5/5 [==============================] - 0s 3ms/step\n",
      "5/5 [==============================] - 0s 2ms/step\n",
      "5/5 [==============================] - 0s 0s/step\n",
      "5/5 [==============================] - 0s 3ms/step\n",
      "5/5 [==============================] - 0s 2ms/step\n",
      "5/5 [==============================] - 0s 3ms/step\n",
      "5/5 [==============================] - 0s 4ms/step\n",
      "5/5 [==============================] - 0s 0s/step\n",
      "5/5 [==============================] - 0s 4ms/step\n",
      "5/5 [==============================] - 0s 2ms/step\n",
      "5/5 [==============================] - 0s 2ms/step\n",
      "5/5 [==============================] - 0s 2ms/step\n",
      "5/5 [==============================] - 0s 2ms/step\n",
      "5/5 [==============================] - 0s 2ms/step\n",
      "5/5 [==============================] - 0s 2ms/step\n",
      "5/5 [==============================] - 0s 3ms/step\n",
      "5/5 [==============================] - 0s 2ms/step\n",
      "5/5 [==============================] - 0s 0s/step\n",
      "5/5 [==============================] - 0s 3ms/step\n",
      "5/5 [==============================] - 0s 2ms/step\n",
      "5/5 [==============================] - 0s 2ms/step\n",
      "5/5 [==============================] - 0s 4ms/step\n",
      "5/5 [==============================] - 0s 2ms/step\n",
      "5/5 [==============================] - 0s 2ms/step\n",
      "5/5 [==============================] - 0s 2ms/step\n",
      "5/5 [==============================] - 0s 2ms/step\n",
      "5/5 [==============================] - 0s 0s/step\n",
      "5/5 [==============================] - 0s 3ms/step\n",
      "5/5 [==============================] - 0s 2ms/step\n",
      "5/5 [==============================] - 0s 1ms/step\n",
      "5/5 [==============================] - 0s 2ms/step\n",
      "5/5 [==============================] - 0s 2ms/step\n",
      "5/5 [==============================] - 0s 2ms/step\n",
      "5/5 [==============================] - 0s 0s/step\n",
      "5/5 [==============================] - 0s 3ms/step\n",
      "5/5 [==============================] - 0s 2ms/step\n",
      "5/5 [==============================] - 0s 1ms/step\n",
      "5/5 [==============================] - 0s 3ms/step\n",
      "5/5 [==============================] - 0s 2ms/step\n",
      "5/5 [==============================] - 0s 2ms/step\n",
      "5/5 [==============================] - 0s 3ms/step\n",
      "5/5 [==============================] - 0s 2ms/step\n",
      "5/5 [==============================] - 0s 0s/step\n",
      "5/5 [==============================] - 0s 4ms/step\n",
      "5/5 [==============================] - 0s 2ms/step\n",
      "5/5 [==============================] - 0s 0s/step\n",
      "5/5 [==============================] - 0s 2ms/step\n",
      "5/5 [==============================] - 0s 2ms/step\n",
      "5/5 [==============================] - 0s 2ms/step\n",
      "5/5 [==============================] - 0s 468us/step\n",
      "5/5 [==============================] - 0s 4ms/step\n",
      "5/5 [==============================] - 0s 2ms/step\n",
      "5/5 [==============================] - 0s 0s/step\n",
      "5/5 [==============================] - 0s 1ms/step\n",
      "5/5 [==============================] - 0s 2ms/step\n",
      "5/5 [==============================] - 0s 2ms/step\n",
      "5/5 [==============================] - 0s 2ms/step\n",
      "5/5 [==============================] - 0s 2ms/step\n",
      "5/5 [==============================] - 0s 2ms/step\n",
      "5/5 [==============================] - 0s 2ms/step\n",
      "5/5 [==============================] - 0s 2ms/step\n",
      "5/5 [==============================] - 0s 0s/step\n",
      "5/5 [==============================] - 0s 563us/step\n",
      "5/5 [==============================] - 0s 2ms/step\n",
      "5/5 [==============================] - 0s 2ms/step\n",
      "5/5 [==============================] - 0s 2ms/step\n",
      "5/5 [==============================] - 0s 2ms/step\n",
      "5/5 [==============================] - 0s 6ms/step\n",
      "5/5 [==============================] - 0s 5ms/step\n",
      "5/5 [==============================] - 0s 2ms/step\n",
      "5/5 [==============================] - 0s 3ms/step\n",
      "5/5 [==============================] - 0s 6ms/step\n",
      "5/5 [==============================] - 0s 5ms/step\n",
      "5/5 [==============================] - 0s 4ms/step\n",
      "5/5 [==============================] - 0s 2ms/step\n",
      "5/5 [==============================] - 0s 2ms/step\n",
      "5/5 [==============================] - 0s 2ms/step\n",
      "5/5 [==============================] - 0s 2ms/step\n",
      "5/5 [==============================] - 0s 0s/step\n",
      "5/5 [==============================] - 0s 2ms/step\n",
      "5/5 [==============================] - 0s 5ms/step\n",
      "5/5 [==============================] - 0s 0s/step\n",
      "5/5 [==============================] - 0s 2ms/step\n",
      "5/5 [==============================] - 0s 2ms/step\n",
      "5/5 [==============================] - 0s 2ms/step\n",
      "5/5 [==============================] - 0s 3ms/step\n",
      "5/5 [==============================] - 0s 2ms/step\n",
      "5/5 [==============================] - 0s 2ms/step\n",
      "5/5 [==============================] - 0s 2ms/step\n",
      "5/5 [==============================] - 0s 2ms/step\n",
      "5/5 [==============================] - 0s 2ms/step\n",
      "5/5 [==============================] - 0s 3ms/step\n",
      "5/5 [==============================] - 0s 1ms/step\n",
      "5/5 [==============================] - 0s 0s/step\n",
      "5/5 [==============================] - 0s 3ms/step\n",
      "5/5 [==============================] - 0s 2ms/step\n",
      "5/5 [==============================] - 0s 1ms/step\n",
      "5/5 [==============================] - 0s 2ms/step\n",
      "5/5 [==============================] - 0s 1ms/step\n",
      "5/5 [==============================] - 0s 2ms/step\n",
      "5/5 [==============================] - 0s 2ms/step\n",
      "5/5 [==============================] - 0s 2ms/step\n",
      "5/5 [==============================] - 0s 2ms/step\n",
      "5/5 [==============================] - 0s 2ms/step\n",
      "5/5 [==============================] - 0s 0s/step\n",
      "5/5 [==============================] - 0s 0s/step\n",
      "5/5 [==============================] - 0s 0s/step\n",
      "5/5 [==============================] - 0s 2ms/step\n",
      "5/5 [==============================] - 0s 2ms/step\n",
      "5/5 [==============================] - 0s 949us/step\n",
      "5/5 [==============================] - 0s 2ms/step\n",
      "5/5 [==============================] - 0s 2ms/step\n",
      "5/5 [==============================] - 0s 4ms/step\n",
      "5/5 [==============================] - 0s 4ms/step\n",
      "5/5 [==============================] - 0s 4ms/step\n",
      "5/5 [==============================] - 0s 0s/step\n",
      "5/5 [==============================] - 0s 0s/step\n",
      "5/5 [==============================] - 0s 5ms/step\n",
      "5/5 [==============================] - 0s 4ms/step\n",
      "5/5 [==============================] - 0s 4ms/step\n",
      "5/5 [==============================] - 0s 4ms/step\n",
      "5/5 [==============================] - 0s 4ms/step\n",
      "5/5 [==============================] - 0s 2ms/step\n",
      "5/5 [==============================] - 0s 4ms/step\n",
      "5/5 [==============================] - 0s 4ms/step\n",
      "5/5 [==============================] - 0s 4ms/step\n",
      "5/5 [==============================] - 0s 680us/step\n",
      "5/5 [==============================] - 0s 0s/step\n",
      "5/5 [==============================] - 0s 5ms/step\n",
      "5/5 [==============================] - 0s 4ms/step\n",
      "5/5 [==============================] - 0s 4ms/step\n",
      "5/5 [==============================] - 0s 4ms/step\n",
      "5/5 [==============================] - 0s 4ms/step\n",
      "5/5 [==============================] - 0s 0s/step\n",
      "5/5 [==============================] - 0s 4ms/step\n",
      "5/5 [==============================] - 0s 4ms/step\n",
      "5/5 [==============================] - 0s 0s/step\n",
      "5/5 [==============================] - 0s 0s/step\n",
      "5/5 [==============================] - 0s 3ms/step\n",
      "5/5 [==============================] - 0s 0s/step\n",
      "5/5 [==============================] - 0s 0s/step\n",
      "5/5 [==============================] - 0s 4ms/step\n",
      "5/5 [==============================] - 0s 4ms/step\n",
      "5/5 [==============================] - 0s 4ms/step\n",
      "5/5 [==============================] - 0s 0s/step\n",
      "5/5 [==============================] - 0s 0s/step\n",
      "5/5 [==============================] - 0s 189us/step\n",
      "5/5 [==============================] - 0s 5ms/step\n",
      "5/5 [==============================] - 0s 0s/step\n",
      "5/5 [==============================] - 0s 0s/step\n",
      "5/5 [==============================] - 0s 0s/step\n",
      "5/5 [==============================] - 0s 4ms/step\n",
      "5/5 [==============================] - 0s 0s/step\n",
      "5/5 [==============================] - 0s 0s/step\n",
      "5/5 [==============================] - 0s 0s/step\n",
      "5/5 [==============================] - 0s 0s/step\n",
      "5/5 [==============================] - 0s 4ms/step\n",
      "5/5 [==============================] - 0s 4ms/step\n",
      "5/5 [==============================] - 0s 4ms/step\n",
      "5/5 [==============================] - 0s 0s/step\n",
      "5/5 [==============================] - 0s 0s/step\n",
      "5/5 [==============================] - 0s 0s/step\n",
      "5/5 [==============================] - 0s 0s/step\n",
      "5/5 [==============================] - 0s 2ms/step\n",
      "5/5 [==============================] - 0s 2ms/step\n",
      "5/5 [==============================] - 0s 2ms/step\n",
      "5/5 [==============================] - 0s 2ms/step\n",
      "5/5 [==============================] - 0s 2ms/step\n",
      "5/5 [==============================] - 0s 0s/step\n",
      "5/5 [==============================] - 0s 2ms/step\n",
      "5/5 [==============================] - 0s 4ms/step\n",
      "5/5 [==============================] - 0s 0s/step\n",
      "5/5 [==============================] - 0s 0s/step\n",
      "5/5 [==============================] - 0s 0s/step\n",
      "5/5 [==============================] - 0s 0s/step\n",
      "5/5 [==============================] - 0s 4ms/step\n",
      "5/5 [==============================] - 0s 4ms/step\n",
      "5/5 [==============================] - 0s 2ms/step\n",
      "5/5 [==============================] - 0s 2ms/step\n",
      "5/5 [==============================] - 0s 2ms/step\n",
      "5/5 [==============================] - 0s 2ms/step\n",
      "5/5 [==============================] - 0s 2ms/step\n",
      "5/5 [==============================] - 0s 2ms/step\n",
      "5/5 [==============================] - 0s 479us/step\n",
      "5/5 [==============================] - 0s 2ms/step\n",
      "5/5 [==============================] - 0s 394us/step\n",
      "5/5 [==============================] - 0s 0s/step\n",
      "5/5 [==============================] - 0s 2ms/step\n",
      "5/5 [==============================] - 0s 2ms/step\n",
      "5/5 [==============================] - 0s 2ms/step\n",
      "5/5 [==============================] - 0s 2ms/step\n",
      "5/5 [==============================] - 0s 1ms/step\n",
      "5/5 [==============================] - 0s 2ms/step\n",
      "5/5 [==============================] - 0s 3ms/step\n",
      "5/5 [==============================] - 0s 0s/step\n",
      "5/5 [==============================] - 0s 152us/step\n",
      "5/5 [==============================] - 0s 4ms/step\n",
      "5/5 [==============================] - 0s 4ms/step\n",
      "5/5 [==============================] - 0s 2ms/step\n",
      "5/5 [==============================] - 0s 2ms/step\n",
      "5/5 [==============================] - 0s 2ms/step\n",
      "5/5 [==============================] - 0s 2ms/step\n",
      "5/5 [==============================] - 0s 2ms/step\n",
      "5/5 [==============================] - 0s 2ms/step\n",
      "5/5 [==============================] - 0s 2ms/step\n",
      "5/5 [==============================] - 0s 2ms/step\n",
      "5/5 [==============================] - 0s 2ms/step\n",
      "5/5 [==============================] - 0s 2ms/step\n",
      "5/5 [==============================] - 0s 2ms/step\n",
      "5/5 [==============================] - 0s 2ms/step\n",
      "5/5 [==============================] - 0s 2ms/step\n",
      "5/5 [==============================] - 0s 861us/step\n",
      "5/5 [==============================] - 0s 482us/step\n",
      "5/5 [==============================] - 0s 2ms/step\n",
      "5/5 [==============================] - 0s 2ms/step\n",
      "5/5 [==============================] - 0s 1ms/step\n",
      "5/5 [==============================] - 0s 0s/step\n",
      "5/5 [==============================] - 0s 2ms/step\n",
      "5/5 [==============================] - 0s 2ms/step\n",
      "5/5 [==============================] - 0s 4ms/step\n",
      "5/5 [==============================] - 0s 4ms/step\n",
      "5/5 [==============================] - 0s 4ms/step\n",
      "5/5 [==============================] - 0s 0s/step\n",
      "5/5 [==============================] - 0s 2ms/step\n",
      "5/5 [==============================] - 0s 2ms/step\n",
      "5/5 [==============================] - 0s 2ms/step\n",
      "5/5 [==============================] - 0s 1ms/step\n",
      "5/5 [==============================] - 0s 2ms/step\n",
      "5/5 [==============================] - 0s 2ms/step\n",
      "5/5 [==============================] - 0s 2ms/step\n",
      "5/5 [==============================] - 0s 2ms/step\n",
      "5/5 [==============================] - 0s 2ms/step\n",
      "5/5 [==============================] - 0s 2ms/step\n",
      "5/5 [==============================] - 0s 2ms/step\n",
      "5/5 [==============================] - 0s 2ms/step\n",
      "5/5 [==============================] - 0s 4ms/step\n",
      "5/5 [==============================] - 0s 0s/step\n",
      "5/5 [==============================] - 0s 4ms/step\n",
      "5/5 [==============================] - 0s 2ms/step\n",
      "5/5 [==============================] - 0s 2ms/step\n",
      "5/5 [==============================] - 0s 2ms/step\n",
      "5/5 [==============================] - 0s 2ms/step\n",
      "5/5 [==============================] - 0s 2ms/step\n",
      "5/5 [==============================] - 0s 3ms/step\n",
      "5/5 [==============================] - 0s 2ms/step\n",
      "5/5 [==============================] - 0s 2ms/step\n",
      "5/5 [==============================] - 0s 0s/step\n",
      "5/5 [==============================] - 0s 0s/step\n",
      "5/5 [==============================] - 0s 2ms/step\n",
      "5/5 [==============================] - 0s 2ms/step\n",
      "5/5 [==============================] - 0s 2ms/step\n",
      "5/5 [==============================] - 0s 2ms/step\n",
      "5/5 [==============================] - 0s 0s/step\n",
      "5/5 [==============================] - 0s 3ms/step\n",
      "5/5 [==============================] - 0s 2ms/step\n",
      "5/5 [==============================] - 0s 3ms/step\n",
      "5/5 [==============================] - 0s 2ms/step\n",
      "5/5 [==============================] - 0s 614us/step\n",
      "5/5 [==============================] - 0s 2ms/step\n",
      "5/5 [==============================] - 0s 0s/step\n",
      "5/5 [==============================] - 0s 0s/step\n",
      "5/5 [==============================] - 0s 167us/step\n",
      "5/5 [==============================] - 0s 5ms/step\n",
      "5/5 [==============================] - 0s 2ms/step\n",
      "5/5 [==============================] - 0s 2ms/step\n",
      "5/5 [==============================] - 0s 2ms/step\n",
      "5/5 [==============================] - 0s 2ms/step\n",
      "5/5 [==============================] - 0s 2ms/step\n",
      "5/5 [==============================] - 0s 2ms/step\n",
      "5/5 [==============================] - 0s 2ms/step\n",
      "5/5 [==============================] - 0s 5ms/step\n",
      "5/5 [==============================] - 0s 3ms/step\n",
      "5/5 [==============================] - 0s 2ms/step\n",
      "5/5 [==============================] - 0s 2ms/step\n",
      "5/5 [==============================] - 0s 2ms/step\n",
      "5/5 [==============================] - 0s 2ms/step\n",
      "5/5 [==============================] - 0s 2ms/step\n",
      "5/5 [==============================] - 0s 2ms/step\n",
      "5/5 [==============================] - 0s 2ms/step\n",
      "5/5 [==============================] - 0s 2ms/step\n",
      "5/5 [==============================] - 0s 2ms/step\n",
      "5/5 [==============================] - 0s 2ms/step\n",
      "5/5 [==============================] - 0s 2ms/step\n",
      "5/5 [==============================] - 0s 1ms/step\n",
      "5/5 [==============================] - 0s 2ms/step\n",
      "5/5 [==============================] - 0s 2ms/step\n",
      "5/5 [==============================] - 0s 120us/step\n",
      "5/5 [==============================] - 0s 0s/step\n",
      "5/5 [==============================] - 0s 4ms/step\n",
      "5/5 [==============================] - 0s 5ms/step\n",
      "5/5 [==============================] - 0s 2ms/step\n",
      "5/5 [==============================] - 0s 2ms/step\n",
      "5/5 [==============================] - 0s 2ms/step\n",
      "5/5 [==============================] - 0s 2ms/step\n",
      "5/5 [==============================] - 0s 1ms/step\n",
      "5/5 [==============================] - 0s 2ms/step\n",
      "5/5 [==============================] - 0s 2ms/step\n",
      "5/5 [==============================] - 0s 2ms/step\n",
      "5/5 [==============================] - 0s 2ms/step\n",
      "5/5 [==============================] - 0s 2ms/step\n",
      "5/5 [==============================] - 0s 2ms/step\n",
      "5/5 [==============================] - 0s 741us/step\n",
      "5/5 [==============================] - 0s 4ms/step\n",
      "5/5 [==============================] - 0s 0s/step\n",
      "5/5 [==============================] - 0s 4ms/step\n",
      "5/5 [==============================] - 0s 0s/step\n",
      "5/5 [==============================] - 0s 2ms/step\n",
      "5/5 [==============================] - 0s 0s/step\n",
      "5/5 [==============================] - 0s 2ms/step\n",
      "5/5 [==============================] - 0s 1ms/step\n",
      "5/5 [==============================] - 0s 3ms/step\n",
      "5/5 [==============================] - 0s 3ms/step\n",
      "5/5 [==============================] - 0s 3ms/step\n",
      "5/5 [==============================] - 0s 5ms/step\n",
      "5/5 [==============================] - 0s 3ms/step\n",
      "5/5 [==============================] - 0s 3ms/step\n",
      "5/5 [==============================] - 0s 3ms/step\n",
      "5/5 [==============================] - 0s 5ms/step\n",
      "5/5 [==============================] - 0s 2ms/step\n",
      "5/5 [==============================] - 0s 1ms/step\n",
      "5/5 [==============================] - 0s 2ms/step\n",
      "5/5 [==============================] - 0s 2ms/step\n",
      "5/5 [==============================] - 0s 0s/step\n",
      "5/5 [==============================] - 0s 2ms/step\n",
      "5/5 [==============================] - 0s 2ms/step\n",
      "5/5 [==============================] - 0s 1ms/step\n",
      "5/5 [==============================] - 0s 2ms/step\n",
      "5/5 [==============================] - 0s 2ms/step\n",
      "5/5 [==============================] - 0s 2ms/step\n",
      "5/5 [==============================] - 0s 2ms/step\n",
      "5/5 [==============================] - 0s 2ms/step\n",
      "5/5 [==============================] - 0s 2ms/step\n",
      "5/5 [==============================] - 0s 2ms/step\n",
      "5/5 [==============================] - 0s 2ms/step\n",
      "5/5 [==============================] - 0s 2ms/step\n",
      "5/5 [==============================] - 0s 2ms/step\n",
      "5/5 [==============================] - 0s 2ms/step\n",
      "5/5 [==============================] - 0s 1ms/step\n",
      "5/5 [==============================] - 0s 2ms/step\n",
      "5/5 [==============================] - 0s 2ms/step\n",
      "5/5 [==============================] - 0s 371us/step\n",
      "5/5 [==============================] - 0s 4ms/step\n",
      "5/5 [==============================] - 0s 1ms/step\n",
      "5/5 [==============================] - 0s 4ms/step\n",
      "5/5 [==============================] - 0s 1ms/step\n",
      "5/5 [==============================] - 0s 2ms/step\n",
      "5/5 [==============================] - 0s 1ms/step\n",
      "5/5 [==============================] - 0s 2ms/step\n",
      "5/5 [==============================] - 0s 2ms/step\n",
      "5/5 [==============================] - 0s 2ms/step\n",
      "5/5 [==============================] - 0s 2ms/step\n",
      "5/5 [==============================] - 0s 4ms/step\n",
      "5/5 [==============================] - 0s 4ms/step\n",
      "5/5 [==============================] - 0s 4ms/step\n",
      "5/5 [==============================] - 0s 2ms/step\n",
      "5/5 [==============================] - 0s 2ms/step\n",
      "5/5 [==============================] - 0s 2ms/step\n",
      "5/5 [==============================] - 0s 1ms/step\n",
      "5/5 [==============================] - 0s 2ms/step\n",
      "5/5 [==============================] - 0s 2ms/step\n",
      "5/5 [==============================] - 0s 2ms/step\n",
      "5/5 [==============================] - 0s 2ms/step\n",
      "5/5 [==============================] - 0s 2ms/step\n",
      "5/5 [==============================] - 0s 2ms/step\n",
      "5/5 [==============================] - 0s 2ms/step\n",
      "5/5 [==============================] - 0s 2ms/step\n",
      "5/5 [==============================] - 0s 1ms/step\n",
      "5/5 [==============================] - 0s 2ms/step\n",
      "5/5 [==============================] - 0s 2ms/step\n",
      "5/5 [==============================] - 0s 2ms/step\n",
      "5/5 [==============================] - 0s 2ms/step\n",
      "5/5 [==============================] - 0s 2ms/step\n",
      "5/5 [==============================] - 0s 2ms/step\n",
      "5/5 [==============================] - 0s 2ms/step\n",
      "5/5 [==============================] - 0s 2ms/step\n",
      "5/5 [==============================] - 0s 2ms/step\n",
      "5/5 [==============================] - 0s 1ms/step\n",
      "5/5 [==============================] - 0s 2ms/step\n",
      "5/5 [==============================] - 0s 2ms/step\n",
      "5/5 [==============================] - 0s 2ms/step\n",
      "5/5 [==============================] - 0s 2ms/step\n",
      "5/5 [==============================] - 0s 5ms/step\n",
      "5/5 [==============================] - 0s 4ms/step\n",
      "5/5 [==============================] - 0s 0s/step\n",
      "5/5 [==============================] - 0s 0s/step\n",
      "5/5 [==============================] - 0s 0s/step\n",
      "5/5 [==============================] - 0s 1ms/step\n",
      "5/5 [==============================] - 0s 2ms/step\n",
      "5/5 [==============================] - 0s 5ms/step\n",
      "5/5 [==============================] - 0s 2ms/step\n",
      "5/5 [==============================] - 0s 2ms/step\n",
      "5/5 [==============================] - 0s 2ms/step\n",
      "5/5 [==============================] - 0s 2ms/step\n",
      "5/5 [==============================] - 0s 2ms/step\n",
      "5/5 [==============================] - 0s 0s/step\n",
      "5/5 [==============================] - 0s 4ms/step\n",
      "5/5 [==============================] - 0s 0s/step\n",
      "5/5 [==============================] - 0s 3ms/step\n",
      "5/5 [==============================] - 0s 2ms/step\n",
      "5/5 [==============================] - 0s 1ms/step\n",
      "5/5 [==============================] - 0s 2ms/step\n",
      "5/5 [==============================] - 0s 1ms/step\n",
      "5/5 [==============================] - 0s 2ms/step\n",
      "5/5 [==============================] - 0s 5ms/step\n",
      "5/5 [==============================] - 0s 4ms/step\n",
      "5/5 [==============================] - 0s 4ms/step\n",
      "5/5 [==============================] - 0s 0s/step\n",
      "5/5 [==============================] - 0s 4ms/step\n"
     ]
    }
   ],
   "source": [
    "import glob\n",
    "\n",
    "\n",
    "EKO_TEST = []\n",
    "\n",
    "for x in glob.glob('DATASET/DTS3000/TEST/EKO/*.txt'):\n",
    "  with open(x) as dat:\n",
    "    dat = dat.read()\n",
    "    for x in dat.split('\\n'):\n",
    "      EKO_TEST.append(x)\n",
    "\n",
    "########################      \n",
    "\n",
    "HEL_TEST = []\n",
    "\n",
    "for x in glob.glob('DATASET/DTS3000/TEST/HEL/*.txt'):\n",
    "  with open(x) as dat:\n",
    "    dat = dat.read()\n",
    "    for x in dat.split('\\n'):\n",
    "      HEL_TEST.append(x)\n",
    "\n",
    "########################   \n",
    "\n",
    "OLA_TEST = []\n",
    "\n",
    "for x in glob.glob('DATASET/DTS3000/TEST/OLA/*.txt'):\n",
    "  with open(x) as dat:\n",
    "    dat = dat.read()\n",
    "    for x in dat.split('\\n'):\n",
    "      OLA_TEST.append(x)\n",
    "\n",
    "########################   \n",
    "\n",
    "POL_TEST = []\n",
    "\n",
    "for x in glob.glob('DATASET/DTS3000/TEST/POL/*.txt'):\n",
    "  with open(x) as dat:\n",
    "    dat = dat.read()\n",
    "    for x in dat.split('\\n'):\n",
    "      POL_TEST.append(x)\n",
    "\n",
    "########################   \n",
    "\n",
    "EKO_TEST_REAL =  [0 for i in range(len(EKO_TEST))]\n",
    "EKO_TEST_PRE = []\n",
    "\n",
    "HEL_TEST_REAL =  [1 for i in range(len(HEL_TEST))]\n",
    "HEL_TEST_PRE = []\n",
    "\n",
    "OLA_TEST_REAL =  [2 for i in range(len(OLA_TEST))]\n",
    "OLA_TEST_PRE = []\n",
    "\n",
    "POL_TEST_REAL =  [3 for i in range(len(POL_TEST))]\n",
    "POL_TEST_PRE = []\n",
    "\n",
    "#export_model.predict(EKO_TEST)   \n",
    "\n",
    "for x in range(len(EKO_TEST)):\n",
    "    AA = (np.argmax(export_model.predict(EKO_TEST)[x]))\n",
    "    EKO_TEST_PRE.append(AA)\n",
    "\n",
    "for x in range(len(HEL_TEST)):\n",
    "    AA = (np.argmax(export_model.predict(HEL_TEST)[x]))\n",
    "    HEL_TEST_PRE.append(AA)\n",
    "\n",
    "for x in range(len(OLA_TEST)):\n",
    "    AA = (np.argmax(export_model.predict(OLA_TEST)[x]))\n",
    "    OLA_TEST_PRE.append(AA)    \n",
    "\n",
    "for x in range(len(POL_TEST)):\n",
    "    AA = (np.argmax(export_model.predict(POL_TEST)[x]))\n",
    "    POL_TEST_PRE.append(AA)        \n",
    "\n",
    "\n",
    "\n"
   ]
  },
  {
   "cell_type": "code",
   "execution_count": 67,
   "metadata": {},
   "outputs": [
    {
     "data": {
      "image/png": "[encoded data removed]",
      "text/plain": [
       "<Figure size 720x432 with 2 Axes>"
      ]
     },
     "metadata": {
      "needs_background": "light"
     },
     "output_type": "display_data"
    }
   ],
   "source": [
    "from sklearn.metrics import confusion_matrix\n",
    "\n",
    "\n",
    "# Define the true and predicted labels\n",
    "true_labels = EKO_TEST_REAL + HEL_TEST_REAL + OLA_TEST_REAL + POL_TEST_REAL\n",
    "predicted_labels = EKO_TEST_PRE + HEL_TEST_PRE + OLA_TEST_PRE + POL_TEST_PRE\n",
    "\n",
    "# Create the confusion matrix\n",
    "cm = confusion_matrix(true_labels, predicted_labels)\n",
    "\n",
    "# Convert the confusion matrix to a pandas DataFrame\n",
    "cm_df = pd.DataFrame(cm, index=['True_EKO', 'True_HEL', 'True_OLA', 'True_POL'], columns=['Predicted_EKO', 'Predicted_HEL', 'Predicted_OLA', 'Predicted_POL'])\n",
    "\n",
    "# Visualize the confusion matrix using Seaborn\n",
    "plt.figure(figsize=(10,6))\n",
    "sns.heatmap(cm_df, annot=True, cmap='Blues', fmt='g')\n",
    "\n",
    "# Add labels to the confusion matrix\n",
    "\n",
    "plt.xlabel('Predicted labels')\n",
    "plt.ylabel('True labels')\n",
    "plt.show()    "
   ]
  },
  {
   "cell_type": "markdown",
   "metadata": {
    "id": "6svL0N4585qT"
   },
   "source": [
    "Confusion matrix yang diberikan terdiri dari tiga kelas (class), yaitu kelas EKO, KESEHATAN, dan OLAHRAGA. Kolom merepresentasikan nilai prediksi dan baris merepresentasikan nilai sebenarnya. Oleh karena itu, diagonal utama dari matrix menunjukkan jumlah prediksi yang benar.\n",
    "\n",
    "Berdasarkan confusion matrix yang diberikan, dapat disimpulkan bahwa:\n",
    "\n",
    "Kelas pertama memiliki dua prediksi yang benar (true positive), sementara tidak ada prediksi yang salah (false positive) atau salah negatif (false negative) pada kelas ini.\n",
    "Kelas kedua memiliki tiga prediksi yang benar (true positive), sementara tidak ada prediksi yang salah (false positive) atau salah negatif (false negative) pada kelas ini.\n",
    "Kelas ketiga memiliki satu prediksi yang benar (true positive), sementara tidak ada prediksi yang salah (false positive) atau salah negatif (false negative) pada kelas ini.\n",
    "Dengan demikian, dapat disimpulkan bahwa model memiliki performa yang cukup baik untuk memprediksi tiga kelas yang ada, karena tidak terdapat nilai false positive atau false negative pada setiap kelasnya"
   ]
  },
  {
   "cell_type": "markdown",
   "metadata": {
    "id": "MtBm4-4qSLxi"
   },
   "source": [
    "# TABLE PEMBELAJARAN / LEARNING RATE"
   ]
  },
  {
   "cell_type": "code",
   "execution_count": 68,
   "metadata": {
    "id": "PiHR7Tv7grxa"
   },
   "outputs": [],
   "source": [
    "LOSS = [0.7776076197624207,0.5466572642326355,0.4511881172657013,0.41121599078178406,0.3235812485218048,0.20382441580295563,0.18509308993816376,0.1851392388343811]\n",
    "ACCURACY = [0.7973856329917908,0.843137264251709,0.8562091588973999,0.8562091588973999,0.9142857193946838,0.920634925365448,0.9238095283508301,0.9269841313362122]\n",
    "DATASET_RAW = [1000,1000,1000,1000,1500,1500,1500,1500]\n",
    "EPOCH = [150,300,450,600,150,300,450,600]\n",
    "\n",
    "BASIC = pd.DataFrame()\n",
    "BASIC['EPOCH'] = EPOCH\n",
    "BASIC['ACCURACY'] = ACCURACY\n",
    "BASIC['LOSS'] = LOSS\n",
    "BASIC['DATASET'] = DATASET_RAW\n"
   ]
  },
  {
   "cell_type": "code",
   "execution_count": 69,
   "metadata": {
    "colab": {
     "base_uri": "https://localhost:8080/",
     "height": 300
    },
    "id": "EmIR4KT6hjM_",
    "outputId": "80e996f2-0c8f-4063-e1c3-b37160653776"
   },
   "outputs": [
    {
     "data": {
      "text/html": [
       "<div>\n",
       "<style scoped>\n",
       "    .dataframe tbody tr th:only-of-type {\n",
       "        vertical-align: middle;\n",
       "    }\n",
       "\n",
       "    .dataframe tbody tr th {\n",
       "        vertical-align: top;\n",
       "    }\n",
       "\n",
       "    .dataframe thead th {\n",
       "        text-align: right;\n",
       "    }\n",
       "</style>\n",
       "<table border=\"1\" class=\"dataframe\">\n",
       "  <thead>\n",
       "    <tr style=\"text-align: right;\">\n",
       "      <th></th>\n",
       "      <th>EPOCH</th>\n",
       "      <th>ACCURACY</th>\n",
       "      <th>LOSS</th>\n",
       "      <th>DATASET</th>\n",
       "    </tr>\n",
       "  </thead>\n",
       "  <tbody>\n",
       "    <tr>\n",
       "      <th>0</th>\n",
       "      <td>150</td>\n",
       "      <td>0.797386</td>\n",
       "      <td>0.777608</td>\n",
       "      <td>1000</td>\n",
       "    </tr>\n",
       "    <tr>\n",
       "      <th>1</th>\n",
       "      <td>300</td>\n",
       "      <td>0.843137</td>\n",
       "      <td>0.546657</td>\n",
       "      <td>1000</td>\n",
       "    </tr>\n",
       "    <tr>\n",
       "      <th>2</th>\n",
       "      <td>450</td>\n",
       "      <td>0.856209</td>\n",
       "      <td>0.451188</td>\n",
       "      <td>1000</td>\n",
       "    </tr>\n",
       "    <tr>\n",
       "      <th>3</th>\n",
       "      <td>600</td>\n",
       "      <td>0.856209</td>\n",
       "      <td>0.411216</td>\n",
       "      <td>1000</td>\n",
       "    </tr>\n",
       "    <tr>\n",
       "      <th>4</th>\n",
       "      <td>150</td>\n",
       "      <td>0.914286</td>\n",
       "      <td>0.323581</td>\n",
       "      <td>1500</td>\n",
       "    </tr>\n",
       "    <tr>\n",
       "      <th>5</th>\n",
       "      <td>300</td>\n",
       "      <td>0.920635</td>\n",
       "      <td>0.203824</td>\n",
       "      <td>1500</td>\n",
       "    </tr>\n",
       "    <tr>\n",
       "      <th>6</th>\n",
       "      <td>450</td>\n",
       "      <td>0.923810</td>\n",
       "      <td>0.185093</td>\n",
       "      <td>1500</td>\n",
       "    </tr>\n",
       "    <tr>\n",
       "      <th>7</th>\n",
       "      <td>600</td>\n",
       "      <td>0.926984</td>\n",
       "      <td>0.185139</td>\n",
       "      <td>1500</td>\n",
       "    </tr>\n",
       "  </tbody>\n",
       "</table>\n",
       "</div>"
      ],
      "text/plain": [
       "   EPOCH  ACCURACY      LOSS  DATASET\n",
       "0    150  0.797386  0.777608     1000\n",
       "1    300  0.843137  0.546657     1000\n",
       "2    450  0.856209  0.451188     1000\n",
       "3    600  0.856209  0.411216     1000\n",
       "4    150  0.914286  0.323581     1500\n",
       "5    300  0.920635  0.203824     1500\n",
       "6    450  0.923810  0.185093     1500\n",
       "7    600  0.926984  0.185139     1500"
      ]
     },
     "metadata": {},
     "output_type": "display_data"
    }
   ],
   "source": [
    "display(BASIC)"
   ]
  },
  {
   "cell_type": "code",
   "execution_count": 70,
   "metadata": {
    "colab": {
     "base_uri": "https://localhost:8080/",
     "height": 279
    },
    "id": "3bKuqE7acO46",
    "outputId": "5ff73d71-b7af-466d-d2b7-c08085340b01"
   },
   "outputs": [
    {
     "data": {
      "image/png": "[encoded data removed]",
      "text/plain": [
       "<Figure size 720x432 with 1 Axes>"
      ]
     },
     "metadata": {
      "needs_background": "light"
     },
     "output_type": "display_data"
    }
   ],
   "source": [
    "plt.figure(figsize=(10,6))\n",
    "sns.lineplot(data=BASIC, x=\"EPOCH\", y=\"ACCURACY\")\n",
    "plt.show()"
   ]
  },
  {
   "cell_type": "markdown",
   "metadata": {
    "id": "GUXzGiSv7zPs"
   },
   "source": [
    "# Catatan Kesimpulan Sederhana"
   ]
  },
  {
   "cell_type": "markdown",
   "metadata": {
    "id": "qgq0Gmnh8dMn"
   },
   "source": [
    "Dari hasil eksperimen yang diberikan, dapat disimpulkan bahwa:\n",
    "\n",
    "1. Ukuran dataset yang lebih besar dan jumlah epoch yang lebih banyak cenderung menghasilkan akurasi yang lebih tinggi dan kerugian yang lebih rendah pada model yang dilatih.\n",
    "\n",
    "2. Nilai akurasi dan kerugian berbanding lurus dan terbalik dengan ukuran dataset dan jumlah epoch, masing-masing.\n",
    "3. Akurasi tertinggi dan kerugian terendah dicapai dengan menggunakan ukuran dataset terbesar dan jumlah epoch terbanyak.\n",
    "\n",
    "4. Peningkatan ukuran dataset dan jumlah epoch berdampak positif pada akurasi dan negatif pada loss model.\n",
    "5. Nilai akurasi dan loss model memiliki korelasi positif dan negatif dengan ukuran dataset dan jumlah epoch, masing-masing.\n",
    "\n",
    "6. Dalam eksperimen ini, kombinasi ukuran dataset terbesar dan jumlah epoch terbanyak menghasilkan nilai akurasi tertinggi dan nilai loss terendah.\n",
    "\n",
    "Temuan ini sejalan dengan praktik umum dalam machine learning, di mana ukuran dataset yang lebih besar dan lebih banyak epoch pelatihan umumnya menghasilkan performa model yang lebih baik."
   ]
  },
  {
   "cell_type": "code",
   "execution_count": null,
   "metadata": {
    "id": "mX0Srhbdyq6K"
   },
   "outputs": [],
   "source": []
  }
 ],
 "metadata": {
  "colab": {
   "provenance": []
  },
  "kernelspec": {
   "display_name": "Python 3",
   "language": "python",
   "name": "python3"
  },
  "language_info": {
   "codemirror_mode": {
    "name": "ipython",
    "version": 3
   },
   "file_extension": ".py",
   "mimetype": "text/x-python",
   "name": "python",
   "nbconvert_exporter": "python",
   "pygments_lexer": "ipython3",
   "version": "3.9.13"
  }
 },
 "nbformat": 4,
 "nbformat_minor": 4
}
